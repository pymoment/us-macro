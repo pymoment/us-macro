{
 "cells": [
  {
   "cell_type": "markdown",
   "metadata": {},
   "source": [
    "# Electricity Consumption\n",
    "\n",
    "---\n",
    "\n",
    "A look at electricity consumption, according to the Monthly Electric Power Industry Report (Form EIA-861M) from U.S. Energy Information Administration."
   ]
  },
  {
   "cell_type": "code",
   "execution_count": 1,
   "metadata": {
    "execution": {
     "iopub.execute_input": "2022-11-26T00:52:36.777287Z",
     "iopub.status.busy": "2022-11-26T00:52:36.776974Z",
     "iopub.status.idle": "2022-11-26T00:52:37.171761Z",
     "shell.execute_reply": "2022-11-26T00:52:37.171105Z"
    }
   },
   "outputs": [],
   "source": [
    "import pandas as pd\n",
    "import numpy as np\n",
    "import altair as alt"
   ]
  },
  {
   "cell_type": "code",
   "execution_count": 2,
   "metadata": {
    "execution": {
     "iopub.execute_input": "2022-11-26T00:52:37.175275Z",
     "iopub.status.busy": "2022-11-26T00:52:37.174818Z",
     "iopub.status.idle": "2022-11-26T00:52:37.183248Z",
     "shell.execute_reply": "2022-11-26T00:52:37.182108Z"
    }
   },
   "outputs": [],
   "source": [
    "from os import environ\n",
    "\n",
    "# Load the FRED API key - register for one here: \n",
    "# https://research.stlouisfed.org/useraccount/login/secure/\n",
    "try:\n",
    "    # for local execution\n",
    "    apiKeyFromFile = open(\"/Users/kyledunn/fredApiKey.txt\", \"r\").read().strip()\n",
    "except FileNotFoundError:\n",
    "    apiKeyFromFile = None\n",
    "    pass\n",
    "# for CI\n",
    "apiKey = environ.get(\"FRED_API_KEY\", apiKeyFromFile)\n",
    "\n",
    "from io import BytesIO\n",
    "from zipfile import ZipFile\n",
    "from urllib.request import urlopen\n",
    "    \n",
    "def getSeries(series=\"\", description=None, apiKey=apiKey):\n",
    "    \"\"\"\n",
    "    Fetch a data series from the St. Louis FED system (FRED)\n",
    "    and return it as a Pandas dataframe indexed by date\n",
    "    \"\"\"\n",
    "    baseUrl = \"https://api.stlouisfed.org\"\n",
    "    endpoint = \"/fred/series/observations?series_id={s}&realtime_end=9999-12-31&api_key={k}&file_type=txt\" \n",
    "    \n",
    "    response = urlopen(baseUrl + endpoint.format(s=series, k=apiKey))\n",
    "    zipfile = ZipFile(BytesIO(response.read()))\n",
    "    \n",
    "    filesInZip = zipfile.namelist()\n",
    "    \n",
    "    data = zipfile.open(filesInZip[1])\n",
    "\n",
    "    if description is None:\n",
    "        description = series\n",
    "        \n",
    "    df = pd.read_csv(data, sep=\"\\t\", header=None, skiprows=1,\n",
    "                       names=[\"date\", description, \"rt_start\", \"rt_end\"], na_values=\".\")\n",
    "    \n",
    "    df['date'] = pd.to_datetime(df.date)\n",
    "    \n",
    "    return df.set_index(\"date\")"
   ]
  },
  {
   "cell_type": "code",
   "execution_count": 3,
   "metadata": {
    "execution": {
     "iopub.execute_input": "2022-11-26T00:52:37.185764Z",
     "iopub.status.busy": "2022-11-26T00:52:37.185388Z",
     "iopub.status.idle": "2022-11-26T00:52:37.799490Z",
     "shell.execute_reply": "2022-11-26T00:52:37.798844Z"
    }
   },
   "outputs": [],
   "source": [
    "df_us_gdp = getSeries(\"GDPC1\", description=\"GDP\").resample(\"1Y\").last()"
   ]
  },
  {
   "cell_type": "code",
   "execution_count": 4,
   "metadata": {
    "execution": {
     "iopub.execute_input": "2022-11-26T00:52:37.802836Z",
     "iopub.status.busy": "2022-11-26T00:52:37.802469Z",
     "iopub.status.idle": "2022-11-26T00:52:40.406415Z",
     "shell.execute_reply": "2022-11-26T00:52:40.405605Z"
    }
   },
   "outputs": [],
   "source": [
    "df_elec = pd.read_excel(\"https://www.eia.gov/electricity/data/eia861m/xls/sales_revenue.xlsx\", engine='openpyxl')\n",
    "\n",
    "levels = []\n",
    "for c in df_elec.columns:\n",
    "    if \"Unnamed\" in c:\n",
    "        continue\n",
    "    else:\n",
    "        for i in range(4):\n",
    "            levels.append(c.title())\n",
    "            \n",
    "categories = [(l, \"{} [{}]\".format(m, u)) for m, u, l in zip(*df_elec.iloc[0:2, 4:].values, levels)]\n",
    "\n",
    "df_elec = df_elec.set_index(['Unnamed: 0', 'Unnamed: 1', 'Unnamed: 2', 'Unnamed: 3'])\n",
    "df_elec = df_elec.rename_axis([\"Year\", \"Month\", \"State\", \"Status\"])\n",
    "\n",
    "df_elec.columns = pd.MultiIndex.from_tuples(categories)\n",
    "df_elec = df_elec.iloc[2:-1]"
   ]
  },
  {
   "cell_type": "code",
   "execution_count": 5,
   "metadata": {
    "execution": {
     "iopub.execute_input": "2022-11-26T00:52:40.410228Z",
     "iopub.status.busy": "2022-11-26T00:52:40.409826Z",
     "iopub.status.idle": "2022-11-26T00:52:40.427466Z",
     "shell.execute_reply": "2022-11-26T00:52:40.426448Z"
    }
   },
   "outputs": [],
   "source": [
    "%%capture\n",
    "\n",
    "df_e = df_elec.reset_index(level=0)\n",
    "columns = [df_e.columns.to_list()[0], df_e.columns.to_list()[-3]]\n",
    "\n",
    "df_megawatts = df_e[columns].groupby(\"Year\").agg(\"sum\")\n",
    "df_megawatts.columns = ['Megawatt-hours']\n",
    "df_megawatts.index = pd.to_datetime(df_megawatts.index, format=\"%Y\")"
   ]
  },
  {
   "cell_type": "code",
   "execution_count": 6,
   "metadata": {
    "execution": {
     "iopub.execute_input": "2022-11-26T00:52:40.430526Z",
     "iopub.status.busy": "2022-11-26T00:52:40.430190Z",
     "iopub.status.idle": "2022-11-26T00:52:41.906571Z",
     "shell.execute_reply": "2022-11-26T00:52:41.905846Z"
    }
   },
   "outputs": [
    {
     "name": "stderr",
     "output_type": "stream",
     "text": [
      "/usr/share/miniconda/envs/ci/lib/python3.9/site-packages/altair/utils/core.py:317: FutureWarning: iteritems is deprecated and will be removed in a future version. Use .items instead.\n",
      "  for col_name, dtype in df.dtypes.iteritems():\n",
      "/usr/share/miniconda/envs/ci/lib/python3.9/site-packages/altair/utils/core.py:317: FutureWarning: iteritems is deprecated and will be removed in a future version. Use .items instead.\n",
      "  for col_name, dtype in df.dtypes.iteritems():\n"
     ]
    },
    {
     "data": {
      "text/html": [
       "\n",
       "<div id=\"altair-viz-14efa1d9f1fb4d2dba976d22b1c564ef\"></div>\n",
       "<script type=\"text/javascript\">\n",
       "  var VEGA_DEBUG = (typeof VEGA_DEBUG == \"undefined\") ? {} : VEGA_DEBUG;\n",
       "  (function(spec, embedOpt){\n",
       "    let outputDiv = document.currentScript.previousElementSibling;\n",
       "    if (outputDiv.id !== \"altair-viz-14efa1d9f1fb4d2dba976d22b1c564ef\") {\n",
       "      outputDiv = document.getElementById(\"altair-viz-14efa1d9f1fb4d2dba976d22b1c564ef\");\n",
       "    }\n",
       "    const paths = {\n",
       "      \"vega\": \"https://cdn.jsdelivr.net/npm//vega@5?noext\",\n",
       "      \"vega-lib\": \"https://cdn.jsdelivr.net/npm//vega-lib?noext\",\n",
       "      \"vega-lite\": \"https://cdn.jsdelivr.net/npm//vega-lite@4.17.0?noext\",\n",
       "      \"vega-embed\": \"https://cdn.jsdelivr.net/npm//vega-embed@6?noext\",\n",
       "    };\n",
       "\n",
       "    function maybeLoadScript(lib, version) {\n",
       "      var key = `${lib.replace(\"-\", \"\")}_version`;\n",
       "      return (VEGA_DEBUG[key] == version) ?\n",
       "        Promise.resolve(paths[lib]) :\n",
       "        new Promise(function(resolve, reject) {\n",
       "          var s = document.createElement('script');\n",
       "          document.getElementsByTagName(\"head\")[0].appendChild(s);\n",
       "          s.async = true;\n",
       "          s.onload = () => {\n",
       "            VEGA_DEBUG[key] = version;\n",
       "            return resolve(paths[lib]);\n",
       "          };\n",
       "          s.onerror = () => reject(`Error loading script: ${paths[lib]}`);\n",
       "          s.src = paths[lib];\n",
       "        });\n",
       "    }\n",
       "\n",
       "    function showError(err) {\n",
       "      outputDiv.innerHTML = `<div class=\"error\" style=\"color:red;\">${err}</div>`;\n",
       "      throw err;\n",
       "    }\n",
       "\n",
       "    function displayChart(vegaEmbed) {\n",
       "      vegaEmbed(outputDiv, spec, embedOpt)\n",
       "        .catch(err => showError(`Javascript Error: ${err.message}<br>This usually means there's a typo in your chart specification. See the javascript console for the full traceback.`));\n",
       "    }\n",
       "\n",
       "    if(typeof define === \"function\" && define.amd) {\n",
       "      requirejs.config({paths});\n",
       "      require([\"vega-embed\"], displayChart, err => showError(`Error loading script: ${err.message}`));\n",
       "    } else {\n",
       "      maybeLoadScript(\"vega\", \"5\")\n",
       "        .then(() => maybeLoadScript(\"vega-lite\", \"4.17.0\"))\n",
       "        .then(() => maybeLoadScript(\"vega-embed\", \"6\"))\n",
       "        .catch(showError)\n",
       "        .then(() => displayChart(vegaEmbed));\n",
       "    }\n",
       "  })({\"config\": {\"view\": {\"continuousWidth\": 400, \"continuousHeight\": 300}}, \"data\": {\"name\": \"data-61b655201ab6791cb3d5f6a4b8dec14c\"}, \"mark\": \"line\", \"background\": \"white\", \"encoding\": {\"x\": {\"axis\": {\"title\": \"\"}, \"field\": \"Year\", \"type\": \"temporal\"}, \"y\": {\"field\": \"Megawatt-hours\", \"type\": \"quantitative\"}}, \"height\": 450, \"title\": \"Total US Electricity Consumption (all sectors)\", \"width\": 700, \"$schema\": \"https://vega.github.io/schema/vega-lite/v4.17.0.json\", \"datasets\": {\"data-61b655201ab6791cb3d5f6a4b8dec14c\": [{\"Year\": \"2010-01-01T00:00:00\", \"Megawatt-hours\": 3754841377.0}, {\"Year\": \"2011-01-01T00:00:00\", \"Megawatt-hours\": 3749846184.0}, {\"Year\": \"2012-01-01T00:00:00\", \"Megawatt-hours\": 3694649791.0}, {\"Year\": \"2013-01-01T00:00:00\", \"Megawatt-hours\": 3724867829.370001}, {\"Year\": \"2014-01-01T00:00:00\", \"Megawatt-hours\": 3764700270.750001}, {\"Year\": \"2015-01-01T00:00:00\", \"Megawatt-hours\": 3758992392.5399966}, {\"Year\": \"2016-01-01T00:00:00\", \"Megawatt-hours\": 3762461627.649998}, {\"Year\": \"2017-01-01T00:00:00\", \"Megawatt-hours\": 3723355980.0500045}, {\"Year\": \"2018-01-01T00:00:00\", \"Megawatt-hours\": 3860118799.6400013}, {\"Year\": \"2019-01-01T00:00:00\", \"Megawatt-hours\": 3811150469.4899983}, {\"Year\": \"2020-01-01T00:00:00\", \"Megawatt-hours\": 3717674484.46}, {\"Year\": \"2021-01-01T00:00:00\", \"Megawatt-hours\": 3805874258.939997}, {\"Year\": \"2022-01-01T00:00:00\", \"Megawatt-hours\": 2993716032.4099984}]}}, {\"mode\": \"vega-lite\"});\n",
       "</script>"
      ],
      "text/plain": [
       "alt.Chart(...)"
      ]
     },
     "metadata": {},
     "output_type": "display_data"
    }
   ],
   "source": [
    "c = alt.Chart(df_megawatts.reset_index()).mark_line().encode(\n",
    "    alt.X('Year:T', axis=alt.Axis(title='')),\n",
    "    alt.Y('Megawatt-hours:Q')\n",
    ").properties(\n",
    "    title='Total US Electricity Consumption (all sectors)',\n",
    "    height=450,\n",
    "    width=700,\n",
    "    background='white'\n",
    ")\n",
    "\n",
    "c.save(\"electricity.png\")\n",
    "\n",
    "c.display()"
   ]
  },
  {
   "cell_type": "code",
   "execution_count": 7,
   "metadata": {
    "execution": {
     "iopub.execute_input": "2022-11-26T00:52:41.910236Z",
     "iopub.status.busy": "2022-11-26T00:52:41.909808Z",
     "iopub.status.idle": "2022-11-26T00:52:42.243758Z",
     "shell.execute_reply": "2022-11-26T00:52:42.242439Z"
    }
   },
   "outputs": [
    {
     "name": "stderr",
     "output_type": "stream",
     "text": [
      "/usr/share/miniconda/envs/ci/lib/python3.9/site-packages/altair/utils/core.py:317: FutureWarning: iteritems is deprecated and will be removed in a future version. Use .items instead.\n",
      "  for col_name, dtype in df.dtypes.iteritems():\n"
     ]
    }
   ],
   "source": [
    "step = 120\n",
    "overlap = 1\n",
    "\n",
    "def doRidgeLineFor(df, x, y, row, title='US Growth of Electricity Consumption by Sector'):\n",
    "    return alt.Chart(df, height=step).transform_joinaggregate(\n",
    "        mean_val=f'mean({x})', groupby=[row]\n",
    "    ).mark_area(\n",
    "        interpolate='monotone',\n",
    "        fillOpacity=0.9,\n",
    "        stroke='lightgray',\n",
    "        strokeWidth=0.5\n",
    "    ).encode(\n",
    "        alt.X(f'{x}:T', title=''),\n",
    "        alt.Y(\n",
    "            f'{y}:Q',\n",
    "            scale=alt.Scale(range=[step, -step * overlap]),\n",
    "            axis=None\n",
    "        ),\n",
    "        alt.Fill(\n",
    "            f'{row}:N',\n",
    "            title='Sector',\n",
    "            #legend=None,\n",
    "            scale=alt.Scale(scheme='accent')\n",
    "        ),\n",
    "        tooltip=[alt.Tooltip(f'{x}:T'), alt.Tooltip(f'{row}:N'), alt.Tooltip(f'{y}:Q', format=',.02f')]\n",
    "    ).facet(\n",
    "        row=alt.Row(\n",
    "            f'{row}:N',\n",
    "            title=None,\n",
    "            header=alt.Header(labelColor='white') #, labelAnchor='end')\n",
    "        )\n",
    "    ).properties(\n",
    "        title=title,\n",
    "        bounds='flush'\n",
    "    ).configure_facet(\n",
    "        spacing=0\n",
    "    ).configure_view(\n",
    "        stroke=None,\n",
    "        width=750\n",
    "    ).configure_title(\n",
    "        anchor='middle'\n",
    "    )\n",
    "    \n",
    "df_elec_yoy = df_e.copy().reset_index()\n",
    "\n",
    "sectors = [c for c in df_e.columns.to_list() if \"Sales\" in c[1] and c[0] not in ['Total', 'Transportation', 'Other']]\n",
    "\n",
    "df_elec_yoy['dt'] = pd.to_datetime(df_elec_yoy['Year'].apply(str) + '-' + df_elec_yoy['Month'].apply(str), format=\"%Y-%m\")\n",
    "\n",
    "df_elec_yoy[sectors] = df_elec_yoy[sectors].applymap(lambda v: pd.to_numeric(v, errors='coerce'))\n",
    "\n",
    "df_elec_yoy = df_elec_yoy.set_index('dt')[sectors]\\\n",
    "                    .groupby([\"dt\"])\\\n",
    "                    .agg(sum)\\\n",
    "                    .pct_change(12)\\\n",
    "                    .apply(lambda v: v * 100)\\\n",
    "                    .reset_index()\n",
    "\n",
    "\"\"\"    \n",
    "c = alt.Chart(df_elec_yoy.melt(id_vars='dt').dropna()).mark_bar(width=1.5).encode(\n",
    "    alt.X('dt:T', axis=alt.Axis(title='')),\n",
    "    alt.Y('value:Q', axis=alt.Axis(title='Year-over-year Growth [%]')),\n",
    "    alt.Row('variable_0:N', title='Sector'),\n",
    "    alt.Color('variable_0:N', title='Sector'),\n",
    "    tooltip=[alt.Tooltip('dt:T', format='%b %Y'), alt.Tooltip('value:Q', format=\",.02\")]\n",
    ").properties(\n",
    "    title='US Growth of Electricity Consumption by Sector',\n",
    "    width=700,\n",
    "    background='white'\n",
    ")\n",
    "\"\"\";\n",
    "\n",
    "c = doRidgeLineFor(df_elec_yoy.melt(id_vars='dt')[['dt', 'variable_0', 'value']].dropna(), 'dt', 'value', 'variable_0')\n",
    "c.save('electricity.png')"
   ]
  },
  {
   "cell_type": "code",
   "execution_count": 8,
   "metadata": {
    "execution": {
     "iopub.execute_input": "2022-11-26T00:52:42.247341Z",
     "iopub.status.busy": "2022-11-26T00:52:42.246884Z",
     "iopub.status.idle": "2022-11-26T00:52:42.275967Z",
     "shell.execute_reply": "2022-11-26T00:52:42.275419Z"
    }
   },
   "outputs": [
    {
     "data": {
      "text/html": [
       "\n",
       "<div id=\"altair-viz-5e505b07fc3d4ff9983350663c3e4e14\"></div>\n",
       "<script type=\"text/javascript\">\n",
       "  var VEGA_DEBUG = (typeof VEGA_DEBUG == \"undefined\") ? {} : VEGA_DEBUG;\n",
       "  (function(spec, embedOpt){\n",
       "    let outputDiv = document.currentScript.previousElementSibling;\n",
       "    if (outputDiv.id !== \"altair-viz-5e505b07fc3d4ff9983350663c3e4e14\") {\n",
       "      outputDiv = document.getElementById(\"altair-viz-5e505b07fc3d4ff9983350663c3e4e14\");\n",
       "    }\n",
       "    const paths = {\n",
       "      \"vega\": \"https://cdn.jsdelivr.net/npm//vega@5?noext\",\n",
       "      \"vega-lib\": \"https://cdn.jsdelivr.net/npm//vega-lib?noext\",\n",
       "      \"vega-lite\": \"https://cdn.jsdelivr.net/npm//vega-lite@4.17.0?noext\",\n",
       "      \"vega-embed\": \"https://cdn.jsdelivr.net/npm//vega-embed@6?noext\",\n",
       "    };\n",
       "\n",
       "    function maybeLoadScript(lib, version) {\n",
       "      var key = `${lib.replace(\"-\", \"\")}_version`;\n",
       "      return (VEGA_DEBUG[key] == version) ?\n",
       "        Promise.resolve(paths[lib]) :\n",
       "        new Promise(function(resolve, reject) {\n",
       "          var s = document.createElement('script');\n",
       "          document.getElementsByTagName(\"head\")[0].appendChild(s);\n",
       "          s.async = true;\n",
       "          s.onload = () => {\n",
       "            VEGA_DEBUG[key] = version;\n",
       "            return resolve(paths[lib]);\n",
       "          };\n",
       "          s.onerror = () => reject(`Error loading script: ${paths[lib]}`);\n",
       "          s.src = paths[lib];\n",
       "        });\n",
       "    }\n",
       "\n",
       "    function showError(err) {\n",
       "      outputDiv.innerHTML = `<div class=\"error\" style=\"color:red;\">${err}</div>`;\n",
       "      throw err;\n",
       "    }\n",
       "\n",
       "    function displayChart(vegaEmbed) {\n",
       "      vegaEmbed(outputDiv, spec, embedOpt)\n",
       "        .catch(err => showError(`Javascript Error: ${err.message}<br>This usually means there's a typo in your chart specification. See the javascript console for the full traceback.`));\n",
       "    }\n",
       "\n",
       "    if(typeof define === \"function\" && define.amd) {\n",
       "      requirejs.config({paths});\n",
       "      require([\"vega-embed\"], displayChart, err => showError(`Error loading script: ${err.message}`));\n",
       "    } else {\n",
       "      maybeLoadScript(\"vega\", \"5\")\n",
       "        .then(() => maybeLoadScript(\"vega-lite\", \"4.17.0\"))\n",
       "        .then(() => maybeLoadScript(\"vega-embed\", \"6\"))\n",
       "        .catch(showError)\n",
       "        .then(() => displayChart(vegaEmbed));\n",
       "    }\n",
       "  })({\"config\": {\"view\": {\"continuousWidth\": 400, \"continuousHeight\": 300, \"stroke\": null, \"width\": 750}, \"facet\": {\"spacing\": 0}, \"title\": {\"anchor\": \"middle\"}}, \"data\": {\"name\": \"data-d78249eb8a9ce55666b470c9db6a7cee\"}, \"facet\": {\"row\": {\"field\": \"variable_0\", \"header\": {\"labelColor\": \"white\"}, \"title\": null, \"type\": \"nominal\"}}, \"spec\": {\"mark\": {\"type\": \"area\", \"fillOpacity\": 0.9, \"interpolate\": \"monotone\", \"stroke\": \"lightgray\", \"strokeWidth\": 0.5}, \"encoding\": {\"fill\": {\"field\": \"variable_0\", \"scale\": {\"scheme\": \"accent\"}, \"title\": \"Sector\", \"type\": \"nominal\"}, \"tooltip\": [{\"field\": \"dt\", \"type\": \"temporal\"}, {\"field\": \"variable_0\", \"type\": \"nominal\"}, {\"field\": \"value\", \"format\": \",.02f\", \"type\": \"quantitative\"}], \"x\": {\"field\": \"dt\", \"title\": \"\", \"type\": \"temporal\"}, \"y\": {\"axis\": null, \"field\": \"value\", \"scale\": {\"range\": [120, -120]}, \"type\": \"quantitative\"}}, \"height\": 120, \"transform\": [{\"joinaggregate\": [{\"op\": \"mean\", \"field\": \"dt\", \"as\": \"mean_val\"}], \"groupby\": [\"variable_0\"]}]}, \"bounds\": \"flush\", \"title\": \"US Growth of Electricity Consumption by Sector\", \"$schema\": \"https://vega.github.io/schema/vega-lite/v4.17.0.json\", \"datasets\": {\"data-d78249eb8a9ce55666b470c9db6a7cee\": [{\"dt\": \"2011-01-01T00:00:00\", \"variable_0\": \"Residential\", \"value\": -1.6530115591419259}, {\"dt\": \"2011-02-01T00:00:00\", \"variable_0\": \"Residential\", \"value\": -2.2225867065897575}, {\"dt\": \"2011-03-01T00:00:00\", \"variable_0\": \"Residential\", \"value\": -6.143533615445673}, {\"dt\": \"2011-04-01T00:00:00\", \"variable_0\": \"Residential\", \"value\": 6.422974276630855}, {\"dt\": \"2011-05-01T00:00:00\", \"variable_0\": \"Residential\", \"value\": 3.0008475269120094}, {\"dt\": \"2011-06-01T00:00:00\", \"variable_0\": \"Residential\", \"value\": -1.1868477377013797}, {\"dt\": \"2011-07-01T00:00:00\", \"variable_0\": \"Residential\", \"value\": 0.025991553759974195}, {\"dt\": \"2011-08-01T00:00:00\", \"variable_0\": \"Residential\", \"value\": -0.2042752336546494}, {\"dt\": \"2011-09-01T00:00:00\", \"variable_0\": \"Residential\", \"value\": -1.4955820442983714}, {\"dt\": \"2011-10-01T00:00:00\", \"variable_0\": \"Residential\", \"value\": -2.1749475224617787}, {\"dt\": \"2011-11-01T00:00:00\", \"variable_0\": \"Residential\", \"value\": 0.0583441580814581}, {\"dt\": \"2011-12-01T00:00:00\", \"variable_0\": \"Residential\", \"value\": -10.516463602972381}, {\"dt\": \"2012-01-01T00:00:00\", \"variable_0\": \"Residential\", \"value\": -13.22210194082537}, {\"dt\": \"2012-02-01T00:00:00\", \"variable_0\": \"Residential\", \"value\": -10.102923011255049}, {\"dt\": \"2012-03-01T00:00:00\", \"variable_0\": \"Residential\", \"value\": -5.299587670379335}, {\"dt\": \"2012-04-01T00:00:00\", \"variable_0\": \"Residential\", \"value\": -5.974737666536178}, {\"dt\": \"2012-05-01T00:00:00\", \"variable_0\": \"Residential\", \"value\": 3.2818543726987004}, {\"dt\": \"2012-06-01T00:00:00\", \"variable_0\": \"Residential\", \"value\": -2.4198973091434484}, {\"dt\": \"2012-07-01T00:00:00\", \"variable_0\": \"Residential\", \"value\": -0.09684550306978679}, {\"dt\": \"2012-08-01T00:00:00\", \"variable_0\": \"Residential\", \"value\": -3.7711309384716896}, {\"dt\": \"2012-09-01T00:00:00\", \"variable_0\": \"Residential\", \"value\": -3.168327034456475}, {\"dt\": \"2012-10-01T00:00:00\", \"variable_0\": \"Residential\", \"value\": 2.2036394308110996}, {\"dt\": \"2012-11-01T00:00:00\", \"variable_0\": \"Residential\", \"value\": 4.2208925361125305}, {\"dt\": \"2012-12-01T00:00:00\", \"variable_0\": \"Residential\", \"value\": -1.8509567343240607}, {\"dt\": \"2013-01-01T00:00:00\", \"variable_0\": \"Residential\", \"value\": 4.689613902067036}, {\"dt\": \"2013-02-01T00:00:00\", \"variable_0\": \"Residential\", \"value\": 4.7589853699391504}, {\"dt\": \"2013-03-01T00:00:00\", \"variable_0\": \"Residential\", \"value\": 12.816852663076306}, {\"dt\": \"2013-04-01T00:00:00\", \"variable_0\": \"Residential\", \"value\": 8.441963862610692}, {\"dt\": \"2013-05-01T00:00:00\", \"variable_0\": \"Residential\", \"value\": -5.652915749716092}, {\"dt\": \"2013-06-01T00:00:00\", \"variable_0\": \"Residential\", \"value\": -4.0281923742413905}, {\"dt\": \"2013-07-01T00:00:00\", \"variable_0\": \"Residential\", \"value\": -6.93775836574927}, {\"dt\": \"2013-08-01T00:00:00\", \"variable_0\": \"Residential\", \"value\": -6.675616583108379}, {\"dt\": \"2013-09-01T00:00:00\", \"variable_0\": \"Residential\", \"value\": 2.1777707265142388}, {\"dt\": \"2013-10-01T00:00:00\", \"variable_0\": \"Residential\", \"value\": 2.3001893514739136}, {\"dt\": \"2013-11-01T00:00:00\", \"variable_0\": \"Residential\", \"value\": 0.7707067331030437}, {\"dt\": \"2013-12-01T00:00:00\", \"variable_0\": \"Residential\", \"value\": 12.94226305708972}, {\"dt\": \"2014-01-01T00:00:00\", \"variable_0\": \"Residential\", \"value\": 11.174733817336868}, {\"dt\": \"2014-02-01T00:00:00\", \"variable_0\": \"Residential\", \"value\": 13.580536880382454}, {\"dt\": \"2014-03-01T00:00:00\", \"variable_0\": \"Residential\", \"value\": 1.9055675759725554}, {\"dt\": \"2014-04-01T00:00:00\", \"variable_0\": \"Residential\", \"value\": -3.4028753678316037}, {\"dt\": \"2014-05-01T00:00:00\", \"variable_0\": \"Residential\", \"value\": 0.5622027259374107}, {\"dt\": \"2014-06-01T00:00:00\", \"variable_0\": \"Residential\", \"value\": 0.056729771864327816}, {\"dt\": \"2014-07-01T00:00:00\", \"variable_0\": \"Residential\", \"value\": -4.745605757100235}, {\"dt\": \"2014-08-01T00:00:00\", \"variable_0\": \"Residential\", \"value\": -1.6189993140118708}, {\"dt\": \"2014-09-01T00:00:00\", \"variable_0\": \"Residential\", \"value\": -0.5582877005194109}, {\"dt\": \"2014-10-01T00:00:00\", \"variable_0\": \"Residential\", \"value\": -0.8649080924143515}, {\"dt\": \"2014-11-01T00:00:00\", \"variable_0\": \"Residential\", \"value\": 1.6156182409625908}, {\"dt\": \"2014-12-01T00:00:00\", \"variable_0\": \"Residential\", \"value\": -6.331464639363061}, {\"dt\": \"2015-01-01T00:00:00\", \"variable_0\": \"Residential\", \"value\": -5.969897766267485}, {\"dt\": \"2015-02-01T00:00:00\", \"variable_0\": \"Residential\", \"value\": -3.609748767868415}, {\"dt\": \"2015-03-01T00:00:00\", \"variable_0\": \"Residential\", \"value\": 2.5687072198780525}, {\"dt\": \"2015-04-01T00:00:00\", \"variable_0\": \"Residential\", \"value\": -2.2651792224527845}, {\"dt\": \"2015-05-01T00:00:00\", \"variable_0\": \"Residential\", \"value\": -0.5915117390962621}, {\"dt\": \"2015-06-01T00:00:00\", \"variable_0\": \"Residential\", \"value\": 1.9065942283644999}, {\"dt\": \"2015-07-01T00:00:00\", \"variable_0\": \"Residential\", \"value\": 6.575534727252053}, {\"dt\": \"2015-08-01T00:00:00\", \"variable_0\": \"Residential\", \"value\": 6.3942887091632095}, {\"dt\": \"2015-09-01T00:00:00\", \"variable_0\": \"Residential\", \"value\": 3.8721772216151473}, {\"dt\": \"2015-10-01T00:00:00\", \"variable_0\": \"Residential\", \"value\": 1.337614264034448}, {\"dt\": \"2015-11-01T00:00:00\", \"variable_0\": \"Residential\", \"value\": -6.84321165406635}, {\"dt\": \"2015-12-01T00:00:00\", \"variable_0\": \"Residential\", \"value\": -7.558059434753983}, {\"dt\": \"2016-01-01T00:00:00\", \"variable_0\": \"Residential\", \"value\": -4.930872750337844}, {\"dt\": \"2016-02-01T00:00:00\", \"variable_0\": \"Residential\", \"value\": -6.361789376459903}, {\"dt\": \"2016-03-01T00:00:00\", \"variable_0\": \"Residential\", \"value\": -14.458438810632545}, {\"dt\": \"2016-04-01T00:00:00\", \"variable_0\": \"Residential\", \"value\": -2.1672559385482515}, {\"dt\": \"2016-05-01T00:00:00\", \"variable_0\": \"Residential\", \"value\": -1.0114519966081592}, {\"dt\": \"2016-06-01T00:00:00\", \"variable_0\": \"Residential\", \"value\": 4.082706607452846}, {\"dt\": \"2016-07-01T00:00:00\", \"variable_0\": \"Residential\", \"value\": 5.732083017277945}, {\"dt\": \"2016-08-01T00:00:00\", \"variable_0\": \"Residential\", \"value\": 8.252683178865428}, {\"dt\": \"2016-09-01T00:00:00\", \"variable_0\": \"Residential\", \"value\": 3.1465240205281075}, {\"dt\": \"2016-10-01T00:00:00\", \"variable_0\": \"Residential\", \"value\": 2.173064349534881}, {\"dt\": \"2016-11-01T00:00:00\", \"variable_0\": \"Residential\", \"value\": 0.6110877907046897}, {\"dt\": \"2016-12-01T00:00:00\", \"variable_0\": \"Residential\", \"value\": 8.606054059741641}, {\"dt\": \"2017-01-01T00:00:00\", \"variable_0\": \"Residential\", \"value\": -1.343304017231739}, {\"dt\": \"2017-02-01T00:00:00\", \"variable_0\": \"Residential\", \"value\": -12.92796119197057}, {\"dt\": \"2017-03-01T00:00:00\", \"variable_0\": \"Residential\", \"value\": 2.86245907786844}, {\"dt\": \"2017-04-01T00:00:00\", \"variable_0\": \"Residential\", \"value\": 2.810564133497939}, {\"dt\": \"2017-05-01T00:00:00\", \"variable_0\": \"Residential\", \"value\": 4.334621965133145}, {\"dt\": \"2017-06-01T00:00:00\", \"variable_0\": \"Residential\", \"value\": -2.1308554190263784}, {\"dt\": \"2017-07-01T00:00:00\", \"variable_0\": \"Residential\", \"value\": -2.920060059716423}, {\"dt\": \"2017-08-01T00:00:00\", \"variable_0\": \"Residential\", \"value\": -9.226678702567547}, {\"dt\": \"2017-09-01T00:00:00\", \"variable_0\": \"Residential\", \"value\": -8.181748477503369}, {\"dt\": \"2017-10-01T00:00:00\", \"variable_0\": \"Residential\", \"value\": 1.2837194065304036}, {\"dt\": \"2017-11-01T00:00:00\", \"variable_0\": \"Residential\", \"value\": 5.444284986739056}, {\"dt\": \"2017-12-01T00:00:00\", \"variable_0\": \"Residential\", \"value\": 0.5967642095723313}, {\"dt\": \"2018-01-01T00:00:00\", \"variable_0\": \"Residential\", \"value\": 15.250284638562794}, {\"dt\": \"2018-02-01T00:00:00\", \"variable_0\": \"Residential\", \"value\": 12.660794333777915}, {\"dt\": \"2018-03-01T00:00:00\", \"variable_0\": \"Residential\", \"value\": 3.999431891515237}, {\"dt\": \"2018-04-01T00:00:00\", \"variable_0\": \"Residential\", \"value\": 5.212906198640588}, {\"dt\": \"2018-05-01T00:00:00\", \"variable_0\": \"Residential\", \"value\": 5.664434147326158}, {\"dt\": \"2018-06-01T00:00:00\", \"variable_0\": \"Residential\", \"value\": 6.01418635350135}, {\"dt\": \"2018-07-01T00:00:00\", \"variable_0\": \"Residential\", \"value\": 2.445516278607962}, {\"dt\": \"2018-08-01T00:00:00\", \"variable_0\": \"Residential\", \"value\": 8.090851230813744}, {\"dt\": \"2018-09-01T00:00:00\", \"variable_0\": \"Residential\", \"value\": 8.529496704118422}, {\"dt\": \"2018-10-01T00:00:00\", \"variable_0\": \"Residential\", \"value\": 4.122066825950221}, {\"dt\": \"2018-11-01T00:00:00\", \"variable_0\": \"Residential\", \"value\": 5.563094152450154}, {\"dt\": \"2018-12-01T00:00:00\", \"variable_0\": \"Residential\", \"value\": 0.9640044320663899}, {\"dt\": \"2019-01-01T00:00:00\", \"variable_0\": \"Residential\", \"value\": -10.475729184293648}, {\"dt\": \"2019-02-01T00:00:00\", \"variable_0\": \"Residential\", \"value\": 2.5110725905333364}, {\"dt\": \"2019-03-01T00:00:00\", \"variable_0\": \"Residential\", \"value\": 5.023989975282284}, {\"dt\": \"2019-04-01T00:00:00\", \"variable_0\": \"Residential\", \"value\": -5.311533920697487}, {\"dt\": \"2019-05-01T00:00:00\", \"variable_0\": \"Residential\", \"value\": -3.3868259842172566}, {\"dt\": \"2019-06-01T00:00:00\", \"variable_0\": \"Residential\", \"value\": -7.541172719036493}, {\"dt\": \"2019-07-01T00:00:00\", \"variable_0\": \"Residential\", \"value\": 0.11888392373697876}, {\"dt\": \"2019-08-01T00:00:00\", \"variable_0\": \"Residential\", \"value\": -2.22395508216493}, {\"dt\": \"2019-09-01T00:00:00\", \"variable_0\": \"Residential\", \"value\": 2.0609046981838075}, {\"dt\": \"2019-10-01T00:00:00\", \"variable_0\": \"Residential\", \"value\": 0.8857855246959367}, {\"dt\": \"2019-11-01T00:00:00\", \"variable_0\": \"Residential\", \"value\": -1.2884727425617637}, {\"dt\": \"2019-12-01T00:00:00\", \"variable_0\": \"Residential\", \"value\": -1.7069793551048873}, {\"dt\": \"2020-01-01T00:00:00\", \"variable_0\": \"Residential\", \"value\": -6.657291926949438}, {\"dt\": \"2020-02-01T00:00:00\", \"variable_0\": \"Residential\", \"value\": -3.846323353586123}, {\"dt\": \"2020-03-01T00:00:00\", \"variable_0\": \"Residential\", \"value\": -7.41569374726433}, {\"dt\": \"2020-04-01T00:00:00\", \"variable_0\": \"Residential\", \"value\": 8.160068639133367}, {\"dt\": \"2020-05-01T00:00:00\", \"variable_0\": \"Residential\", \"value\": 5.332219022359808}, {\"dt\": \"2020-06-01T00:00:00\", \"variable_0\": \"Residential\", \"value\": 9.50902976589747}, {\"dt\": \"2020-07-01T00:00:00\", \"variable_0\": \"Residential\", \"value\": 8.689008199684633}, {\"dt\": \"2020-08-01T00:00:00\", \"variable_0\": \"Residential\", \"value\": 5.9007933200336815}, {\"dt\": \"2020-09-01T00:00:00\", \"variable_0\": \"Residential\", \"value\": -2.844818083856804}, {\"dt\": \"2020-10-01T00:00:00\", \"variable_0\": \"Residential\", \"value\": -2.2993842884894367}, {\"dt\": \"2020-11-01T00:00:00\", \"variable_0\": \"Residential\", \"value\": -2.7251400569320405}, {\"dt\": \"2020-12-01T00:00:00\", \"variable_0\": \"Residential\", \"value\": 7.171142831021493}, {\"dt\": \"2021-01-01T00:00:00\", \"variable_0\": \"Residential\", \"value\": 9.836002686591282}, {\"dt\": \"2021-02-01T00:00:00\", \"variable_0\": \"Residential\", \"value\": 12.86684335333148}, {\"dt\": \"2021-03-01T00:00:00\", \"variable_0\": \"Residential\", \"value\": 9.706050421655132}, {\"dt\": \"2021-04-01T00:00:00\", \"variable_0\": \"Residential\", \"value\": -3.9569916922440163}, {\"dt\": \"2021-05-01T00:00:00\", \"variable_0\": \"Residential\", \"value\": -4.277638441698239}, {\"dt\": \"2021-06-01T00:00:00\", \"variable_0\": \"Residential\", \"value\": 0.46787529702598807}, {\"dt\": \"2021-07-01T00:00:00\", \"variable_0\": \"Residential\", \"value\": -7.548147795239402}, {\"dt\": \"2021-08-01T00:00:00\", \"variable_0\": \"Residential\", \"value\": -0.7218957585031327}, {\"dt\": \"2021-09-01T00:00:00\", \"variable_0\": \"Residential\", \"value\": 2.5718280963988427}, {\"dt\": \"2021-10-01T00:00:00\", \"variable_0\": \"Residential\", \"value\": -1.4422005779946345}, {\"dt\": \"2021-11-01T00:00:00\", \"variable_0\": \"Residential\", \"value\": 0.9331937160091064}, {\"dt\": \"2021-12-01T00:00:00\", \"variable_0\": \"Residential\", \"value\": -9.298075082009783}, {\"dt\": \"2022-01-01T00:00:00\", \"variable_0\": \"Residential\", \"value\": 2.8615640062714}, {\"dt\": \"2022-02-01T00:00:00\", \"variable_0\": \"Residential\", \"value\": -0.25242927529280923}, {\"dt\": \"2022-03-01T00:00:00\", \"variable_0\": \"Residential\", \"value\": -1.8106682770662852}, {\"dt\": \"2022-04-01T00:00:00\", \"variable_0\": \"Residential\", \"value\": 4.855046147434061}, {\"dt\": \"2022-05-01T00:00:00\", \"variable_0\": \"Residential\", \"value\": 9.214986250169055}, {\"dt\": \"2022-06-01T00:00:00\", \"variable_0\": \"Residential\", \"value\": 3.709157789462103}, {\"dt\": \"2022-07-01T00:00:00\", \"variable_0\": \"Residential\", \"value\": 6.8811551988787745}, {\"dt\": \"2022-08-01T00:00:00\", \"variable_0\": \"Residential\", \"value\": 2.0169162314824796}, {\"dt\": \"2022-09-01T00:00:00\", \"variable_0\": \"Residential\", \"value\": -0.7180290265319855}, {\"dt\": \"2011-01-01T00:00:00\", \"variable_0\": \"Commercial\", \"value\": 0.12035274788668726}, {\"dt\": \"2011-02-01T00:00:00\", \"variable_0\": \"Commercial\", \"value\": -0.9443826785988874}, {\"dt\": \"2011-03-01T00:00:00\", \"variable_0\": \"Commercial\", \"value\": 2.4625785323701965}, {\"dt\": \"2011-04-01T00:00:00\", \"variable_0\": \"Commercial\", \"value\": 0.7173628867293669}, {\"dt\": \"2011-05-01T00:00:00\", \"variable_0\": \"Commercial\", \"value\": 1.3679987620853096}, {\"dt\": \"2011-06-01T00:00:00\", \"variable_0\": \"Commercial\", \"value\": -1.017570884114416}, {\"dt\": \"2011-07-01T00:00:00\", \"variable_0\": \"Commercial\", \"value\": 0.11059382377942573}, {\"dt\": \"2011-08-01T00:00:00\", \"variable_0\": \"Commercial\", \"value\": 0.15650363614889695}, {\"dt\": \"2011-09-01T00:00:00\", \"variable_0\": \"Commercial\", \"value\": -0.9950038412168571}, {\"dt\": \"2011-10-01T00:00:00\", \"variable_0\": \"Commercial\", \"value\": 0.174037069853461}, {\"dt\": \"2011-11-01T00:00:00\", \"variable_0\": \"Commercial\", \"value\": -0.9520578224325171}, {\"dt\": \"2011-12-01T00:00:00\", \"variable_0\": \"Commercial\", \"value\": -2.9254254051786277}, {\"dt\": \"2012-01-01T00:00:00\", \"variable_0\": \"Commercial\", \"value\": -2.7818054678886317}, {\"dt\": \"2012-02-01T00:00:00\", \"variable_0\": \"Commercial\", \"value\": 0.28517206279961016}, {\"dt\": \"2012-03-01T00:00:00\", \"variable_0\": \"Commercial\", \"value\": -1.7098458204188205}, {\"dt\": \"2012-04-01T00:00:00\", \"variable_0\": \"Commercial\", \"value\": 0.5278170948587402}, {\"dt\": \"2012-05-01T00:00:00\", \"variable_0\": \"Commercial\", \"value\": 2.950922007261325}, {\"dt\": \"2012-06-01T00:00:00\", \"variable_0\": \"Commercial\", \"value\": -0.13606140696772462}, {\"dt\": \"2012-07-01T00:00:00\", \"variable_0\": \"Commercial\", \"value\": 0.3668991501586838}, {\"dt\": \"2012-08-01T00:00:00\", \"variable_0\": \"Commercial\", \"value\": -0.9755537202810749}, {\"dt\": \"2012-09-01T00:00:00\", \"variable_0\": \"Commercial\", \"value\": -1.1583906854583437}, {\"dt\": \"2012-10-01T00:00:00\", \"variable_0\": \"Commercial\", \"value\": 1.6764430060340008}, {\"dt\": \"2012-11-01T00:00:00\", \"variable_0\": \"Commercial\", \"value\": 1.0823399377160703}, {\"dt\": \"2012-12-01T00:00:00\", \"variable_0\": \"Commercial\", \"value\": -0.7092150495912941}, {\"dt\": \"2013-01-01T00:00:00\", \"variable_0\": \"Commercial\", \"value\": 2.365500961570355}, {\"dt\": \"2013-02-01T00:00:00\", \"variable_0\": \"Commercial\", \"value\": 0.9347564889729432}, {\"dt\": \"2013-03-01T00:00:00\", \"variable_0\": \"Commercial\", \"value\": 1.4998206089000155}, {\"dt\": \"2013-04-01T00:00:00\", \"variable_0\": \"Commercial\", \"value\": 0.3545589327253129}, {\"dt\": \"2013-05-01T00:00:00\", \"variable_0\": \"Commercial\", \"value\": -1.911402271586482}, {\"dt\": \"2013-06-01T00:00:00\", \"variable_0\": \"Commercial\", \"value\": -0.5075661479782889}, {\"dt\": \"2013-07-01T00:00:00\", \"variable_0\": \"Commercial\", \"value\": -0.9528371301681604}, {\"dt\": \"2013-08-01T00:00:00\", \"variable_0\": \"Commercial\", \"value\": -0.8142800947390394}, {\"dt\": \"2013-09-01T00:00:00\", \"variable_0\": \"Commercial\", \"value\": 1.5634507839749512}, {\"dt\": \"2013-10-01T00:00:00\", \"variable_0\": \"Commercial\", \"value\": 1.2995351513529707}, {\"dt\": \"2013-11-01T00:00:00\", \"variable_0\": \"Commercial\", \"value\": 1.7155921013128461}, {\"dt\": \"2013-12-01T00:00:00\", \"variable_0\": \"Commercial\", \"value\": 4.456347312019493}, {\"dt\": \"2014-01-01T00:00:00\", \"variable_0\": \"Commercial\", \"value\": 5.696880653653724}, {\"dt\": \"2014-02-01T00:00:00\", \"variable_0\": \"Commercial\", \"value\": 3.3034572385921113}, {\"dt\": \"2014-03-01T00:00:00\", \"variable_0\": \"Commercial\", \"value\": 2.8425050215015624}, {\"dt\": \"2014-04-01T00:00:00\", \"variable_0\": \"Commercial\", \"value\": 1.0493706515093404}, {\"dt\": \"2014-05-01T00:00:00\", \"variable_0\": \"Commercial\", \"value\": 0.904416151497478}, {\"dt\": \"2014-06-01T00:00:00\", \"variable_0\": \"Commercial\", \"value\": 0.862033444597543}, {\"dt\": \"2014-07-01T00:00:00\", \"variable_0\": \"Commercial\", \"value\": -1.4738988158088717}, {\"dt\": \"2014-08-01T00:00:00\", \"variable_0\": \"Commercial\", \"value\": -1.149246438278051}, {\"dt\": \"2014-09-01T00:00:00\", \"variable_0\": \"Commercial\", \"value\": 1.385965469749384}, {\"dt\": \"2014-10-01T00:00:00\", \"variable_0\": \"Commercial\", \"value\": 0.9976908191975831}, {\"dt\": \"2014-11-01T00:00:00\", \"variable_0\": \"Commercial\", \"value\": 0.8328038833752549}, {\"dt\": \"2014-12-01T00:00:00\", \"variable_0\": \"Commercial\", \"value\": -0.6363965863105281}, {\"dt\": \"2015-01-01T00:00:00\", \"variable_0\": \"Commercial\", \"value\": -1.9727304014859448}, {\"dt\": \"2015-02-01T00:00:00\", \"variable_0\": \"Commercial\", \"value\": 1.0827074521473135}, {\"dt\": \"2015-03-01T00:00:00\", \"variable_0\": \"Commercial\", \"value\": 0.7742483430656755}, {\"dt\": \"2015-04-01T00:00:00\", \"variable_0\": \"Commercial\", \"value\": 1.6678367412786166}, {\"dt\": \"2015-05-01T00:00:00\", \"variable_0\": \"Commercial\", \"value\": -0.23698882916163289}, {\"dt\": \"2015-06-01T00:00:00\", \"variable_0\": \"Commercial\", \"value\": 0.7157349515414468}, {\"dt\": \"2015-07-01T00:00:00\", \"variable_0\": \"Commercial\", \"value\": 2.4475848391904975}, {\"dt\": \"2015-08-01T00:00:00\", \"variable_0\": \"Commercial\", \"value\": 2.3215354746669803}, {\"dt\": \"2015-09-01T00:00:00\", \"variable_0\": \"Commercial\", \"value\": 1.7881010059307867}, {\"dt\": \"2015-10-01T00:00:00\", \"variable_0\": \"Commercial\", \"value\": -0.17838354741964713}, {\"dt\": \"2015-11-01T00:00:00\", \"variable_0\": \"Commercial\", \"value\": -0.10094400318325647}, {\"dt\": \"2015-12-01T00:00:00\", \"variable_0\": \"Commercial\", \"value\": -1.1481575500714492}, {\"dt\": \"2016-01-01T00:00:00\", \"variable_0\": \"Commercial\", \"value\": -1.083304562243692}, {\"dt\": \"2016-02-01T00:00:00\", \"variable_0\": \"Commercial\", \"value\": -1.9252360817459402}, {\"dt\": \"2016-03-01T00:00:00\", \"variable_0\": \"Commercial\", \"value\": -1.908144831087899}, {\"dt\": \"2016-04-01T00:00:00\", \"variable_0\": \"Commercial\", \"value\": -2.0377405413045}, {\"dt\": \"2016-05-01T00:00:00\", \"variable_0\": \"Commercial\", \"value\": -0.8854764608514754}, {\"dt\": \"2016-06-01T00:00:00\", \"variable_0\": \"Commercial\", \"value\": 0.9165349073757767}, {\"dt\": \"2016-07-01T00:00:00\", \"variable_0\": \"Commercial\", \"value\": 1.1937851260526378}, {\"dt\": \"2016-08-01T00:00:00\", \"variable_0\": \"Commercial\", \"value\": 5.057558253141647}, {\"dt\": \"2016-09-01T00:00:00\", \"variable_0\": \"Commercial\", \"value\": 1.0617559147540367}, {\"dt\": \"2016-10-01T00:00:00\", \"variable_0\": \"Commercial\", \"value\": 0.1252674223723993}, {\"dt\": \"2016-11-01T00:00:00\", \"variable_0\": \"Commercial\", \"value\": 0.8830667097397438}, {\"dt\": \"2016-12-01T00:00:00\", \"variable_0\": \"Commercial\", \"value\": 3.12896354710408}, {\"dt\": \"2017-01-01T00:00:00\", \"variable_0\": \"Commercial\", \"value\": -0.8351472880841593}, {\"dt\": \"2017-02-01T00:00:00\", \"variable_0\": \"Commercial\", \"value\": -3.6845738746068}, {\"dt\": \"2017-03-01T00:00:00\", \"variable_0\": \"Commercial\", \"value\": 1.3558707307049778}, {\"dt\": \"2017-04-01T00:00:00\", \"variable_0\": \"Commercial\", \"value\": 0.5330200327869683}, {\"dt\": \"2017-05-01T00:00:00\", \"variable_0\": \"Commercial\", \"value\": 1.3235419873225185}, {\"dt\": \"2017-06-01T00:00:00\", \"variable_0\": \"Commercial\", \"value\": -0.2908850500572657}, {\"dt\": \"2017-07-01T00:00:00\", \"variable_0\": \"Commercial\", \"value\": -0.5857473228532251}, {\"dt\": \"2017-08-01T00:00:00\", \"variable_0\": \"Commercial\", \"value\": -4.842164168527329}, {\"dt\": \"2017-09-01T00:00:00\", \"variable_0\": \"Commercial\", \"value\": -3.80918007549621}, {\"dt\": \"2017-10-01T00:00:00\", \"variable_0\": \"Commercial\", \"value\": 0.28715250701034645}, {\"dt\": \"2017-11-01T00:00:00\", \"variable_0\": \"Commercial\", \"value\": -0.0825881774913606}, {\"dt\": \"2017-12-01T00:00:00\", \"variable_0\": \"Commercial\", \"value\": -0.7865515817502056}, {\"dt\": \"2018-01-01T00:00:00\", \"variable_0\": \"Commercial\", \"value\": 4.966172714999351}, {\"dt\": \"2018-02-01T00:00:00\", \"variable_0\": \"Commercial\", \"value\": 3.057014117618184}, {\"dt\": \"2018-03-01T00:00:00\", \"variable_0\": \"Commercial\", \"value\": 0.8733243911936084}, {\"dt\": \"2018-04-01T00:00:00\", \"variable_0\": \"Commercial\", \"value\": 0.7241413778734218}, {\"dt\": \"2018-05-01T00:00:00\", \"variable_0\": \"Commercial\", \"value\": 3.0070040669919917}, {\"dt\": \"2018-06-01T00:00:00\", \"variable_0\": \"Commercial\", \"value\": 1.6652351529053755}, {\"dt\": \"2018-07-01T00:00:00\", \"variable_0\": \"Commercial\", \"value\": 1.7369416789911662}, {\"dt\": \"2018-08-01T00:00:00\", \"variable_0\": \"Commercial\", \"value\": 4.956040667709116}, {\"dt\": \"2018-09-01T00:00:00\", \"variable_0\": \"Commercial\", \"value\": 2.7319039240219167}, {\"dt\": \"2018-10-01T00:00:00\", \"variable_0\": \"Commercial\", \"value\": 2.5127335707316956}, {\"dt\": \"2018-11-01T00:00:00\", \"variable_0\": \"Commercial\", \"value\": 0.009982414479647872}, {\"dt\": \"2018-12-01T00:00:00\", \"variable_0\": \"Commercial\", \"value\": -1.1956831407743174}, {\"dt\": \"2019-01-01T00:00:00\", \"variable_0\": \"Commercial\", \"value\": -2.5350101129982705}, {\"dt\": \"2019-02-01T00:00:00\", \"variable_0\": \"Commercial\", \"value\": -0.5989759090968994}, {\"dt\": \"2019-03-01T00:00:00\", \"variable_0\": \"Commercial\", \"value\": -0.5925799678385579}, {\"dt\": \"2019-04-01T00:00:00\", \"variable_0\": \"Commercial\", \"value\": -0.8574312669587636}, {\"dt\": \"2019-05-01T00:00:00\", \"variable_0\": \"Commercial\", \"value\": -1.7450754852969652}, {\"dt\": \"2019-06-01T00:00:00\", \"variable_0\": \"Commercial\", \"value\": -5.136090261954241}, {\"dt\": \"2019-07-01T00:00:00\", \"variable_0\": \"Commercial\", \"value\": -0.43386594136766155}, {\"dt\": \"2019-08-01T00:00:00\", \"variable_0\": \"Commercial\", \"value\": -3.019983226454248}, {\"dt\": \"2019-09-01T00:00:00\", \"variable_0\": \"Commercial\", \"value\": 0.020646638951182794}, {\"dt\": \"2019-10-01T00:00:00\", \"variable_0\": \"Commercial\", \"value\": -0.7137418630069781}, {\"dt\": \"2019-11-01T00:00:00\", \"variable_0\": \"Commercial\", \"value\": -2.041809995434396}, {\"dt\": \"2019-12-01T00:00:00\", \"variable_0\": \"Commercial\", \"value\": 0.0026868688199011004}, {\"dt\": \"2020-01-01T00:00:00\", \"variable_0\": \"Commercial\", \"value\": -1.964240859425903}, {\"dt\": \"2020-02-01T00:00:00\", \"variable_0\": \"Commercial\", \"value\": 0.9247392701297041}, {\"dt\": \"2020-03-01T00:00:00\", \"variable_0\": \"Commercial\", \"value\": -3.1249769489952395}, {\"dt\": \"2020-04-01T00:00:00\", \"variable_0\": \"Commercial\", \"value\": -10.77657801557821}, {\"dt\": \"2020-05-01T00:00:00\", \"variable_0\": \"Commercial\", \"value\": -15.199320671719763}, {\"dt\": \"2020-06-01T00:00:00\", \"variable_0\": \"Commercial\", \"value\": -5.3153971022855355}, {\"dt\": \"2020-07-01T00:00:00\", \"variable_0\": \"Commercial\", \"value\": -2.935417302843424}, {\"dt\": \"2020-08-01T00:00:00\", \"variable_0\": \"Commercial\", \"value\": -5.9026723557383365}, {\"dt\": \"2020-09-01T00:00:00\", \"variable_0\": \"Commercial\", \"value\": -7.241905383180747}, {\"dt\": \"2020-10-01T00:00:00\", \"variable_0\": \"Commercial\", \"value\": -5.929248064920012}, {\"dt\": \"2020-11-01T00:00:00\", \"variable_0\": \"Commercial\", \"value\": -4.806877910440644}, {\"dt\": \"2020-12-01T00:00:00\", \"variable_0\": \"Commercial\", \"value\": -2.3567004164012917}, {\"dt\": \"2021-01-01T00:00:00\", \"variable_0\": \"Commercial\", \"value\": -4.839670714836841}, {\"dt\": \"2021-02-01T00:00:00\", \"variable_0\": \"Commercial\", \"value\": -4.522740831317207}, {\"dt\": \"2021-03-01T00:00:00\", \"variable_0\": \"Commercial\", \"value\": -1.18395044474906}, {\"dt\": \"2021-04-01T00:00:00\", \"variable_0\": \"Commercial\", \"value\": 8.003440741983802}, {\"dt\": \"2021-05-01T00:00:00\", \"variable_0\": \"Commercial\", \"value\": 11.041503528775308}, {\"dt\": \"2021-06-01T00:00:00\", \"variable_0\": \"Commercial\", \"value\": 8.631933727311747}, {\"dt\": \"2021-07-01T00:00:00\", \"variable_0\": \"Commercial\", \"value\": 0.5886774827894792}, {\"dt\": \"2021-08-01T00:00:00\", \"variable_0\": \"Commercial\", \"value\": 6.545132485058502}, {\"dt\": \"2021-09-01T00:00:00\", \"variable_0\": \"Commercial\", \"value\": 5.0953495855113}, {\"dt\": \"2021-10-01T00:00:00\", \"variable_0\": \"Commercial\", \"value\": 3.4833138254816154}, {\"dt\": \"2021-11-01T00:00:00\", \"variable_0\": \"Commercial\", \"value\": 5.729981698420317}, {\"dt\": \"2021-12-01T00:00:00\", \"variable_0\": \"Commercial\", \"value\": 1.0045524380838833}, {\"dt\": \"2022-01-01T00:00:00\", \"variable_0\": \"Commercial\", \"value\": 7.416500529744119}, {\"dt\": \"2022-02-01T00:00:00\", \"variable_0\": \"Commercial\", \"value\": 3.258752800404552}, {\"dt\": \"2022-03-01T00:00:00\", \"variable_0\": \"Commercial\", \"value\": 4.693675371764061}, {\"dt\": \"2022-04-01T00:00:00\", \"variable_0\": \"Commercial\", \"value\": 5.033378896867946}, {\"dt\": \"2022-05-01T00:00:00\", \"variable_0\": \"Commercial\", \"value\": 6.199875804871824}, {\"dt\": \"2022-06-01T00:00:00\", \"variable_0\": \"Commercial\", \"value\": 0.6698325291435214}, {\"dt\": \"2022-07-01T00:00:00\", \"variable_0\": \"Commercial\", \"value\": 3.323725249338394}, {\"dt\": \"2022-08-01T00:00:00\", \"variable_0\": \"Commercial\", \"value\": 2.0288202543702116}, {\"dt\": \"2022-09-01T00:00:00\", \"variable_0\": \"Commercial\", \"value\": 2.9754845938901653}, {\"dt\": \"2011-01-01T00:00:00\", \"variable_0\": \"Industrial\", \"value\": 6.014602064715557}, {\"dt\": \"2011-02-01T00:00:00\", \"variable_0\": \"Industrial\", \"value\": 2.925577248024225}, {\"dt\": \"2011-03-01T00:00:00\", \"variable_0\": \"Industrial\", \"value\": 4.966856676107234}, {\"dt\": \"2011-04-01T00:00:00\", \"variable_0\": \"Industrial\", \"value\": 2.221912124553027}, {\"dt\": \"2011-05-01T00:00:00\", \"variable_0\": \"Industrial\", \"value\": -0.06505835572051533}, {\"dt\": \"2011-06-01T00:00:00\", \"variable_0\": \"Industrial\", \"value\": 0.6620212808569503}, {\"dt\": \"2011-07-01T00:00:00\", \"variable_0\": \"Industrial\", \"value\": 1.7532379100807738}, {\"dt\": \"2011-08-01T00:00:00\", \"variable_0\": \"Industrial\", \"value\": 1.2058687229951515}, {\"dt\": \"2011-09-01T00:00:00\", \"variable_0\": \"Industrial\", \"value\": 1.8624334923985186}, {\"dt\": \"2011-10-01T00:00:00\", \"variable_0\": \"Industrial\", \"value\": 2.6815990038286053}, {\"dt\": \"2011-11-01T00:00:00\", \"variable_0\": \"Industrial\", \"value\": 1.5808210631008013}, {\"dt\": \"2011-12-01T00:00:00\", \"variable_0\": \"Industrial\", \"value\": -0.4129939913420255}, {\"dt\": \"2012-01-01T00:00:00\", \"variable_0\": \"Industrial\", \"value\": -1.1089838445171973}, {\"dt\": \"2012-02-01T00:00:00\", \"variable_0\": \"Industrial\", \"value\": 2.5366811455231453}, {\"dt\": \"2012-03-01T00:00:00\", \"variable_0\": \"Industrial\", \"value\": -1.1079614458197162}, {\"dt\": \"2012-04-01T00:00:00\", \"variable_0\": \"Industrial\", \"value\": 0.824224867569523}, {\"dt\": \"2012-05-01T00:00:00\", \"variable_0\": \"Industrial\", \"value\": 3.1892328286856397}, {\"dt\": \"2012-06-01T00:00:00\", \"variable_0\": \"Industrial\", \"value\": -0.3486480040188922}, {\"dt\": \"2012-07-01T00:00:00\", \"variable_0\": \"Industrial\", \"value\": -0.032005646857913295}, {\"dt\": \"2012-08-01T00:00:00\", \"variable_0\": \"Industrial\", \"value\": -0.9919566996442364}, {\"dt\": \"2012-09-01T00:00:00\", \"variable_0\": \"Industrial\", \"value\": -3.3939265054078627}, {\"dt\": \"2012-10-01T00:00:00\", \"variable_0\": \"Industrial\", \"value\": -1.525877589980118}, {\"dt\": \"2012-11-01T00:00:00\", \"variable_0\": \"Industrial\", \"value\": -2.5040621381569927}, {\"dt\": \"2012-12-01T00:00:00\", \"variable_0\": \"Industrial\", \"value\": -2.0279467826506914}, {\"dt\": \"2013-01-01T00:00:00\", \"variable_0\": \"Industrial\", \"value\": 1.6423512057763823}, {\"dt\": \"2013-02-01T00:00:00\", \"variable_0\": \"Industrial\", \"value\": -2.0514179150360468}, {\"dt\": \"2013-03-01T00:00:00\", \"variable_0\": \"Industrial\", \"value\": -1.0133718264981328}, {\"dt\": \"2013-04-01T00:00:00\", \"variable_0\": \"Industrial\", \"value\": -1.0035858715166435}, {\"dt\": \"2013-05-01T00:00:00\", \"variable_0\": \"Industrial\", \"value\": 0.25895356663880875}, {\"dt\": \"2013-06-01T00:00:00\", \"variable_0\": \"Industrial\", \"value\": 0.6587583852045054}, {\"dt\": \"2013-07-01T00:00:00\", \"variable_0\": \"Industrial\", \"value\": -0.38096179074372793}, {\"dt\": \"2013-08-01T00:00:00\", \"variable_0\": \"Industrial\", \"value\": -0.33853774732126585}, {\"dt\": \"2013-09-01T00:00:00\", \"variable_0\": \"Industrial\", \"value\": 1.1760842061977694}, {\"dt\": \"2013-10-01T00:00:00\", \"variable_0\": \"Industrial\", \"value\": -0.019188020023985786}, {\"dt\": \"2013-11-01T00:00:00\", \"variable_0\": \"Industrial\", \"value\": 0.9946264894827639}, {\"dt\": \"2013-12-01T00:00:00\", \"variable_0\": \"Industrial\", \"value\": -0.3732814518379035}, {\"dt\": \"2014-01-01T00:00:00\", \"variable_0\": \"Industrial\", \"value\": -0.44298264270333787}, {\"dt\": \"2014-02-01T00:00:00\", \"variable_0\": \"Industrial\", \"value\": -1.667427919416542}, {\"dt\": \"2014-03-01T00:00:00\", \"variable_0\": \"Industrial\", \"value\": 0.0803735329883537}, {\"dt\": \"2014-04-01T00:00:00\", \"variable_0\": \"Industrial\", \"value\": 0.3600940730680957}, {\"dt\": \"2014-05-01T00:00:00\", \"variable_0\": \"Industrial\", \"value\": 0.5725292806178617}, {\"dt\": \"2014-06-01T00:00:00\", \"variable_0\": \"Industrial\", \"value\": 1.8311053392966459}, {\"dt\": \"2014-07-01T00:00:00\", \"variable_0\": \"Industrial\", \"value\": 1.7611312346356822}, {\"dt\": \"2014-08-01T00:00:00\", \"variable_0\": \"Industrial\", \"value\": 2.2800622472616716}, {\"dt\": \"2014-09-01T00:00:00\", \"variable_0\": \"Industrial\", \"value\": 2.967981333668668}, {\"dt\": \"2014-10-01T00:00:00\", \"variable_0\": \"Industrial\", \"value\": 2.427579840738092}, {\"dt\": \"2014-11-01T00:00:00\", \"variable_0\": \"Industrial\", \"value\": 1.773947279948107}, {\"dt\": \"2014-12-01T00:00:00\", \"variable_0\": \"Industrial\", \"value\": 2.632886473705276}, {\"dt\": \"2015-01-01T00:00:00\", \"variable_0\": \"Industrial\", \"value\": -0.6735561122228395}, {\"dt\": \"2015-02-01T00:00:00\", \"variable_0\": \"Industrial\", \"value\": 1.7709100622366192}, {\"dt\": \"2015-03-01T00:00:00\", \"variable_0\": \"Industrial\", \"value\": -1.030510215620739}, {\"dt\": \"2015-04-01T00:00:00\", \"variable_0\": \"Industrial\", \"value\": -0.020735795687654157}, {\"dt\": \"2015-05-01T00:00:00\", \"variable_0\": \"Industrial\", \"value\": -2.8896253928539006}, {\"dt\": \"2015-06-01T00:00:00\", \"variable_0\": \"Industrial\", \"value\": 0.5910647672258351}, {\"dt\": \"2015-07-01T00:00:00\", \"variable_0\": \"Industrial\", \"value\": -0.7574934537213918}, {\"dt\": \"2015-08-01T00:00:00\", \"variable_0\": \"Industrial\", \"value\": -1.5982176562436057}, {\"dt\": \"2015-09-01T00:00:00\", \"variable_0\": \"Industrial\", \"value\": -0.8874496251543573}, {\"dt\": \"2015-10-01T00:00:00\", \"variable_0\": \"Industrial\", \"value\": -2.0534767672643506}, {\"dt\": \"2015-11-01T00:00:00\", \"variable_0\": \"Industrial\", \"value\": -3.1458487776686583}, {\"dt\": \"2015-12-01T00:00:00\", \"variable_0\": \"Industrial\", \"value\": -2.369042912306485}, {\"dt\": \"2016-01-01T00:00:00\", \"variable_0\": \"Industrial\", \"value\": -0.9560937096792177}, {\"dt\": \"2016-02-01T00:00:00\", \"variable_0\": \"Industrial\", \"value\": -0.000399367986536614}, {\"dt\": \"2016-03-01T00:00:00\", \"variable_0\": \"Industrial\", \"value\": -0.5918332572226626}, {\"dt\": \"2016-04-01T00:00:00\", \"variable_0\": \"Industrial\", \"value\": -2.2884052465615756}, {\"dt\": \"2016-05-01T00:00:00\", \"variable_0\": \"Industrial\", \"value\": -1.717747409361925}, {\"dt\": \"2016-06-01T00:00:00\", \"variable_0\": \"Industrial\", \"value\": -2.952607167128818}, {\"dt\": \"2016-07-01T00:00:00\", \"variable_0\": \"Industrial\", \"value\": -0.7646367703321388}, {\"dt\": \"2016-08-01T00:00:00\", \"variable_0\": \"Industrial\", \"value\": 0.8231734649265521}, {\"dt\": \"2016-09-01T00:00:00\", \"variable_0\": \"Industrial\", \"value\": -1.7363018965216526}, {\"dt\": \"2016-10-01T00:00:00\", \"variable_0\": \"Industrial\", \"value\": -1.9838824670857624}, {\"dt\": \"2016-11-01T00:00:00\", \"variable_0\": \"Industrial\", \"value\": -0.09330173772175154}, {\"dt\": \"2016-12-01T00:00:00\", \"variable_0\": \"Industrial\", \"value\": 0.5010599545626881}, {\"dt\": \"2017-01-01T00:00:00\", \"variable_0\": \"Industrial\", \"value\": -0.04914500966484159}, {\"dt\": \"2017-02-01T00:00:00\", \"variable_0\": \"Industrial\", \"value\": -2.8856147020974943}, {\"dt\": \"2017-03-01T00:00:00\", \"variable_0\": \"Industrial\", \"value\": 1.6316336121181774}, {\"dt\": \"2017-04-01T00:00:00\", \"variable_0\": \"Industrial\", \"value\": 0.32020509942420894}, {\"dt\": \"2017-05-01T00:00:00\", \"variable_0\": \"Industrial\", \"value\": 2.016179361896042}, {\"dt\": \"2017-06-01T00:00:00\", \"variable_0\": \"Industrial\", \"value\": 2.063418561832764}, {\"dt\": \"2017-07-01T00:00:00\", \"variable_0\": \"Industrial\", \"value\": 0.8380379787986003}, {\"dt\": \"2017-08-01T00:00:00\", \"variable_0\": \"Industrial\", \"value\": 0.03805200356621352}, {\"dt\": \"2017-09-01T00:00:00\", \"variable_0\": \"Industrial\", \"value\": 0.3372984574713245}, {\"dt\": \"2017-10-01T00:00:00\", \"variable_0\": \"Industrial\", \"value\": 1.4925228796023982}, {\"dt\": \"2017-11-01T00:00:00\", \"variable_0\": \"Industrial\", \"value\": 1.3187214833296101}, {\"dt\": \"2017-12-01T00:00:00\", \"variable_0\": \"Industrial\", \"value\": 2.0676075554914686}, {\"dt\": \"2018-01-01T00:00:00\", \"variable_0\": \"Industrial\", \"value\": 1.4649332796078829}, {\"dt\": \"2018-02-01T00:00:00\", \"variable_0\": \"Industrial\", \"value\": 1.605529479934198}, {\"dt\": \"2018-03-01T00:00:00\", \"variable_0\": \"Industrial\", \"value\": 0.7413400399961745}, {\"dt\": \"2018-04-01T00:00:00\", \"variable_0\": \"Industrial\", \"value\": 0.32796386589359905}, {\"dt\": \"2018-05-01T00:00:00\", \"variable_0\": \"Industrial\", \"value\": 3.1061913172207856}, {\"dt\": \"2018-06-01T00:00:00\", \"variable_0\": \"Industrial\", \"value\": 0.2538833502808924}, {\"dt\": \"2018-07-01T00:00:00\", \"variable_0\": \"Industrial\", \"value\": 1.7967529805016147}, {\"dt\": \"2018-08-01T00:00:00\", \"variable_0\": \"Industrial\", \"value\": 3.427135015037397}, {\"dt\": \"2018-09-01T00:00:00\", \"variable_0\": \"Industrial\", \"value\": 2.6547193396134983}, {\"dt\": \"2018-10-01T00:00:00\", \"variable_0\": \"Industrial\", \"value\": 3.097524170075472}, {\"dt\": \"2018-11-01T00:00:00\", \"variable_0\": \"Industrial\", \"value\": 2.1888433935260077}, {\"dt\": \"2018-12-01T00:00:00\", \"variable_0\": \"Industrial\", \"value\": 0.17239224852625412}, {\"dt\": \"2019-01-01T00:00:00\", \"variable_0\": \"Industrial\", \"value\": 3.3091839847145366}, {\"dt\": \"2019-02-01T00:00:00\", \"variable_0\": \"Industrial\", \"value\": 0.9465231620707781}, {\"dt\": \"2019-03-01T00:00:00\", \"variable_0\": \"Industrial\", \"value\": -0.04239782507049483}, {\"dt\": \"2019-04-01T00:00:00\", \"variable_0\": \"Industrial\", \"value\": 1.6453841894622734}, {\"dt\": \"2019-05-01T00:00:00\", \"variable_0\": \"Industrial\", \"value\": -1.2313726430721594}, {\"dt\": \"2019-06-01T00:00:00\", \"variable_0\": \"Industrial\", \"value\": -0.7280896863723352}, {\"dt\": \"2019-07-01T00:00:00\", \"variable_0\": \"Industrial\", \"value\": 1.530921885798353}, {\"dt\": \"2019-08-01T00:00:00\", \"variable_0\": \"Industrial\", \"value\": -1.2228738548152651}, {\"dt\": \"2019-09-01T00:00:00\", \"variable_0\": \"Industrial\", \"value\": 0.46932222934079615}, {\"dt\": \"2019-10-01T00:00:00\", \"variable_0\": \"Industrial\", \"value\": -1.1527372994321605}, {\"dt\": \"2019-11-01T00:00:00\", \"variable_0\": \"Industrial\", \"value\": -1.9337290371985394}, {\"dt\": \"2019-12-01T00:00:00\", \"variable_0\": \"Industrial\", \"value\": -0.3550562722605344}, {\"dt\": \"2020-01-01T00:00:00\", \"variable_0\": \"Industrial\", \"value\": -2.422528319956052}, {\"dt\": \"2020-02-01T00:00:00\", \"variable_0\": \"Industrial\", \"value\": 3.2119773879176083}, {\"dt\": \"2020-03-01T00:00:00\", \"variable_0\": \"Industrial\", \"value\": -0.20003570890242406}, {\"dt\": \"2020-04-01T00:00:00\", \"variable_0\": \"Industrial\", \"value\": -9.531045368124769}, {\"dt\": \"2020-05-01T00:00:00\", \"variable_0\": \"Industrial\", \"value\": -12.270403570691146}, {\"dt\": \"2020-06-01T00:00:00\", \"variable_0\": \"Industrial\", \"value\": -7.703449304562615}, {\"dt\": \"2020-07-01T00:00:00\", \"variable_0\": \"Industrial\", \"value\": -6.604587494288605}, {\"dt\": \"2020-08-01T00:00:00\", \"variable_0\": \"Industrial\", \"value\": -5.156619657025773}, {\"dt\": \"2020-09-01T00:00:00\", \"variable_0\": \"Industrial\", \"value\": -6.016091073276519}, {\"dt\": \"2020-10-01T00:00:00\", \"variable_0\": \"Industrial\", \"value\": -2.399112233878975}, {\"dt\": \"2020-11-01T00:00:00\", \"variable_0\": \"Industrial\", \"value\": -0.5750325664984124}, {\"dt\": \"2020-12-01T00:00:00\", \"variable_0\": \"Industrial\", \"value\": -0.7527893687125364}, {\"dt\": \"2021-01-01T00:00:00\", \"variable_0\": \"Industrial\", \"value\": -1.06562240279795}, {\"dt\": \"2021-02-01T00:00:00\", \"variable_0\": \"Industrial\", \"value\": -5.9027987434651426}, {\"dt\": \"2021-03-01T00:00:00\", \"variable_0\": \"Industrial\", \"value\": -4.175298098278302}, {\"dt\": \"2021-04-01T00:00:00\", \"variable_0\": \"Industrial\", \"value\": 9.437633305818792}, {\"dt\": \"2021-05-01T00:00:00\", \"variable_0\": \"Industrial\", \"value\": 12.695729214713513}, {\"dt\": \"2021-06-01T00:00:00\", \"variable_0\": \"Industrial\", \"value\": 10.52580001130934}, {\"dt\": \"2021-07-01T00:00:00\", \"variable_0\": \"Industrial\", \"value\": 7.42566422001969}, {\"dt\": \"2021-08-01T00:00:00\", \"variable_0\": \"Industrial\", \"value\": 6.03273189455551}, {\"dt\": \"2021-09-01T00:00:00\", \"variable_0\": \"Industrial\", \"value\": 5.977321609238095}, {\"dt\": \"2021-10-01T00:00:00\", \"variable_0\": \"Industrial\", \"value\": 3.6233321635168236}, {\"dt\": \"2021-11-01T00:00:00\", \"variable_0\": \"Industrial\", \"value\": 4.267495000871024}, {\"dt\": \"2021-12-01T00:00:00\", \"variable_0\": \"Industrial\", \"value\": 3.9795730429853737}, {\"dt\": \"2022-01-01T00:00:00\", \"variable_0\": \"Industrial\", \"value\": 4.434546178419541}, {\"dt\": \"2022-02-01T00:00:00\", \"variable_0\": \"Industrial\", \"value\": 2.2517184867634876}, {\"dt\": \"2022-03-01T00:00:00\", \"variable_0\": \"Industrial\", \"value\": 6.899403529696269}, {\"dt\": \"2022-04-01T00:00:00\", \"variable_0\": \"Industrial\", \"value\": 1.9253440851141779}, {\"dt\": \"2022-05-01T00:00:00\", \"variable_0\": \"Industrial\", \"value\": 1.4212619434416096}, {\"dt\": \"2022-06-01T00:00:00\", \"variable_0\": \"Industrial\", \"value\": 2.092385500236227}, {\"dt\": \"2022-07-01T00:00:00\", \"variable_0\": \"Industrial\", \"value\": -1.8672930099656648}, {\"dt\": \"2022-08-01T00:00:00\", \"variable_0\": \"Industrial\", \"value\": -0.023343271508025065}, {\"dt\": \"2022-09-01T00:00:00\", \"variable_0\": \"Industrial\", \"value\": -0.7965823314785125}]}}, {\"mode\": \"vega-lite\"});\n",
       "</script>"
      ],
      "text/plain": [
       "alt.FacetChart(...)"
      ]
     },
     "metadata": {},
     "output_type": "display_data"
    }
   ],
   "source": [
    "c.display()"
   ]
  },
  {
   "cell_type": "code",
   "execution_count": 9,
   "metadata": {
    "execution": {
     "iopub.execute_input": "2022-11-26T00:52:42.278447Z",
     "iopub.status.busy": "2022-11-26T00:52:42.278228Z",
     "iopub.status.idle": "2022-11-26T00:52:42.355547Z",
     "shell.execute_reply": "2022-11-26T00:52:42.354863Z"
    }
   },
   "outputs": [
    {
     "name": "stderr",
     "output_type": "stream",
     "text": [
      "/usr/share/miniconda/envs/ci/lib/python3.9/site-packages/altair/utils/core.py:317: FutureWarning: iteritems is deprecated and will be removed in a future version. Use .items instead.\n",
      "  for col_name, dtype in df.dtypes.iteritems():\n"
     ]
    },
    {
     "data": {
      "text/html": [
       "\n",
       "<div id=\"altair-viz-90c628fd19de49d3b6fc20e20b16a058\"></div>\n",
       "<script type=\"text/javascript\">\n",
       "  var VEGA_DEBUG = (typeof VEGA_DEBUG == \"undefined\") ? {} : VEGA_DEBUG;\n",
       "  (function(spec, embedOpt){\n",
       "    let outputDiv = document.currentScript.previousElementSibling;\n",
       "    if (outputDiv.id !== \"altair-viz-90c628fd19de49d3b6fc20e20b16a058\") {\n",
       "      outputDiv = document.getElementById(\"altair-viz-90c628fd19de49d3b6fc20e20b16a058\");\n",
       "    }\n",
       "    const paths = {\n",
       "      \"vega\": \"https://cdn.jsdelivr.net/npm//vega@5?noext\",\n",
       "      \"vega-lib\": \"https://cdn.jsdelivr.net/npm//vega-lib?noext\",\n",
       "      \"vega-lite\": \"https://cdn.jsdelivr.net/npm//vega-lite@4.17.0?noext\",\n",
       "      \"vega-embed\": \"https://cdn.jsdelivr.net/npm//vega-embed@6?noext\",\n",
       "    };\n",
       "\n",
       "    function maybeLoadScript(lib, version) {\n",
       "      var key = `${lib.replace(\"-\", \"\")}_version`;\n",
       "      return (VEGA_DEBUG[key] == version) ?\n",
       "        Promise.resolve(paths[lib]) :\n",
       "        new Promise(function(resolve, reject) {\n",
       "          var s = document.createElement('script');\n",
       "          document.getElementsByTagName(\"head\")[0].appendChild(s);\n",
       "          s.async = true;\n",
       "          s.onload = () => {\n",
       "            VEGA_DEBUG[key] = version;\n",
       "            return resolve(paths[lib]);\n",
       "          };\n",
       "          s.onerror = () => reject(`Error loading script: ${paths[lib]}`);\n",
       "          s.src = paths[lib];\n",
       "        });\n",
       "    }\n",
       "\n",
       "    function showError(err) {\n",
       "      outputDiv.innerHTML = `<div class=\"error\" style=\"color:red;\">${err}</div>`;\n",
       "      throw err;\n",
       "    }\n",
       "\n",
       "    function displayChart(vegaEmbed) {\n",
       "      vegaEmbed(outputDiv, spec, embedOpt)\n",
       "        .catch(err => showError(`Javascript Error: ${err.message}<br>This usually means there's a typo in your chart specification. See the javascript console for the full traceback.`));\n",
       "    }\n",
       "\n",
       "    if(typeof define === \"function\" && define.amd) {\n",
       "      requirejs.config({paths});\n",
       "      require([\"vega-embed\"], displayChart, err => showError(`Error loading script: ${err.message}`));\n",
       "    } else {\n",
       "      maybeLoadScript(\"vega\", \"5\")\n",
       "        .then(() => maybeLoadScript(\"vega-lite\", \"4.17.0\"))\n",
       "        .then(() => maybeLoadScript(\"vega-embed\", \"6\"))\n",
       "        .catch(showError)\n",
       "        .then(() => displayChart(vegaEmbed));\n",
       "    }\n",
       "  })({\"config\": {\"view\": {\"continuousWidth\": 400, \"continuousHeight\": 300}}, \"layer\": [{\"mark\": \"point\", \"encoding\": {\"color\": {\"field\": \"decade\", \"title\": \"Decade\", \"type\": \"nominal\"}, \"x\": {\"axis\": {\"grid\": false, \"title\": \"GDP [USD]\"}, \"field\": \"GDP\", \"scale\": {\"padding\": 35, \"zero\": false}, \"type\": \"quantitative\"}, \"y\": {\"axis\": {\"grid\": false, \"title\": \"Consumption [Megawatt-hours]\"}, \"field\": \"Megawatt-hours\", \"scale\": {\"padding\": 35, \"zero\": false}, \"type\": \"quantitative\"}}, \"height\": 500, \"title\": \"Total Electricity Consumption vs U.S. Real Gross Domestic Product\", \"width\": 1000}, {\"mark\": {\"type\": \"text\", \"align\": \"left\", \"baseline\": \"middle\", \"dx\": 7, \"size\": 10}, \"encoding\": {\"color\": {\"field\": \"decade\", \"title\": \"Decade\", \"type\": \"nominal\"}, \"text\": {\"field\": \"year\", \"type\": \"nominal\"}, \"x\": {\"axis\": {\"grid\": false, \"title\": \"GDP [USD]\"}, \"field\": \"GDP\", \"scale\": {\"padding\": 35, \"zero\": false}, \"type\": \"quantitative\"}, \"y\": {\"axis\": {\"grid\": false, \"title\": \"Consumption [Megawatt-hours]\"}, \"field\": \"Megawatt-hours\", \"scale\": {\"padding\": 35, \"zero\": false}, \"type\": \"quantitative\"}}, \"height\": 500, \"title\": \"Total Electricity Consumption vs U.S. Real Gross Domestic Product\", \"width\": 1000}], \"data\": {\"name\": \"data-28d5410086fd700807f18850c0ba4ccb\"}, \"$schema\": \"https://vega.github.io/schema/vega-lite/v4.17.0.json\", \"datasets\": {\"data-28d5410086fd700807f18850c0ba4ccb\": [{\"Year\": \"2010-12-31T00:00:00\", \"Megawatt-hours\": 3754841377.0, \"GDP\": 15807.995, \"rt_start\": \"2021-07-29\", \"rt_end\": \"2021-07-28\", \"year\": 2010, \"decade\": \"2010's\"}, {\"Year\": \"2011-12-31T00:00:00\", \"Megawatt-hours\": 3749846184.0, \"GDP\": 16048.702, \"rt_start\": \"2021-07-29\", \"rt_end\": \"2021-07-28\", \"year\": 2011, \"decade\": \"2010's\"}, {\"Year\": \"2012-12-31T00:00:00\", \"Megawatt-hours\": 3694649791.0, \"GDP\": 16300.035, \"rt_start\": \"2021-07-29\", \"rt_end\": \"2021-07-28\", \"year\": 2012, \"decade\": \"2010's\"}, {\"Year\": \"2013-12-31T00:00:00\", \"Megawatt-hours\": 3724867829.370001, \"GDP\": 16712.76, \"rt_start\": \"2021-07-29\", \"rt_end\": \"2021-07-28\", \"year\": 2013, \"decade\": \"2010's\"}, {\"Year\": \"2014-12-31T00:00:00\", \"Megawatt-hours\": 3764700270.750001, \"GDP\": 17141.235, \"rt_start\": \"2021-07-29\", \"rt_end\": \"2021-07-28\", \"year\": 2014, \"decade\": \"2010's\"}, {\"Year\": \"2015-12-31T00:00:00\", \"Megawatt-hours\": 3758992392.5399966, \"GDP\": 17462.579, \"rt_start\": \"2021-07-29\", \"rt_end\": \"2021-07-28\", \"year\": 2015, \"decade\": \"2010's\"}, {\"Year\": \"2016-12-31T00:00:00\", \"Megawatt-hours\": 3762461627.649998, \"GDP\": 17812.56, \"rt_start\": \"2021-07-29\", \"rt_end\": \"2021-07-28\", \"year\": 2016, \"decade\": \"2010's\"}, {\"Year\": \"2017-12-31T00:00:00\", \"Megawatt-hours\": 3723355980.0500045, \"GDP\": 18310.3, \"rt_start\": \"2022-09-29\", \"rt_end\": \"2022-09-28\", \"year\": 2017, \"decade\": \"2010's\"}, {\"Year\": \"2018-12-31T00:00:00\", \"Megawatt-hours\": 3860118799.6400013, \"GDP\": 18733.741, \"rt_start\": \"2022-09-29\", \"rt_end\": \"2022-09-28\", \"year\": 2018, \"decade\": \"2010's\"}, {\"Year\": \"2019-12-31T00:00:00\", \"Megawatt-hours\": 3811150469.4899983, \"GDP\": 19215.691, \"rt_start\": \"2022-09-29\", \"rt_end\": \"2022-09-28\", \"year\": 2019, \"decade\": \"2010's\"}, {\"Year\": \"2020-12-31T00:00:00\", \"Megawatt-hours\": 3717674484.46, \"GDP\": 18924.262, \"rt_start\": \"2022-09-29\", \"rt_end\": \"2022-09-28\", \"year\": 2020, \"decade\": \"2020's\"}, {\"Year\": \"2021-12-31T00:00:00\", \"Megawatt-hours\": 3805874258.939997, \"GDP\": 20006.181, \"rt_start\": \"2022-09-29\", \"rt_end\": \"2022-09-28\", \"year\": 2021, \"decade\": \"2020's\"}, {\"Year\": \"2022-12-31T00:00:00\", \"Megawatt-hours\": 2993716032.4099984, \"GDP\": 20021.721, \"rt_start\": \"2022-10-27\", \"rt_end\": \"2022-09-28\", \"year\": 2022, \"decade\": \"2020's\"}]}}, {\"mode\": \"vega-lite\"});\n",
       "</script>"
      ],
      "text/plain": [
       "alt.LayerChart(...)"
      ]
     },
     "execution_count": 9,
     "metadata": {},
     "output_type": "execute_result"
    }
   ],
   "source": [
    "cmp = df_megawatts.resample(\"1Y\").last().join(df_us_gdp)\n",
    "cmp['year'] = cmp.index.map(lambda d: d.year)\n",
    "cmp['decade'] = cmp.index.map(lambda v: \"19{}0's\".format(str(v)[2]) if v.year < 2000 else \"20{}0's\".format(str(v)[2]))\n",
    "\n",
    "tegdp = alt.Chart(cmp.reset_index()).mark_point().encode(\n",
    "    alt.Y('Megawatt-hours', axis=alt.Axis(grid=False, title='Consumption [Megawatt-hours]'), scale=alt.Scale(zero=False, padding=35)),\n",
    "    alt.X('GDP', axis=alt.Axis(grid=False, title=\"GDP [USD]\"), scale=alt.Scale(zero=False, padding=35)),\n",
    "    alt.Color('decade:N', title='Decade'),\n",
    ").properties(\n",
    "    title=\"Total Electricity Consumption vs U.S. Real Gross Domestic Product\",\n",
    "    width=1000,\n",
    "    height=500\n",
    ")\n",
    "\n",
    "text = tegdp.mark_text(\n",
    "    align='left',\n",
    "    baseline='middle',\n",
    "    dx=7,\n",
    "    size=10\n",
    ").encode(\n",
    "    text='year:N'\n",
    ")\n",
    "\n",
    "tegdp + text"
   ]
  }
 ],
 "metadata": {
  "kernelspec": {
   "display_name": "Python 3",
   "language": "python",
   "name": "python3"
  },
  "language_info": {
   "codemirror_mode": {
    "name": "ipython",
    "version": 3
   },
   "file_extension": ".py",
   "mimetype": "text/x-python",
   "name": "python",
   "nbconvert_exporter": "python",
   "pygments_lexer": "ipython3",
   "version": "3.9.15"
  }
 },
 "nbformat": 4,
 "nbformat_minor": 4
}
