{
 "cells": [
  {
   "cell_type": "markdown",
   "metadata": {},
   "source": [
    "# US Air Freight and Waterway Volumes\n",
    "\n",
    "---\n",
    "\n",
    "A look at air and domestic waterway freight volumes, according to the US DOT Bureau of Transportation Statistics."
   ]
  },
  {
   "cell_type": "code",
   "execution_count": 1,
   "metadata": {
    "execution": {
     "iopub.execute_input": "2023-04-08T00:56:07.863668Z",
     "iopub.status.busy": "2023-04-08T00:56:07.863133Z",
     "iopub.status.idle": "2023-04-08T00:56:08.351654Z",
     "shell.execute_reply": "2023-04-08T00:56:08.350814Z"
    }
   },
   "outputs": [],
   "source": [
    "import pandas as pd\n",
    "import altair as alt\n",
    "from os import environ\n",
    "import re\n",
    "\n",
    "#if environ.get(\"GITHUB_WORKFLOW\"):\n",
    "#    raise RuntimeError(\"Requires manual updates\")"
   ]
  },
  {
   "cell_type": "code",
   "execution_count": 2,
   "metadata": {
    "execution": {
     "iopub.execute_input": "2023-04-08T00:56:08.355999Z",
     "iopub.status.busy": "2023-04-08T00:56:08.355284Z",
     "iopub.status.idle": "2023-04-08T00:56:08.424920Z",
     "shell.execute_reply": "2023-04-08T00:56:08.424145Z"
    }
   },
   "outputs": [],
   "source": [
    "def doComboChart(df, metric='AIR_RTMFM', title='US Air Freight Volume', label='Volume [ton-miles]', width=2):\n",
    "\n",
    "    brush = alt.selection(type='interval', encodings=['x'])\n",
    "    \n",
    "    base = alt.Chart(df.reset_index()[['dt', metric]].dropna()).mark_line(color='purple').encode(\n",
    "        alt.X('dt:T', axis=alt.Axis(title='')),\n",
    "        alt.Y(f'{metric}:Q', axis=alt.Axis(title=label)),\n",
    "        tooltip=[alt.Tooltip(\"dt:T\", format=\"%b %Y\"), alt.Tooltip(f\"{metric}:Q\", format=\",.02f\")]\n",
    "    ).properties(\n",
    "        width=750,\n",
    "        height=400\n",
    "    )\n",
    "\n",
    "    upper = base.mark_bar(width=width, color='blue').transform_window(\n",
    "        window=[alt.WindowFieldDef(\"lag\", metric, param=12, **{ 'as': 'previous' })],\n",
    "        sort=[{\"field\": \"dt\"}],\n",
    "    ).transform_calculate(\n",
    "        yoy=f\"((datum['{metric}'] - datum.previous) / datum.previous) * 100\"\n",
    "    ).encode(\n",
    "        alt.X('dt:T', axis=alt.Axis(title=''), scale=alt.Scale(domain=brush), impute=alt.ImputeParams(value=None)),\n",
    "        alt.Y(f'yoy:Q', axis=alt.Axis(title='Year-over-Year Growth [%]'), impute=alt.ImputeParams(method='value', keyvals=[400, 1000])),\n",
    "        color=alt.condition(f\"datum['yoy'] < 0\",\n",
    "            alt.value('lightsalmon'),\n",
    "            alt.value('royalblue')\n",
    "        )\n",
    "    ).properties(\n",
    "        title=title,\n",
    "    )\n",
    "    \n",
    "    lower = base.properties(\n",
    "        height=100\n",
    "    ).add_selection(brush)\n",
    "\n",
    "    return (upper & lower).properties(background='white')"
   ]
  },
  {
   "cell_type": "code",
   "execution_count": 3,
   "metadata": {
    "execution": {
     "iopub.execute_input": "2023-04-08T00:56:08.428342Z",
     "iopub.status.busy": "2023-04-08T00:56:08.427824Z",
     "iopub.status.idle": "2023-04-08T00:56:09.546976Z",
     "shell.execute_reply": "2023-04-08T00:56:09.546064Z"
    },
    "tags": []
   },
   "outputs": [],
   "source": [
    "# https://data.bts.gov/Research-and-Statistics/Transportation-Services-Index-and-Seasonally-Adjus/bw6n-ddqk\n",
    "\n",
    "df_af = pd.read_csv('https://data.bts.gov/api/views/bw6n-ddqk/rows.csv?accessType=DOWNLOAD')\n",
    "df_af = df_af.iloc[:-1, 1:]\n",
    "df_af.columns = ['dt'] + df_af.columns[1:].tolist()\n",
    "#df_af.head()"
   ]
  },
  {
   "cell_type": "markdown",
   "metadata": {},
   "source": [
    "## Airline Freight"
   ]
  },
  {
   "cell_type": "code",
   "execution_count": 4,
   "metadata": {
    "execution": {
     "iopub.execute_input": "2023-04-08T00:56:09.550844Z",
     "iopub.status.busy": "2023-04-08T00:56:09.550404Z",
     "iopub.status.idle": "2023-04-08T00:56:11.294432Z",
     "shell.execute_reply": "2023-04-08T00:56:11.293544Z"
    }
   },
   "outputs": [
    {
     "data": {
      "text/html": [
       "\n",
       "<div id=\"altair-viz-945b65a44ec94e5bb0eab914db3cda4d\"></div>\n",
       "<script type=\"text/javascript\">\n",
       "  var VEGA_DEBUG = (typeof VEGA_DEBUG == \"undefined\") ? {} : VEGA_DEBUG;\n",
       "  (function(spec, embedOpt){\n",
       "    let outputDiv = document.currentScript.previousElementSibling;\n",
       "    if (outputDiv.id !== \"altair-viz-945b65a44ec94e5bb0eab914db3cda4d\") {\n",
       "      outputDiv = document.getElementById(\"altair-viz-945b65a44ec94e5bb0eab914db3cda4d\");\n",
       "    }\n",
       "    const paths = {\n",
       "      \"vega\": \"https://cdn.jsdelivr.net/npm//vega@5?noext\",\n",
       "      \"vega-lib\": \"https://cdn.jsdelivr.net/npm//vega-lib?noext\",\n",
       "      \"vega-lite\": \"https://cdn.jsdelivr.net/npm//vega-lite@4.17.0?noext\",\n",
       "      \"vega-embed\": \"https://cdn.jsdelivr.net/npm//vega-embed@6?noext\",\n",
       "    };\n",
       "\n",
       "    function maybeLoadScript(lib, version) {\n",
       "      var key = `${lib.replace(\"-\", \"\")}_version`;\n",
       "      return (VEGA_DEBUG[key] == version) ?\n",
       "        Promise.resolve(paths[lib]) :\n",
       "        new Promise(function(resolve, reject) {\n",
       "          var s = document.createElement('script');\n",
       "          document.getElementsByTagName(\"head\")[0].appendChild(s);\n",
       "          s.async = true;\n",
       "          s.onload = () => {\n",
       "            VEGA_DEBUG[key] = version;\n",
       "            return resolve(paths[lib]);\n",
       "          };\n",
       "          s.onerror = () => reject(`Error loading script: ${paths[lib]}`);\n",
       "          s.src = paths[lib];\n",
       "        });\n",
       "    }\n",
       "\n",
       "    function showError(err) {\n",
       "      outputDiv.innerHTML = `<div class=\"error\" style=\"color:red;\">${err}</div>`;\n",
       "      throw err;\n",
       "    }\n",
       "\n",
       "    function displayChart(vegaEmbed) {\n",
       "      vegaEmbed(outputDiv, spec, embedOpt)\n",
       "        .catch(err => showError(`Javascript Error: ${err.message}<br>This usually means there's a typo in your chart specification. See the javascript console for the full traceback.`));\n",
       "    }\n",
       "\n",
       "    if(typeof define === \"function\" && define.amd) {\n",
       "      requirejs.config({paths});\n",
       "      require([\"vega-embed\"], displayChart, err => showError(`Error loading script: ${err.message}`));\n",
       "    } else {\n",
       "      maybeLoadScript(\"vega\", \"5\")\n",
       "        .then(() => maybeLoadScript(\"vega-lite\", \"4.17.0\"))\n",
       "        .then(() => maybeLoadScript(\"vega-embed\", \"6\"))\n",
       "        .catch(showError)\n",
       "        .then(() => displayChart(vegaEmbed));\n",
       "    }\n",
       "  })({\"config\": {\"view\": {\"continuousWidth\": 400, \"continuousHeight\": 300}}, \"vconcat\": [{\"mark\": {\"type\": \"bar\", \"color\": \"blue\", \"width\": 2}, \"encoding\": {\"color\": {\"condition\": {\"value\": \"lightsalmon\", \"test\": \"datum['yoy'] < 0\"}, \"value\": \"royalblue\"}, \"tooltip\": [{\"field\": \"dt\", \"format\": \"%b %Y\", \"type\": \"temporal\"}, {\"field\": \"AIR_RTMFM\", \"format\": \",.02f\", \"type\": \"quantitative\"}], \"x\": {\"axis\": {\"title\": \"\"}, \"field\": \"dt\", \"impute\": {\"value\": null}, \"scale\": {\"domain\": {\"selection\": \"selector001\"}}, \"type\": \"temporal\"}, \"y\": {\"axis\": {\"title\": \"Year-over-Year Growth [%]\"}, \"field\": \"yoy\", \"impute\": {\"keyvals\": [400, 1000], \"method\": \"value\"}, \"type\": \"quantitative\"}}, \"height\": 400, \"title\": \"US Air Freight Volume\", \"transform\": [{\"window\": [{\"op\": \"lag\", \"field\": \"AIR_RTMFM\", \"param\": 12, \"as\": \"previous\"}], \"sort\": [{\"field\": \"dt\"}]}, {\"calculate\": \"((datum['AIR_RTMFM'] - datum.previous) / datum.previous) * 100\", \"as\": \"yoy\"}], \"width\": 750}, {\"mark\": {\"type\": \"line\", \"color\": \"purple\"}, \"encoding\": {\"tooltip\": [{\"field\": \"dt\", \"format\": \"%b %Y\", \"type\": \"temporal\"}, {\"field\": \"AIR_RTMFM\", \"format\": \",.02f\", \"type\": \"quantitative\"}], \"x\": {\"axis\": {\"title\": \"\"}, \"field\": \"dt\", \"type\": \"temporal\"}, \"y\": {\"axis\": {\"title\": \"Volume [ton-miles]\"}, \"field\": \"AIR_RTMFM\", \"type\": \"quantitative\"}}, \"height\": 100, \"selection\": {\"selector001\": {\"type\": \"interval\", \"encodings\": [\"x\"]}}, \"width\": 750}], \"background\": \"white\", \"data\": {\"name\": \"data-a99ed0050f2426b2827ac30191bc7ede\"}, \"$schema\": \"https://vega.github.io/schema/vega-lite/v4.17.0.json\", \"datasets\": {\"data-a99ed0050f2426b2827ac30191bc7ede\": [{\"dt\": \"01/01/2000\", \"AIR_RTMFM\": 2182683.0}, {\"dt\": \"02/01/2000\", \"AIR_RTMFM\": 2341123.0}, {\"dt\": \"03/01/2000\", \"AIR_RTMFM\": 2699633.0}, {\"dt\": \"04/01/2000\", \"AIR_RTMFM\": 2528558.0}, {\"dt\": \"05/01/2000\", \"AIR_RTMFM\": 2528225.0}, {\"dt\": \"06/01/2000\", \"AIR_RTMFM\": 2537148.0}, {\"dt\": \"07/01/2000\", \"AIR_RTMFM\": 2461623.0}, {\"dt\": \"08/01/2000\", \"AIR_RTMFM\": 2623412.0}, {\"dt\": \"09/01/2000\", \"AIR_RTMFM\": 2711279.0}, {\"dt\": \"10/01/2000\", \"AIR_RTMFM\": 2839068.0}, {\"dt\": \"11/01/2000\", \"AIR_RTMFM\": 2702423.0}, {\"dt\": \"12/01/2000\", \"AIR_RTMFM\": 2707863.0}, {\"dt\": \"01/01/2001\", \"AIR_RTMFM\": 2290401.0}, {\"dt\": \"02/01/2001\", \"AIR_RTMFM\": 2276553.0}, {\"dt\": \"03/01/2001\", \"AIR_RTMFM\": 2671787.0}, {\"dt\": \"04/01/2001\", \"AIR_RTMFM\": 2399580.0}, {\"dt\": \"05/01/2001\", \"AIR_RTMFM\": 2415262.0}, {\"dt\": \"06/01/2001\", \"AIR_RTMFM\": 2475195.0}, {\"dt\": \"07/01/2001\", \"AIR_RTMFM\": 2226571.0}, {\"dt\": \"08/01/2001\", \"AIR_RTMFM\": 2356106.0}, {\"dt\": \"09/01/2001\", \"AIR_RTMFM\": 1998724.0}, {\"dt\": \"10/01/2001\", \"AIR_RTMFM\": 2417439.0}, {\"dt\": \"11/01/2001\", \"AIR_RTMFM\": 2261922.0}, {\"dt\": \"12/01/2001\", \"AIR_RTMFM\": 2332011.0}, {\"dt\": \"01/01/2002\", \"AIR_RTMFM\": 2049355.0}, {\"dt\": \"02/01/2002\", \"AIR_RTMFM\": 2024465.0}, {\"dt\": \"03/01/2002\", \"AIR_RTMFM\": 2483076.0}, {\"dt\": \"04/01/2002\", \"AIR_RTMFM\": 2426477.0}, {\"dt\": \"05/01/2002\", \"AIR_RTMFM\": 2408401.0}, {\"dt\": \"06/01/2002\", \"AIR_RTMFM\": 2477418.0}, {\"dt\": \"07/01/2002\", \"AIR_RTMFM\": 2521489.0}, {\"dt\": \"08/01/2002\", \"AIR_RTMFM\": 2518364.0}, {\"dt\": \"09/01/2002\", \"AIR_RTMFM\": 2385972.0}, {\"dt\": \"10/01/2002\", \"AIR_RTMFM\": 3345807.0}, {\"dt\": \"11/01/2002\", \"AIR_RTMFM\": 3074803.0}, {\"dt\": \"12/01/2002\", \"AIR_RTMFM\": 2810584.0}, {\"dt\": \"01/01/2003\", \"AIR_RTMFM\": 2573661.0}, {\"dt\": \"02/01/2003\", \"AIR_RTMFM\": 2446178.0}, {\"dt\": \"03/01/2003\", \"AIR_RTMFM\": 2925823.0}, {\"dt\": \"04/01/2003\", \"AIR_RTMFM\": 2733039.0}, {\"dt\": \"05/01/2003\", \"AIR_RTMFM\": 2732471.0}, {\"dt\": \"06/01/2003\", \"AIR_RTMFM\": 2680999.0}, {\"dt\": \"07/01/2003\", \"AIR_RTMFM\": 2794091.0}, {\"dt\": \"08/01/2003\", \"AIR_RTMFM\": 2819634.0}, {\"dt\": \"09/01/2003\", \"AIR_RTMFM\": 2748240.0}, {\"dt\": \"10/01/2003\", \"AIR_RTMFM\": 3104919.0}, {\"dt\": \"11/01/2003\", \"AIR_RTMFM\": 3008398.0}, {\"dt\": \"12/01/2003\", \"AIR_RTMFM\": 2973296.0}, {\"dt\": \"01/01/2004\", \"AIR_RTMFM\": 2618911.0}, {\"dt\": \"02/01/2004\", \"AIR_RTMFM\": 2825337.0}, {\"dt\": \"03/01/2004\", \"AIR_RTMFM\": 3269430.0}, {\"dt\": \"04/01/2004\", \"AIR_RTMFM\": 3087285.0}, {\"dt\": \"05/01/2004\", \"AIR_RTMFM\": 3083767.0}, {\"dt\": \"06/01/2004\", \"AIR_RTMFM\": 3081024.0}, {\"dt\": \"07/01/2004\", \"AIR_RTMFM\": 3188225.0}, {\"dt\": \"08/01/2004\", \"AIR_RTMFM\": 3112989.0}, {\"dt\": \"09/01/2004\", \"AIR_RTMFM\": 3246085.0}, {\"dt\": \"10/01/2004\", \"AIR_RTMFM\": 3517860.0}, {\"dt\": \"11/01/2004\", \"AIR_RTMFM\": 3438313.0}, {\"dt\": \"12/01/2004\", \"AIR_RTMFM\": 3485518.0}, {\"dt\": \"01/01/2005\", \"AIR_RTMFM\": 2977459.0}, {\"dt\": \"02/01/2005\", \"AIR_RTMFM\": 2815089.0}, {\"dt\": \"03/01/2005\", \"AIR_RTMFM\": 3427927.0}, {\"dt\": \"04/01/2005\", \"AIR_RTMFM\": 3305046.0}, {\"dt\": \"05/01/2005\", \"AIR_RTMFM\": 3186654.0}, {\"dt\": \"06/01/2005\", \"AIR_RTMFM\": 3332961.0}, {\"dt\": \"07/01/2005\", \"AIR_RTMFM\": 3221428.0}, {\"dt\": \"08/01/2005\", \"AIR_RTMFM\": 3271476.0}, {\"dt\": \"09/01/2005\", \"AIR_RTMFM\": 3312249.0}, {\"dt\": \"10/01/2005\", \"AIR_RTMFM\": 3504372.0}, {\"dt\": \"11/01/2005\", \"AIR_RTMFM\": 3494552.0}, {\"dt\": \"12/01/2005\", \"AIR_RTMFM\": 3457971.0}, {\"dt\": \"01/01/2006\", \"AIR_RTMFM\": 2921183.0}, {\"dt\": \"02/01/2006\", \"AIR_RTMFM\": 2760326.0}, {\"dt\": \"03/01/2006\", \"AIR_RTMFM\": 3617369.0}, {\"dt\": \"04/01/2006\", \"AIR_RTMFM\": 3270920.0}, {\"dt\": \"05/01/2006\", \"AIR_RTMFM\": 3210319.0}, {\"dt\": \"06/01/2006\", \"AIR_RTMFM\": 3367968.0}, {\"dt\": \"07/01/2006\", \"AIR_RTMFM\": 3201529.0}, {\"dt\": \"08/01/2006\", \"AIR_RTMFM\": 3395702.0}, {\"dt\": \"09/01/2006\", \"AIR_RTMFM\": 3387556.0}, {\"dt\": \"10/01/2006\", \"AIR_RTMFM\": 3514733.0}, {\"dt\": \"11/01/2006\", \"AIR_RTMFM\": 3606059.0}, {\"dt\": \"12/01/2006\", \"AIR_RTMFM\": 3506047.0}, {\"dt\": \"01/01/2007\", \"AIR_RTMFM\": 3026361.0}, {\"dt\": \"02/01/2007\", \"AIR_RTMFM\": 2908924.0}, {\"dt\": \"03/01/2007\", \"AIR_RTMFM\": 3590561.0}, {\"dt\": \"04/01/2007\", \"AIR_RTMFM\": 3256970.0}, {\"dt\": \"05/01/2007\", \"AIR_RTMFM\": 3283361.0}, {\"dt\": \"06/01/2007\", \"AIR_RTMFM\": 3282603.0}, {\"dt\": \"07/01/2007\", \"AIR_RTMFM\": 3237816.0}, {\"dt\": \"08/01/2007\", \"AIR_RTMFM\": 3373928.0}, {\"dt\": \"09/01/2007\", \"AIR_RTMFM\": 3321480.0}, {\"dt\": \"10/01/2007\", \"AIR_RTMFM\": 3560820.0}, {\"dt\": \"11/01/2007\", \"AIR_RTMFM\": 3560924.0}, {\"dt\": \"12/01/2007\", \"AIR_RTMFM\": 3458868.0}, {\"dt\": \"01/01/2008\", \"AIR_RTMFM\": 3065185.0}, {\"dt\": \"02/01/2008\", \"AIR_RTMFM\": 2937434.0}, {\"dt\": \"03/01/2008\", \"AIR_RTMFM\": 3365775.0}, {\"dt\": \"04/01/2008\", \"AIR_RTMFM\": 3414759.0}, {\"dt\": \"05/01/2008\", \"AIR_RTMFM\": 3243077.0}, {\"dt\": \"06/01/2008\", \"AIR_RTMFM\": 3103666.0}, {\"dt\": \"07/01/2008\", \"AIR_RTMFM\": 3101001.0}, {\"dt\": \"08/01/2008\", \"AIR_RTMFM\": 3043654.0}, {\"dt\": \"09/01/2008\", \"AIR_RTMFM\": 2973954.0}, {\"dt\": \"10/01/2008\", \"AIR_RTMFM\": 3142112.0}, {\"dt\": \"11/01/2008\", \"AIR_RTMFM\": 2791288.0}, {\"dt\": \"12/01/2008\", \"AIR_RTMFM\": 2629749.0}, {\"dt\": \"01/01/2009\", \"AIR_RTMFM\": 2257630.0}, {\"dt\": \"02/01/2009\", \"AIR_RTMFM\": 2190771.0}, {\"dt\": \"03/01/2009\", \"AIR_RTMFM\": 2493784.0}, {\"dt\": \"04/01/2009\", \"AIR_RTMFM\": 2474719.0}, {\"dt\": \"05/01/2009\", \"AIR_RTMFM\": 2427371.0}, {\"dt\": \"06/01/2009\", \"AIR_RTMFM\": 2613309.0}, {\"dt\": \"07/01/2009\", \"AIR_RTMFM\": 2618063.0}, {\"dt\": \"08/01/2009\", \"AIR_RTMFM\": 2612420.0}, {\"dt\": \"09/01/2009\", \"AIR_RTMFM\": 2747556.0}, {\"dt\": \"10/01/2009\", \"AIR_RTMFM\": 3045702.0}, {\"dt\": \"11/01/2009\", \"AIR_RTMFM\": 3052858.0}, {\"dt\": \"12/01/2009\", \"AIR_RTMFM\": 3127833.0}, {\"dt\": \"01/01/2010\", \"AIR_RTMFM\": 2628608.0}, {\"dt\": \"02/01/2010\", \"AIR_RTMFM\": 2564858.0}, {\"dt\": \"03/01/2010\", \"AIR_RTMFM\": 3056955.0}, {\"dt\": \"04/01/2010\", \"AIR_RTMFM\": 2990288.0}, {\"dt\": \"05/01/2010\", \"AIR_RTMFM\": 3123899.0}, {\"dt\": \"06/01/2010\", \"AIR_RTMFM\": 3083661.0}, {\"dt\": \"07/01/2010\", \"AIR_RTMFM\": 3069914.0}, {\"dt\": \"08/01/2010\", \"AIR_RTMFM\": 3056160.0}, {\"dt\": \"09/01/2010\", \"AIR_RTMFM\": 3086870.0}, {\"dt\": \"10/01/2010\", \"AIR_RTMFM\": 3315367.0}, {\"dt\": \"11/01/2010\", \"AIR_RTMFM\": 3238034.0}, {\"dt\": \"12/01/2010\", \"AIR_RTMFM\": 3301087.0}, {\"dt\": \"01/01/2011\", \"AIR_RTMFM\": 2872137.0}, {\"dt\": \"02/01/2011\", \"AIR_RTMFM\": 2662372.0}, {\"dt\": \"03/01/2011\", \"AIR_RTMFM\": 3410298.0}, {\"dt\": \"04/01/2011\", \"AIR_RTMFM\": 3179047.0}, {\"dt\": \"05/01/2011\", \"AIR_RTMFM\": 3082305.0}, {\"dt\": \"06/01/2011\", \"AIR_RTMFM\": 3080023.0}, {\"dt\": \"07/01/2011\", \"AIR_RTMFM\": 3059306.0}, {\"dt\": \"08/01/2011\", \"AIR_RTMFM\": 3063273.0}, {\"dt\": \"09/01/2011\", \"AIR_RTMFM\": 3013752.0}, {\"dt\": \"10/01/2011\", \"AIR_RTMFM\": 3174452.0}, {\"dt\": \"11/01/2011\", \"AIR_RTMFM\": 3141029.0}, {\"dt\": \"12/01/2011\", \"AIR_RTMFM\": 3261313.0}, {\"dt\": \"01/01/2012\", \"AIR_RTMFM\": 2669174.0}, {\"dt\": \"02/01/2012\", \"AIR_RTMFM\": 2809512.0}, {\"dt\": \"03/01/2012\", \"AIR_RTMFM\": 3307453.0}, {\"dt\": \"04/01/2012\", \"AIR_RTMFM\": 2990274.0}, {\"dt\": \"05/01/2012\", \"AIR_RTMFM\": 3126142.0}, {\"dt\": \"06/01/2012\", \"AIR_RTMFM\": 3091102.0}, {\"dt\": \"07/01/2012\", \"AIR_RTMFM\": 2998876.0}, {\"dt\": \"08/01/2012\", \"AIR_RTMFM\": 3018293.0}, {\"dt\": \"09/01/2012\", \"AIR_RTMFM\": 2969583.0}, {\"dt\": \"10/01/2012\", \"AIR_RTMFM\": 3009063.0}, {\"dt\": \"11/01/2012\", \"AIR_RTMFM\": 3099439.0}, {\"dt\": \"12/01/2012\", \"AIR_RTMFM\": 3070883.0}, {\"dt\": \"01/01/2013\", \"AIR_RTMFM\": 2825268.0}, {\"dt\": \"02/01/2013\", \"AIR_RTMFM\": 2564138.0}, {\"dt\": \"03/01/2013\", \"AIR_RTMFM\": 3043702.0}, {\"dt\": \"04/01/2013\", \"AIR_RTMFM\": 2932522.0}, {\"dt\": \"05/01/2013\", \"AIR_RTMFM\": 2859231.0}, {\"dt\": \"06/01/2013\", \"AIR_RTMFM\": 2870590.0}, {\"dt\": \"07/01/2013\", \"AIR_RTMFM\": 2864407.0}, {\"dt\": \"08/01/2013\", \"AIR_RTMFM\": 2893384.0}, {\"dt\": \"09/01/2013\", \"AIR_RTMFM\": 2784913.0}, {\"dt\": \"10/01/2013\", \"AIR_RTMFM\": 3087864.0}, {\"dt\": \"11/01/2013\", \"AIR_RTMFM\": 3009318.0}, {\"dt\": \"12/01/2013\", \"AIR_RTMFM\": 3068925.0}, {\"dt\": \"01/01/2014\", \"AIR_RTMFM\": 2720657.0}, {\"dt\": \"02/01/2014\", \"AIR_RTMFM\": 2425044.0}, {\"dt\": \"03/01/2014\", \"AIR_RTMFM\": 3042193.0}, {\"dt\": \"04/01/2014\", \"AIR_RTMFM\": 2924333.0}, {\"dt\": \"05/01/2014\", \"AIR_RTMFM\": 3022743.0}, {\"dt\": \"06/01/2014\", \"AIR_RTMFM\": 2932966.0}, {\"dt\": \"07/01/2014\", \"AIR_RTMFM\": 3081705.0}, {\"dt\": \"08/01/2014\", \"AIR_RTMFM\": 2965888.0}, {\"dt\": \"09/01/2014\", \"AIR_RTMFM\": 2897972.0}, {\"dt\": \"10/01/2014\", \"AIR_RTMFM\": 3201548.0}, {\"dt\": \"11/01/2014\", \"AIR_RTMFM\": 3150257.0}, {\"dt\": \"12/01/2014\", \"AIR_RTMFM\": 3241011.0}, {\"dt\": \"01/01/2015\", \"AIR_RTMFM\": 2842181.0}, {\"dt\": \"02/01/2015\", \"AIR_RTMFM\": 2750727.0}, {\"dt\": \"03/01/2015\", \"AIR_RTMFM\": 3140177.0}, {\"dt\": \"04/01/2015\", \"AIR_RTMFM\": 3047441.0}, {\"dt\": \"05/01/2015\", \"AIR_RTMFM\": 2975003.0}, {\"dt\": \"06/01/2015\", \"AIR_RTMFM\": 2954345.0}, {\"dt\": \"07/01/2015\", \"AIR_RTMFM\": 3002075.0}, {\"dt\": \"08/01/2015\", \"AIR_RTMFM\": 2889286.0}, {\"dt\": \"09/01/2015\", \"AIR_RTMFM\": 3004570.0}, {\"dt\": \"10/01/2015\", \"AIR_RTMFM\": 3207280.0}, {\"dt\": \"11/01/2015\", \"AIR_RTMFM\": 3105218.0}, {\"dt\": \"12/01/2015\", \"AIR_RTMFM\": 3276384.0}, {\"dt\": \"01/01/2016\", \"AIR_RTMFM\": 2815647.0}, {\"dt\": \"02/01/2016\", \"AIR_RTMFM\": 2558377.0}, {\"dt\": \"03/01/2016\", \"AIR_RTMFM\": 3083370.0}, {\"dt\": \"04/01/2016\", \"AIR_RTMFM\": 3046837.0}, {\"dt\": \"05/01/2016\", \"AIR_RTMFM\": 2978308.0}, {\"dt\": \"06/01/2016\", \"AIR_RTMFM\": 3050262.0}, {\"dt\": \"07/01/2016\", \"AIR_RTMFM\": 3031681.0}, {\"dt\": \"08/01/2016\", \"AIR_RTMFM\": 3089859.0}, {\"dt\": \"09/01/2016\", \"AIR_RTMFM\": 3144378.0}, {\"dt\": \"10/01/2016\", \"AIR_RTMFM\": 3363915.0}, {\"dt\": \"11/01/2016\", \"AIR_RTMFM\": 3397217.0}, {\"dt\": \"12/01/2016\", \"AIR_RTMFM\": 3455965.0}, {\"dt\": \"01/01/2017\", \"AIR_RTMFM\": 2993084.0}, {\"dt\": \"02/01/2017\", \"AIR_RTMFM\": 2710384.0}, {\"dt\": \"03/01/2017\", \"AIR_RTMFM\": 3435973.0}, {\"dt\": \"04/01/2017\", \"AIR_RTMFM\": 3249956.0}, {\"dt\": \"05/01/2017\", \"AIR_RTMFM\": 3395667.0}, {\"dt\": \"06/01/2017\", \"AIR_RTMFM\": 3442624.0}, {\"dt\": \"07/01/2017\", \"AIR_RTMFM\": 3451415.0}, {\"dt\": \"08/01/2017\", \"AIR_RTMFM\": 3534006.0}, {\"dt\": \"09/01/2017\", \"AIR_RTMFM\": 3514537.0}, {\"dt\": \"10/01/2017\", \"AIR_RTMFM\": 3725503.0}, {\"dt\": \"11/01/2017\", \"AIR_RTMFM\": 3845508.0}, {\"dt\": \"12/01/2017\", \"AIR_RTMFM\": 3809832.0}, {\"dt\": \"01/01/2018\", \"AIR_RTMFM\": 3401406.0}, {\"dt\": \"02/01/2018\", \"AIR_RTMFM\": 3085190.0}, {\"dt\": \"03/01/2018\", \"AIR_RTMFM\": 3751133.0}, {\"dt\": \"04/01/2018\", \"AIR_RTMFM\": 3551100.0}, {\"dt\": \"05/01/2018\", \"AIR_RTMFM\": 3754233.0}, {\"dt\": \"06/01/2018\", \"AIR_RTMFM\": 3700670.0}, {\"dt\": \"07/01/2018\", \"AIR_RTMFM\": 3653015.0}, {\"dt\": \"08/01/2018\", \"AIR_RTMFM\": 3670746.0}, {\"dt\": \"09/01/2018\", \"AIR_RTMFM\": 3699181.0}, {\"dt\": \"10/01/2018\", \"AIR_RTMFM\": 3947441.0}, {\"dt\": \"11/01/2018\", \"AIR_RTMFM\": 3813572.0}, {\"dt\": \"12/01/2018\", \"AIR_RTMFM\": 3841788.0}, {\"dt\": \"01/01/2019\", \"AIR_RTMFM\": 3500821.0}, {\"dt\": \"02/01/2019\", \"AIR_RTMFM\": 3016466.0}, {\"dt\": \"03/01/2019\", \"AIR_RTMFM\": 3782254.0}, {\"dt\": \"04/01/2019\", \"AIR_RTMFM\": 3618255.0}, {\"dt\": \"05/01/2019\", \"AIR_RTMFM\": 3745098.0}, {\"dt\": \"06/01/2019\", \"AIR_RTMFM\": 3595928.0}, {\"dt\": \"07/01/2019\", \"AIR_RTMFM\": 3655379.0}, {\"dt\": \"08/01/2019\", \"AIR_RTMFM\": 3670233.0}, {\"dt\": \"09/01/2019\", \"AIR_RTMFM\": 3528614.0}, {\"dt\": \"10/01/2019\", \"AIR_RTMFM\": 3832869.0}, {\"dt\": \"11/01/2019\", \"AIR_RTMFM\": 3850416.0}, {\"dt\": \"12/01/2019\", \"AIR_RTMFM\": 3675337.0}, {\"dt\": \"01/01/2020\", \"AIR_RTMFM\": 3357167.0}, {\"dt\": \"02/01/2020\", \"AIR_RTMFM\": 2954419.0}, {\"dt\": \"03/01/2020\", \"AIR_RTMFM\": 3607776.0}, {\"dt\": \"04/01/2020\", \"AIR_RTMFM\": 3473099.0}, {\"dt\": \"05/01/2020\", \"AIR_RTMFM\": 3813574.0}, {\"dt\": \"06/01/2020\", \"AIR_RTMFM\": 3910916.0}, {\"dt\": \"07/01/2020\", \"AIR_RTMFM\": 4047716.0}, {\"dt\": \"08/01/2020\", \"AIR_RTMFM\": 4005868.0}, {\"dt\": \"09/01/2020\", \"AIR_RTMFM\": 4107403.0}, {\"dt\": \"10/01/2020\", \"AIR_RTMFM\": 4347617.0}, {\"dt\": \"11/01/2020\", \"AIR_RTMFM\": 4357871.0}, {\"dt\": \"12/01/2020\", \"AIR_RTMFM\": 4447502.0}, {\"dt\": \"01/01/2021\", \"AIR_RTMFM\": 4078150.0}, {\"dt\": \"02/01/2021\", \"AIR_RTMFM\": 3563126.0}, {\"dt\": \"03/01/2021\", \"AIR_RTMFM\": 4652578.0}, {\"dt\": \"04/01/2021\", \"AIR_RTMFM\": 4542139.0}, {\"dt\": \"05/01/2021\", \"AIR_RTMFM\": 4501273.0}, {\"dt\": \"06/01/2021\", \"AIR_RTMFM\": 4374325.0}, {\"dt\": \"07/01/2021\", \"AIR_RTMFM\": 4426509.0}, {\"dt\": \"08/01/2021\", \"AIR_RTMFM\": 4317023.0}, {\"dt\": \"09/01/2021\", \"AIR_RTMFM\": 4305893.0}, {\"dt\": \"10/01/2021\", \"AIR_RTMFM\": 4564395.0}, {\"dt\": \"11/01/2021\", \"AIR_RTMFM\": 4403123.0}, {\"dt\": \"12/01/2021\", \"AIR_RTMFM\": 4787729.0}, {\"dt\": \"01/01/2022\", \"AIR_RTMFM\": 4139487.0}, {\"dt\": \"02/01/2022\", \"AIR_RTMFM\": 3875053.0}, {\"dt\": \"03/01/2022\", \"AIR_RTMFM\": 4678075.0}, {\"dt\": \"04/01/2022\", \"AIR_RTMFM\": 4423093.0}, {\"dt\": \"05/01/2022\", \"AIR_RTMFM\": 4360813.0}, {\"dt\": \"06/01/2022\", \"AIR_RTMFM\": 4234313.0}, {\"dt\": \"07/01/2022\", \"AIR_RTMFM\": 4209033.0}, {\"dt\": \"08/01/2022\", \"AIR_RTMFM\": 4236417.0}, {\"dt\": \"09/01/2022\", \"AIR_RTMFM\": 4161425.0}, {\"dt\": \"10/01/2022\", \"AIR_RTMFM\": 4293844.0}, {\"dt\": \"11/01/2022\", \"AIR_RTMFM\": 4224789.0}, {\"dt\": \"12/01/2022\", \"AIR_RTMFM\": 4283509.0}]}}, {\"mode\": \"vega-lite\"});\n",
       "</script>"
      ],
      "text/plain": [
       "alt.VConcatChart(...)"
      ]
     },
     "metadata": {},
     "output_type": "display_data"
    }
   ],
   "source": [
    "c = doComboChart(df_af)\n",
    "c.save('transportation-air-waterway.png')\n",
    "c.display()"
   ]
  },
  {
   "cell_type": "markdown",
   "metadata": {},
   "source": [
    "## Internal Waterways Shipping"
   ]
  },
  {
   "cell_type": "code",
   "execution_count": 5,
   "metadata": {
    "execution": {
     "iopub.execute_input": "2023-04-08T00:56:11.339273Z",
     "iopub.status.busy": "2023-04-08T00:56:11.338561Z",
     "iopub.status.idle": "2023-04-08T00:56:11.484899Z",
     "shell.execute_reply": "2023-04-08T00:56:11.483943Z"
    }
   },
   "outputs": [
    {
     "data": {
      "text/html": [
       "\n",
       "<div id=\"altair-viz-93800a5888ae40dfabd7cf5fe7037671\"></div>\n",
       "<script type=\"text/javascript\">\n",
       "  var VEGA_DEBUG = (typeof VEGA_DEBUG == \"undefined\") ? {} : VEGA_DEBUG;\n",
       "  (function(spec, embedOpt){\n",
       "    let outputDiv = document.currentScript.previousElementSibling;\n",
       "    if (outputDiv.id !== \"altair-viz-93800a5888ae40dfabd7cf5fe7037671\") {\n",
       "      outputDiv = document.getElementById(\"altair-viz-93800a5888ae40dfabd7cf5fe7037671\");\n",
       "    }\n",
       "    const paths = {\n",
       "      \"vega\": \"https://cdn.jsdelivr.net/npm//vega@5?noext\",\n",
       "      \"vega-lib\": \"https://cdn.jsdelivr.net/npm//vega-lib?noext\",\n",
       "      \"vega-lite\": \"https://cdn.jsdelivr.net/npm//vega-lite@4.17.0?noext\",\n",
       "      \"vega-embed\": \"https://cdn.jsdelivr.net/npm//vega-embed@6?noext\",\n",
       "    };\n",
       "\n",
       "    function maybeLoadScript(lib, version) {\n",
       "      var key = `${lib.replace(\"-\", \"\")}_version`;\n",
       "      return (VEGA_DEBUG[key] == version) ?\n",
       "        Promise.resolve(paths[lib]) :\n",
       "        new Promise(function(resolve, reject) {\n",
       "          var s = document.createElement('script');\n",
       "          document.getElementsByTagName(\"head\")[0].appendChild(s);\n",
       "          s.async = true;\n",
       "          s.onload = () => {\n",
       "            VEGA_DEBUG[key] = version;\n",
       "            return resolve(paths[lib]);\n",
       "          };\n",
       "          s.onerror = () => reject(`Error loading script: ${paths[lib]}`);\n",
       "          s.src = paths[lib];\n",
       "        });\n",
       "    }\n",
       "\n",
       "    function showError(err) {\n",
       "      outputDiv.innerHTML = `<div class=\"error\" style=\"color:red;\">${err}</div>`;\n",
       "      throw err;\n",
       "    }\n",
       "\n",
       "    function displayChart(vegaEmbed) {\n",
       "      vegaEmbed(outputDiv, spec, embedOpt)\n",
       "        .catch(err => showError(`Javascript Error: ${err.message}<br>This usually means there's a typo in your chart specification. See the javascript console for the full traceback.`));\n",
       "    }\n",
       "\n",
       "    if(typeof define === \"function\" && define.amd) {\n",
       "      requirejs.config({paths});\n",
       "      require([\"vega-embed\"], displayChart, err => showError(`Error loading script: ${err.message}`));\n",
       "    } else {\n",
       "      maybeLoadScript(\"vega\", \"5\")\n",
       "        .then(() => maybeLoadScript(\"vega-lite\", \"4.17.0\"))\n",
       "        .then(() => maybeLoadScript(\"vega-embed\", \"6\"))\n",
       "        .catch(showError)\n",
       "        .then(() => displayChart(vegaEmbed));\n",
       "    }\n",
       "  })({\"config\": {\"view\": {\"continuousWidth\": 400, \"continuousHeight\": 300}}, \"vconcat\": [{\"mark\": {\"type\": \"bar\", \"color\": \"blue\", \"width\": 2}, \"encoding\": {\"color\": {\"condition\": {\"value\": \"lightsalmon\", \"test\": \"datum['yoy'] < 0\"}, \"value\": \"royalblue\"}, \"tooltip\": [{\"field\": \"dt\", \"format\": \"%b %Y\", \"type\": \"temporal\"}, {\"field\": \"WATERBORNE\", \"format\": \",.02f\", \"type\": \"quantitative\"}], \"x\": {\"axis\": {\"title\": \"\"}, \"field\": \"dt\", \"impute\": {\"value\": null}, \"scale\": {\"domain\": {\"selection\": \"selector002\"}}, \"type\": \"temporal\"}, \"y\": {\"axis\": {\"title\": \"Year-over-Year Growth [%]\"}, \"field\": \"yoy\", \"impute\": {\"keyvals\": [400, 1000], \"method\": \"value\"}, \"type\": \"quantitative\"}}, \"height\": 400, \"title\": \"US Internal Waterways Shipping Volume\", \"transform\": [{\"window\": [{\"op\": \"lag\", \"field\": \"WATERBORNE\", \"param\": 12, \"as\": \"previous\"}], \"sort\": [{\"field\": \"dt\"}]}, {\"calculate\": \"((datum['WATERBORNE'] - datum.previous) / datum.previous) * 100\", \"as\": \"yoy\"}], \"width\": 750}, {\"mark\": {\"type\": \"line\", \"color\": \"purple\"}, \"encoding\": {\"tooltip\": [{\"field\": \"dt\", \"format\": \"%b %Y\", \"type\": \"temporal\"}, {\"field\": \"WATERBORNE\", \"format\": \",.02f\", \"type\": \"quantitative\"}], \"x\": {\"axis\": {\"title\": \"\"}, \"field\": \"dt\", \"type\": \"temporal\"}, \"y\": {\"axis\": {\"title\": \"Volume [Million short tons]\"}, \"field\": \"WATERBORNE\", \"type\": \"quantitative\"}}, \"height\": 100, \"selection\": {\"selector002\": {\"type\": \"interval\", \"encodings\": [\"x\"]}}, \"width\": 750}], \"background\": \"white\", \"data\": {\"name\": \"data-e075a2fac9e4c00ee288982886a14e26\"}, \"$schema\": \"https://vega.github.io/schema/vega-lite/v4.17.0.json\", \"datasets\": {\"data-e075a2fac9e4c00ee288982886a14e26\": [{\"dt\": \"01/01/2000\", \"WATERBORNE\": 48.4}, {\"dt\": \"02/01/2000\", \"WATERBORNE\": 42.0}, {\"dt\": \"03/01/2000\", \"WATERBORNE\": 52.5}, {\"dt\": \"04/01/2000\", \"WATERBORNE\": 52.2}, {\"dt\": \"05/01/2000\", \"WATERBORNE\": 53.5}, {\"dt\": \"06/01/2000\", \"WATERBORNE\": 50.4}, {\"dt\": \"07/01/2000\", \"WATERBORNE\": 53.3}, {\"dt\": \"08/01/2000\", \"WATERBORNE\": 50.9}, {\"dt\": \"09/01/2000\", \"WATERBORNE\": 47.3}, {\"dt\": \"10/01/2000\", \"WATERBORNE\": 50.8}, {\"dt\": \"11/01/2000\", \"WATERBORNE\": 50.0}, {\"dt\": \"12/01/2000\", \"WATERBORNE\": 41.3}, {\"dt\": \"01/01/2001\", \"WATERBORNE\": 39.3}, {\"dt\": \"02/01/2001\", \"WATERBORNE\": 40.9}, {\"dt\": \"03/01/2001\", \"WATERBORNE\": 47.1}, {\"dt\": \"04/01/2001\", \"WATERBORNE\": 49.4}, {\"dt\": \"05/01/2001\", \"WATERBORNE\": 47.7}, {\"dt\": \"06/01/2001\", \"WATERBORNE\": 50.9}, {\"dt\": \"07/01/2001\", \"WATERBORNE\": 51.2}, {\"dt\": \"08/01/2001\", \"WATERBORNE\": 51.8}, {\"dt\": \"09/01/2001\", \"WATERBORNE\": 47.5}, {\"dt\": \"10/01/2001\", \"WATERBORNE\": 49.9}, {\"dt\": \"11/01/2001\", \"WATERBORNE\": 48.5}, {\"dt\": \"12/01/2001\", \"WATERBORNE\": 46.1}, {\"dt\": \"01/01/2002\", \"WATERBORNE\": 41.3}, {\"dt\": \"02/01/2002\", \"WATERBORNE\": 40.5}, {\"dt\": \"03/01/2002\", \"WATERBORNE\": 45.9}, {\"dt\": \"04/01/2002\", \"WATERBORNE\": 47.2}, {\"dt\": \"05/01/2002\", \"WATERBORNE\": 47.4}, {\"dt\": \"06/01/2002\", \"WATERBORNE\": 48.8}, {\"dt\": \"07/01/2002\", \"WATERBORNE\": 50.9}, {\"dt\": \"08/01/2002\", \"WATERBORNE\": 48.8}, {\"dt\": \"09/01/2002\", \"WATERBORNE\": 44.9}, {\"dt\": \"10/01/2002\", \"WATERBORNE\": 50.3}, {\"dt\": \"11/01/2002\", \"WATERBORNE\": 50.7}, {\"dt\": \"12/01/2002\", \"WATERBORNE\": 46.4}, {\"dt\": \"01/01/2003\", \"WATERBORNE\": 39.7}, {\"dt\": \"02/01/2003\", \"WATERBORNE\": 36.0}, {\"dt\": \"03/01/2003\", \"WATERBORNE\": 45.7}, {\"dt\": \"04/01/2003\", \"WATERBORNE\": 47.5}, {\"dt\": \"05/01/2003\", \"WATERBORNE\": 45.5}, {\"dt\": \"06/01/2003\", \"WATERBORNE\": 46.6}, {\"dt\": \"07/01/2003\", \"WATERBORNE\": 47.9}, {\"dt\": \"08/01/2003\", \"WATERBORNE\": 47.1}, {\"dt\": \"09/01/2003\", \"WATERBORNE\": 43.7}, {\"dt\": \"10/01/2003\", \"WATERBORNE\": 49.6}, {\"dt\": \"11/01/2003\", \"WATERBORNE\": 47.9}, {\"dt\": \"12/01/2003\", \"WATERBORNE\": 50.5}, {\"dt\": \"01/01/2004\", \"WATERBORNE\": 43.6}, {\"dt\": \"02/01/2004\", \"WATERBORNE\": 40.7}, {\"dt\": \"03/01/2004\", \"WATERBORNE\": 47.5}, {\"dt\": \"04/01/2004\", \"WATERBORNE\": 49.2}, {\"dt\": \"05/01/2004\", \"WATERBORNE\": 49.4}, {\"dt\": \"06/01/2004\", \"WATERBORNE\": 48.9}, {\"dt\": \"07/01/2004\", \"WATERBORNE\": 51.1}, {\"dt\": \"08/01/2004\", \"WATERBORNE\": 50.4}, {\"dt\": \"09/01/2004\", \"WATERBORNE\": 43.5}, {\"dt\": \"10/01/2004\", \"WATERBORNE\": 53.2}, {\"dt\": \"11/01/2004\", \"WATERBORNE\": 50.3}, {\"dt\": \"12/01/2004\", \"WATERBORNE\": 48.2}, {\"dt\": \"01/01/2005\", \"WATERBORNE\": 41.0}, {\"dt\": \"02/01/2005\", \"WATERBORNE\": 41.5}, {\"dt\": \"03/01/2005\", \"WATERBORNE\": 51.0}, {\"dt\": \"04/01/2005\", \"WATERBORNE\": 51.0}, {\"dt\": \"05/01/2005\", \"WATERBORNE\": 54.7}, {\"dt\": \"06/01/2005\", \"WATERBORNE\": 49.3}, {\"dt\": \"07/01/2005\", \"WATERBORNE\": 50.5}, {\"dt\": \"08/01/2005\", \"WATERBORNE\": 47.1}, {\"dt\": \"09/01/2005\", \"WATERBORNE\": 36.7}, {\"dt\": \"10/01/2005\", \"WATERBORNE\": 44.8}, {\"dt\": \"11/01/2005\", \"WATERBORNE\": 44.9}, {\"dt\": \"12/01/2005\", \"WATERBORNE\": 43.2}, {\"dt\": \"01/01/2006\", \"WATERBORNE\": 41.1}, {\"dt\": \"02/01/2006\", \"WATERBORNE\": 39.9}, {\"dt\": \"03/01/2006\", \"WATERBORNE\": 50.0}, {\"dt\": \"04/01/2006\", \"WATERBORNE\": 47.1}, {\"dt\": \"05/01/2006\", \"WATERBORNE\": 48.9}, {\"dt\": \"06/01/2006\", \"WATERBORNE\": 48.1}, {\"dt\": \"07/01/2006\", \"WATERBORNE\": 47.7}, {\"dt\": \"08/01/2006\", \"WATERBORNE\": 45.8}, {\"dt\": \"09/01/2006\", \"WATERBORNE\": 46.6}, {\"dt\": \"10/01/2006\", \"WATERBORNE\": 46.0}, {\"dt\": \"11/01/2006\", \"WATERBORNE\": 44.9}, {\"dt\": \"12/01/2006\", \"WATERBORNE\": 44.1}, {\"dt\": \"01/01/2007\", \"WATERBORNE\": 41.7}, {\"dt\": \"02/01/2007\", \"WATERBORNE\": 36.2}, {\"dt\": \"03/01/2007\", \"WATERBORNE\": 47.9}, {\"dt\": \"04/01/2007\", \"WATERBORNE\": 48.1}, {\"dt\": \"05/01/2007\", \"WATERBORNE\": 50.0}, {\"dt\": \"06/01/2007\", \"WATERBORNE\": 48.4}, {\"dt\": \"07/01/2007\", \"WATERBORNE\": 46.1}, {\"dt\": \"08/01/2007\", \"WATERBORNE\": 42.1}, {\"dt\": \"09/01/2007\", \"WATERBORNE\": 40.5}, {\"dt\": \"10/01/2007\", \"WATERBORNE\": 47.1}, {\"dt\": \"11/01/2007\", \"WATERBORNE\": 45.1}, {\"dt\": \"12/01/2007\", \"WATERBORNE\": 43.6}, {\"dt\": \"01/01/2008\", \"WATERBORNE\": 41.4}, {\"dt\": \"02/01/2008\", \"WATERBORNE\": 36.9}, {\"dt\": \"03/01/2008\", \"WATERBORNE\": 38.0}, {\"dt\": \"04/01/2008\", \"WATERBORNE\": 41.4}, {\"dt\": \"05/01/2008\", \"WATERBORNE\": 44.8}, {\"dt\": \"06/01/2008\", \"WATERBORNE\": 39.1}, {\"dt\": \"07/01/2008\", \"WATERBORNE\": 45.1}, {\"dt\": \"08/01/2008\", \"WATERBORNE\": 45.3}, {\"dt\": \"09/01/2008\", \"WATERBORNE\": 36.6}, {\"dt\": \"10/01/2008\", \"WATERBORNE\": 44.2}, {\"dt\": \"11/01/2008\", \"WATERBORNE\": 42.8}, {\"dt\": \"12/01/2008\", \"WATERBORNE\": 36.8}, {\"dt\": \"01/01/2009\", \"WATERBORNE\": 33.5}, {\"dt\": \"02/01/2009\", \"WATERBORNE\": 34.1}, {\"dt\": \"03/01/2009\", \"WATERBORNE\": 37.2}, {\"dt\": \"04/01/2009\", \"WATERBORNE\": 37.1}, {\"dt\": \"05/01/2009\", \"WATERBORNE\": 37.4}, {\"dt\": \"06/01/2009\", \"WATERBORNE\": 41.2}, {\"dt\": \"07/01/2009\", \"WATERBORNE\": 42.2}, {\"dt\": \"08/01/2009\", \"WATERBORNE\": 42.7}, {\"dt\": \"09/01/2009\", \"WATERBORNE\": 33.3}, {\"dt\": \"10/01/2009\", \"WATERBORNE\": 36.5}, {\"dt\": \"11/01/2009\", \"WATERBORNE\": 42.1}, {\"dt\": \"12/01/2009\", \"WATERBORNE\": 37.4}, {\"dt\": \"01/01/2010\", \"WATERBORNE\": 39.8}, {\"dt\": \"02/01/2010\", \"WATERBORNE\": 41.0}, {\"dt\": \"03/01/2010\", \"WATERBORNE\": 46.8}, {\"dt\": \"04/01/2010\", \"WATERBORNE\": 47.4}, {\"dt\": \"05/01/2010\", \"WATERBORNE\": 47.6}, {\"dt\": \"06/01/2010\", \"WATERBORNE\": 48.6}, {\"dt\": \"07/01/2010\", \"WATERBORNE\": 47.4}, {\"dt\": \"08/01/2010\", \"WATERBORNE\": 49.1}, {\"dt\": \"09/01/2010\", \"WATERBORNE\": 46.9}, {\"dt\": \"10/01/2010\", \"WATERBORNE\": 51.0}, {\"dt\": \"11/01/2010\", \"WATERBORNE\": 46.7}, {\"dt\": \"12/01/2010\", \"WATERBORNE\": 44.8}, {\"dt\": \"01/01/2011\", \"WATERBORNE\": 44.9}, {\"dt\": \"02/01/2011\", \"WATERBORNE\": 43.0}, {\"dt\": \"03/01/2011\", \"WATERBORNE\": 44.9}, {\"dt\": \"04/01/2011\", \"WATERBORNE\": 45.4}, {\"dt\": \"05/01/2011\", \"WATERBORNE\": 42.9}, {\"dt\": \"06/01/2011\", \"WATERBORNE\": 47.9}, {\"dt\": \"07/01/2011\", \"WATERBORNE\": 49.9}, {\"dt\": \"08/01/2011\", \"WATERBORNE\": 50.9}, {\"dt\": \"09/01/2011\", \"WATERBORNE\": 47.7}, {\"dt\": \"10/01/2011\", \"WATERBORNE\": 52.1}, {\"dt\": \"11/01/2011\", \"WATERBORNE\": 47.0}, {\"dt\": \"12/01/2011\", \"WATERBORNE\": 45.9}, {\"dt\": \"01/01/2012\", \"WATERBORNE\": 45.7}, {\"dt\": \"02/01/2012\", \"WATERBORNE\": 43.6}, {\"dt\": \"03/01/2012\", \"WATERBORNE\": 47.1}, {\"dt\": \"04/01/2012\", \"WATERBORNE\": 46.9}, {\"dt\": \"05/01/2012\", \"WATERBORNE\": 48.3}, {\"dt\": \"06/01/2012\", \"WATERBORNE\": 46.3}, {\"dt\": \"07/01/2012\", \"WATERBORNE\": 46.6}, {\"dt\": \"08/01/2012\", \"WATERBORNE\": 47.6}, {\"dt\": \"09/01/2012\", \"WATERBORNE\": 45.3}, {\"dt\": \"10/01/2012\", \"WATERBORNE\": 50.6}, {\"dt\": \"11/01/2012\", \"WATERBORNE\": 47.2}, {\"dt\": \"12/01/2012\", \"WATERBORNE\": 47.1}, {\"dt\": \"01/01/2013\", \"WATERBORNE\": 44.2}, {\"dt\": \"02/01/2013\", \"WATERBORNE\": 42.9}, {\"dt\": \"03/01/2013\", \"WATERBORNE\": 48.3}, {\"dt\": \"04/01/2013\", \"WATERBORNE\": 44.6}, {\"dt\": \"05/01/2013\", \"WATERBORNE\": 45.9}, {\"dt\": \"06/01/2013\", \"WATERBORNE\": 48.4}, {\"dt\": \"07/01/2013\", \"WATERBORNE\": 47.4}, {\"dt\": \"08/01/2013\", \"WATERBORNE\": 49.1}, {\"dt\": \"09/01/2013\", \"WATERBORNE\": 45.4}, {\"dt\": \"10/01/2013\", \"WATERBORNE\": 50.3}, {\"dt\": \"11/01/2013\", \"WATERBORNE\": 46.6}, {\"dt\": \"12/01/2013\", \"WATERBORNE\": 44.9}, {\"dt\": \"01/01/2014\", \"WATERBORNE\": 44.5}, {\"dt\": \"02/01/2014\", \"WATERBORNE\": 41.6}, {\"dt\": \"03/01/2014\", \"WATERBORNE\": 50.8}, {\"dt\": \"04/01/2014\", \"WATERBORNE\": 50.4}, {\"dt\": \"05/01/2014\", \"WATERBORNE\": 51.8}, {\"dt\": \"06/01/2014\", \"WATERBORNE\": 49.9}, {\"dt\": \"07/01/2014\", \"WATERBORNE\": 50.3}, {\"dt\": \"08/01/2014\", \"WATERBORNE\": 51.0}, {\"dt\": \"09/01/2014\", \"WATERBORNE\": 52.9}, {\"dt\": \"10/01/2014\", \"WATERBORNE\": 56.1}, {\"dt\": \"11/01/2014\", \"WATERBORNE\": 51.2}, {\"dt\": \"12/01/2014\", \"WATERBORNE\": 51.2}, {\"dt\": \"01/01/2015\", \"WATERBORNE\": 48.4}, {\"dt\": \"02/01/2015\", \"WATERBORNE\": 42.0}, {\"dt\": \"03/01/2015\", \"WATERBORNE\": 41.0}, {\"dt\": \"04/01/2015\", \"WATERBORNE\": 46.3}, {\"dt\": \"05/01/2015\", \"WATERBORNE\": 49.6}, {\"dt\": \"06/01/2015\", \"WATERBORNE\": 47.4}, {\"dt\": \"07/01/2015\", \"WATERBORNE\": 47.8}, {\"dt\": \"08/01/2015\", \"WATERBORNE\": 51.5}, {\"dt\": \"09/01/2015\", \"WATERBORNE\": 49.6}, {\"dt\": \"10/01/2015\", \"WATERBORNE\": 50.5}, {\"dt\": \"11/01/2015\", \"WATERBORNE\": 48.2}, {\"dt\": \"12/01/2015\", \"WATERBORNE\": 44.1}, {\"dt\": \"01/01/2016\", \"WATERBORNE\": 39.8}, {\"dt\": \"02/01/2016\", \"WATERBORNE\": 42.9}, {\"dt\": \"03/01/2016\", \"WATERBORNE\": 44.2}, {\"dt\": \"04/01/2016\", \"WATERBORNE\": 45.1}, {\"dt\": \"05/01/2016\", \"WATERBORNE\": 46.4}, {\"dt\": \"06/01/2016\", \"WATERBORNE\": 44.9}, {\"dt\": \"07/01/2016\", \"WATERBORNE\": 47.0}, {\"dt\": \"08/01/2016\", \"WATERBORNE\": 49.4}, {\"dt\": \"09/01/2016\", \"WATERBORNE\": 47.5}, {\"dt\": \"10/01/2016\", \"WATERBORNE\": 49.9}, {\"dt\": \"11/01/2016\", \"WATERBORNE\": 46.1}, {\"dt\": \"12/01/2016\", \"WATERBORNE\": 44.9}, {\"dt\": \"01/01/2017\", \"WATERBORNE\": 43.9}, {\"dt\": \"02/01/2017\", \"WATERBORNE\": 43.0}, {\"dt\": \"03/01/2017\", \"WATERBORNE\": 47.7}, {\"dt\": \"04/01/2017\", \"WATERBORNE\": 44.1}, {\"dt\": \"05/01/2017\", \"WATERBORNE\": 42.6}, {\"dt\": \"06/01/2017\", \"WATERBORNE\": 44.7}, {\"dt\": \"07/01/2017\", \"WATERBORNE\": 45.7}, {\"dt\": \"08/01/2017\", \"WATERBORNE\": 47.0}, {\"dt\": \"09/01/2017\", \"WATERBORNE\": 44.0}, {\"dt\": \"10/01/2017\", \"WATERBORNE\": 45.7}, {\"dt\": \"11/01/2017\", \"WATERBORNE\": 46.6}, {\"dt\": \"12/01/2017\", \"WATERBORNE\": 43.9}, {\"dt\": \"01/01/2018\", \"WATERBORNE\": 45.0}, {\"dt\": \"02/01/2018\", \"WATERBORNE\": 43.9}, {\"dt\": \"03/01/2018\", \"WATERBORNE\": 49.8}, {\"dt\": \"04/01/2018\", \"WATERBORNE\": 52.5}, {\"dt\": \"05/01/2018\", \"WATERBORNE\": 54.2}, {\"dt\": \"06/01/2018\", \"WATERBORNE\": 53.8}, {\"dt\": \"07/01/2018\", \"WATERBORNE\": 49.8}, {\"dt\": \"08/01/2018\", \"WATERBORNE\": 52.0}, {\"dt\": \"09/01/2018\", \"WATERBORNE\": 50.3}, {\"dt\": \"10/01/2018\", \"WATERBORNE\": 56.2}, {\"dt\": \"11/01/2018\", \"WATERBORNE\": 50.2}, {\"dt\": \"12/01/2018\", \"WATERBORNE\": 50.2}, {\"dt\": \"01/01/2019\", \"WATERBORNE\": 48.2}, {\"dt\": \"02/01/2019\", \"WATERBORNE\": 39.5}, {\"dt\": \"03/01/2019\", \"WATERBORNE\": 46.0}, {\"dt\": \"04/01/2019\", \"WATERBORNE\": 51.0}, {\"dt\": \"05/01/2019\", \"WATERBORNE\": 52.4}, {\"dt\": \"06/01/2019\", \"WATERBORNE\": 50.1}, {\"dt\": \"07/01/2019\", \"WATERBORNE\": 49.6}, {\"dt\": \"08/01/2019\", \"WATERBORNE\": 54.3}, {\"dt\": \"09/01/2019\", \"WATERBORNE\": 49.3}, {\"dt\": \"10/01/2019\", \"WATERBORNE\": 54.2}, {\"dt\": \"11/01/2019\", \"WATERBORNE\": 51.1}, {\"dt\": \"12/01/2019\", \"WATERBORNE\": 50.0}, {\"dt\": \"01/01/2020\", \"WATERBORNE\": 48.1}, {\"dt\": \"02/01/2020\", \"WATERBORNE\": 44.0}, {\"dt\": \"03/01/2020\", \"WATERBORNE\": 48.8}, {\"dt\": \"04/01/2020\", \"WATERBORNE\": 48.9}, {\"dt\": \"05/01/2020\", \"WATERBORNE\": 48.4}, {\"dt\": \"06/01/2020\", \"WATERBORNE\": 41.5}, {\"dt\": \"07/01/2020\", \"WATERBORNE\": 43.3}, {\"dt\": \"08/01/2020\", \"WATERBORNE\": 44.3}, {\"dt\": \"09/01/2020\", \"WATERBORNE\": 42.1}, {\"dt\": \"10/01/2020\", \"WATERBORNE\": 48.4}, {\"dt\": \"11/01/2020\", \"WATERBORNE\": 44.6}, {\"dt\": \"12/01/2020\", \"WATERBORNE\": 44.8}, {\"dt\": \"01/01/2021\", \"WATERBORNE\": 45.5}, {\"dt\": \"02/01/2021\", \"WATERBORNE\": 39.8}, {\"dt\": \"03/01/2021\", \"WATERBORNE\": 47.6}, {\"dt\": \"04/01/2021\", \"WATERBORNE\": 47.4}, {\"dt\": \"05/01/2021\", \"WATERBORNE\": 49.4}, {\"dt\": \"06/01/2021\", \"WATERBORNE\": 50.4}, {\"dt\": \"07/01/2021\", \"WATERBORNE\": 47.2}, {\"dt\": \"08/01/2021\", \"WATERBORNE\": 46.8}, {\"dt\": \"09/01/2021\", \"WATERBORNE\": 42.8}, {\"dt\": \"10/01/2021\", \"WATERBORNE\": 51.8}, {\"dt\": \"11/01/2021\", \"WATERBORNE\": 52.1}, {\"dt\": \"12/01/2021\", \"WATERBORNE\": 48.1}, {\"dt\": \"01/01/2022\", \"WATERBORNE\": 48.1}, {\"dt\": \"02/01/2022\", \"WATERBORNE\": 42.3}, {\"dt\": \"03/01/2022\", \"WATERBORNE\": 49.7}, {\"dt\": \"04/01/2022\", \"WATERBORNE\": 51.6}, {\"dt\": \"05/01/2022\", \"WATERBORNE\": 52.3}, {\"dt\": \"06/01/2022\", \"WATERBORNE\": 54.4}, {\"dt\": \"07/01/2022\", \"WATERBORNE\": 55.0}, {\"dt\": \"08/01/2022\", \"WATERBORNE\": 56.3}, {\"dt\": \"09/01/2022\", \"WATERBORNE\": 50.2}, {\"dt\": \"10/01/2022\", \"WATERBORNE\": 52.7}, {\"dt\": \"11/01/2022\", \"WATERBORNE\": 50.3}, {\"dt\": \"12/01/2022\", \"WATERBORNE\": 48.3}]}}, {\"mode\": \"vega-lite\"});\n",
       "</script>"
      ],
      "text/plain": [
       "alt.VConcatChart(...)"
      ]
     },
     "execution_count": 5,
     "metadata": {},
     "output_type": "execute_result"
    }
   ],
   "source": [
    "doComboChart(df_af, metric='WATERBORNE', title='US Internal Waterways Shipping Volume', label='Volume [Million short tons]')"
   ]
  },
  {
   "cell_type": "markdown",
   "metadata": {},
   "source": [
    "## Rail Freight Carloads"
   ]
  },
  {
   "cell_type": "code",
   "execution_count": 6,
   "metadata": {
    "execution": {
     "iopub.execute_input": "2023-04-08T00:56:11.488596Z",
     "iopub.status.busy": "2023-04-08T00:56:11.488035Z",
     "iopub.status.idle": "2023-04-08T00:56:11.635295Z",
     "shell.execute_reply": "2023-04-08T00:56:11.634228Z"
    }
   },
   "outputs": [
    {
     "data": {
      "text/html": [
       "\n",
       "<div id=\"altair-viz-39d08a840c7b46cd889137782ba2f11d\"></div>\n",
       "<script type=\"text/javascript\">\n",
       "  var VEGA_DEBUG = (typeof VEGA_DEBUG == \"undefined\") ? {} : VEGA_DEBUG;\n",
       "  (function(spec, embedOpt){\n",
       "    let outputDiv = document.currentScript.previousElementSibling;\n",
       "    if (outputDiv.id !== \"altair-viz-39d08a840c7b46cd889137782ba2f11d\") {\n",
       "      outputDiv = document.getElementById(\"altair-viz-39d08a840c7b46cd889137782ba2f11d\");\n",
       "    }\n",
       "    const paths = {\n",
       "      \"vega\": \"https://cdn.jsdelivr.net/npm//vega@5?noext\",\n",
       "      \"vega-lib\": \"https://cdn.jsdelivr.net/npm//vega-lib?noext\",\n",
       "      \"vega-lite\": \"https://cdn.jsdelivr.net/npm//vega-lite@4.17.0?noext\",\n",
       "      \"vega-embed\": \"https://cdn.jsdelivr.net/npm//vega-embed@6?noext\",\n",
       "    };\n",
       "\n",
       "    function maybeLoadScript(lib, version) {\n",
       "      var key = `${lib.replace(\"-\", \"\")}_version`;\n",
       "      return (VEGA_DEBUG[key] == version) ?\n",
       "        Promise.resolve(paths[lib]) :\n",
       "        new Promise(function(resolve, reject) {\n",
       "          var s = document.createElement('script');\n",
       "          document.getElementsByTagName(\"head\")[0].appendChild(s);\n",
       "          s.async = true;\n",
       "          s.onload = () => {\n",
       "            VEGA_DEBUG[key] = version;\n",
       "            return resolve(paths[lib]);\n",
       "          };\n",
       "          s.onerror = () => reject(`Error loading script: ${paths[lib]}`);\n",
       "          s.src = paths[lib];\n",
       "        });\n",
       "    }\n",
       "\n",
       "    function showError(err) {\n",
       "      outputDiv.innerHTML = `<div class=\"error\" style=\"color:red;\">${err}</div>`;\n",
       "      throw err;\n",
       "    }\n",
       "\n",
       "    function displayChart(vegaEmbed) {\n",
       "      vegaEmbed(outputDiv, spec, embedOpt)\n",
       "        .catch(err => showError(`Javascript Error: ${err.message}<br>This usually means there's a typo in your chart specification. See the javascript console for the full traceback.`));\n",
       "    }\n",
       "\n",
       "    if(typeof define === \"function\" && define.amd) {\n",
       "      requirejs.config({paths});\n",
       "      require([\"vega-embed\"], displayChart, err => showError(`Error loading script: ${err.message}`));\n",
       "    } else {\n",
       "      maybeLoadScript(\"vega\", \"5\")\n",
       "        .then(() => maybeLoadScript(\"vega-lite\", \"4.17.0\"))\n",
       "        .then(() => maybeLoadScript(\"vega-embed\", \"6\"))\n",
       "        .catch(showError)\n",
       "        .then(() => displayChart(vegaEmbed));\n",
       "    }\n",
       "  })({\"config\": {\"view\": {\"continuousWidth\": 400, \"continuousHeight\": 300}}, \"vconcat\": [{\"mark\": {\"type\": \"bar\", \"color\": \"blue\", \"width\": 2}, \"encoding\": {\"color\": {\"condition\": {\"value\": \"lightsalmon\", \"test\": \"datum['yoy'] < 0\"}, \"value\": \"royalblue\"}, \"tooltip\": [{\"field\": \"dt\", \"format\": \"%b %Y\", \"type\": \"temporal\"}, {\"field\": \"RAIL_FRT_CARLOADS\", \"format\": \",.02f\", \"type\": \"quantitative\"}], \"x\": {\"axis\": {\"title\": \"\"}, \"field\": \"dt\", \"impute\": {\"value\": null}, \"scale\": {\"domain\": {\"selection\": \"selector003\"}}, \"type\": \"temporal\"}, \"y\": {\"axis\": {\"title\": \"Year-over-Year Growth [%]\"}, \"field\": \"yoy\", \"impute\": {\"keyvals\": [400, 1000], \"method\": \"value\"}, \"type\": \"quantitative\"}}, \"height\": 400, \"title\": \"US Rail Freight Carloads\", \"transform\": [{\"window\": [{\"op\": \"lag\", \"field\": \"RAIL_FRT_CARLOADS\", \"param\": 12, \"as\": \"previous\"}], \"sort\": [{\"field\": \"dt\"}]}, {\"calculate\": \"((datum['RAIL_FRT_CARLOADS'] - datum.previous) / datum.previous) * 100\", \"as\": \"yoy\"}], \"width\": 750}, {\"mark\": {\"type\": \"line\", \"color\": \"purple\"}, \"encoding\": {\"tooltip\": [{\"field\": \"dt\", \"format\": \"%b %Y\", \"type\": \"temporal\"}, {\"field\": \"RAIL_FRT_CARLOADS\", \"format\": \",.02f\", \"type\": \"quantitative\"}], \"x\": {\"axis\": {\"title\": \"\"}, \"field\": \"dt\", \"type\": \"temporal\"}, \"y\": {\"axis\": {\"title\": \"Carloads\"}, \"field\": \"RAIL_FRT_CARLOADS\", \"type\": \"quantitative\"}}, \"height\": 100, \"selection\": {\"selector003\": {\"type\": \"interval\", \"encodings\": [\"x\"]}}, \"width\": 750}], \"background\": \"white\", \"data\": {\"name\": \"data-6763a9a4b565c9500a2e05e00c1c93a0\"}, \"$schema\": \"https://vega.github.io/schema/vega-lite/v4.17.0.json\", \"datasets\": {\"data-6763a9a4b565c9500a2e05e00c1c93a0\": [{\"dt\": \"01/01/2000\", \"RAIL_FRT_CARLOADS\": 1402926.0}, {\"dt\": \"02/01/2000\", \"RAIL_FRT_CARLOADS\": 1341942.0}, {\"dt\": \"03/01/2000\", \"RAIL_FRT_CARLOADS\": 1452147.0}, {\"dt\": \"04/01/2000\", \"RAIL_FRT_CARLOADS\": 1386030.0}, {\"dt\": \"05/01/2000\", \"RAIL_FRT_CARLOADS\": 1440661.0}, {\"dt\": \"06/01/2000\", \"RAIL_FRT_CARLOADS\": 1390222.0}, {\"dt\": \"07/01/2000\", \"RAIL_FRT_CARLOADS\": 1377790.0}, {\"dt\": \"08/01/2000\", \"RAIL_FRT_CARLOADS\": 1473014.0}, {\"dt\": \"09/01/2000\", \"RAIL_FRT_CARLOADS\": 1427099.0}, {\"dt\": \"10/01/2000\", \"RAIL_FRT_CARLOADS\": 1489125.0}, {\"dt\": \"11/01/2000\", \"RAIL_FRT_CARLOADS\": 1346909.0}, {\"dt\": \"12/01/2000\", \"RAIL_FRT_CARLOADS\": 1298609.0}, {\"dt\": \"01/01/2001\", \"RAIL_FRT_CARLOADS\": 1378715.0}, {\"dt\": \"02/01/2001\", \"RAIL_FRT_CARLOADS\": 1272599.0}, {\"dt\": \"03/01/2001\", \"RAIL_FRT_CARLOADS\": 1457199.0}, {\"dt\": \"04/01/2001\", \"RAIL_FRT_CARLOADS\": 1390615.0}, {\"dt\": \"05/01/2001\", \"RAIL_FRT_CARLOADS\": 1436953.0}, {\"dt\": \"06/01/2001\", \"RAIL_FRT_CARLOADS\": 1382844.0}, {\"dt\": \"07/01/2001\", \"RAIL_FRT_CARLOADS\": 1331669.0}, {\"dt\": \"08/01/2001\", \"RAIL_FRT_CARLOADS\": 1444314.0}, {\"dt\": \"09/01/2001\", \"RAIL_FRT_CARLOADS\": 1387189.0}, {\"dt\": \"10/01/2001\", \"RAIL_FRT_CARLOADS\": 1489178.0}, {\"dt\": \"11/01/2001\", \"RAIL_FRT_CARLOADS\": 1376611.0}, {\"dt\": \"12/01/2001\", \"RAIL_FRT_CARLOADS\": 1323085.0}, {\"dt\": \"01/01/2002\", \"RAIL_FRT_CARLOADS\": 1362045.0}, {\"dt\": \"02/01/2002\", \"RAIL_FRT_CARLOADS\": 1252632.0}, {\"dt\": \"03/01/2002\", \"RAIL_FRT_CARLOADS\": 1373143.0}, {\"dt\": \"04/01/2002\", \"RAIL_FRT_CARLOADS\": 1359576.0}, {\"dt\": \"05/01/2002\", \"RAIL_FRT_CARLOADS\": 1408401.0}, {\"dt\": \"06/01/2002\", \"RAIL_FRT_CARLOADS\": 1392903.0}, {\"dt\": \"07/01/2002\", \"RAIL_FRT_CARLOADS\": 1363443.0}, {\"dt\": \"08/01/2002\", \"RAIL_FRT_CARLOADS\": 1467852.0}, {\"dt\": \"09/01/2002\", \"RAIL_FRT_CARLOADS\": 1395757.0}, {\"dt\": \"10/01/2002\", \"RAIL_FRT_CARLOADS\": 1462330.0}, {\"dt\": \"11/01/2002\", \"RAIL_FRT_CARLOADS\": 1359625.0}, {\"dt\": \"12/01/2002\", \"RAIL_FRT_CARLOADS\": 1326501.0}, {\"dt\": \"01/01/2003\", \"RAIL_FRT_CARLOADS\": 1348631.0}, {\"dt\": \"02/01/2003\", \"RAIL_FRT_CARLOADS\": 1232970.0}, {\"dt\": \"03/01/2003\", \"RAIL_FRT_CARLOADS\": 1400506.0}, {\"dt\": \"04/01/2003\", \"RAIL_FRT_CARLOADS\": 1362930.0}, {\"dt\": \"05/01/2003\", \"RAIL_FRT_CARLOADS\": 1402692.0}, {\"dt\": \"06/01/2003\", \"RAIL_FRT_CARLOADS\": 1370794.0}, {\"dt\": \"07/01/2003\", \"RAIL_FRT_CARLOADS\": 1357086.0}, {\"dt\": \"08/01/2003\", \"RAIL_FRT_CARLOADS\": 1450003.0}, {\"dt\": \"09/01/2003\", \"RAIL_FRT_CARLOADS\": 1410429.0}, {\"dt\": \"10/01/2003\", \"RAIL_FRT_CARLOADS\": 1491289.0}, {\"dt\": \"11/01/2003\", \"RAIL_FRT_CARLOADS\": 1380233.0}, {\"dt\": \"12/01/2003\", \"RAIL_FRT_CARLOADS\": 1349155.0}, {\"dt\": \"01/01/2004\", \"RAIL_FRT_CARLOADS\": 1391261.0}, {\"dt\": \"02/01/2004\", \"RAIL_FRT_CARLOADS\": 1318895.0}, {\"dt\": \"03/01/2004\", \"RAIL_FRT_CARLOADS\": 1460107.0}, {\"dt\": \"04/01/2004\", \"RAIL_FRT_CARLOADS\": 1422511.0}, {\"dt\": \"05/01/2004\", \"RAIL_FRT_CARLOADS\": 1475594.0}, {\"dt\": \"06/01/2004\", \"RAIL_FRT_CARLOADS\": 1411047.0}, {\"dt\": \"07/01/2004\", \"RAIL_FRT_CARLOADS\": 1405130.0}, {\"dt\": \"08/01/2004\", \"RAIL_FRT_CARLOADS\": 1478446.0}, {\"dt\": \"09/01/2004\", \"RAIL_FRT_CARLOADS\": 1408654.0}, {\"dt\": \"10/01/2004\", \"RAIL_FRT_CARLOADS\": 1509119.0}, {\"dt\": \"11/01/2004\", \"RAIL_FRT_CARLOADS\": 1408453.0}, {\"dt\": \"12/01/2004\", \"RAIL_FRT_CARLOADS\": 1367589.0}, {\"dt\": \"01/01/2005\", \"RAIL_FRT_CARLOADS\": 1396793.0}, {\"dt\": \"02/01/2005\", \"RAIL_FRT_CARLOADS\": 1342757.0}, {\"dt\": \"03/01/2005\", \"RAIL_FRT_CARLOADS\": 1493052.0}, {\"dt\": \"04/01/2005\", \"RAIL_FRT_CARLOADS\": 1460039.0}, {\"dt\": \"05/01/2005\", \"RAIL_FRT_CARLOADS\": 1466477.0}, {\"dt\": \"06/01/2005\", \"RAIL_FRT_CARLOADS\": 1412640.0}, {\"dt\": \"07/01/2005\", \"RAIL_FRT_CARLOADS\": 1404879.0}, {\"dt\": \"08/01/2005\", \"RAIL_FRT_CARLOADS\": 1485201.0}, {\"dt\": \"09/01/2005\", \"RAIL_FRT_CARLOADS\": 1438698.0}, {\"dt\": \"10/01/2005\", \"RAIL_FRT_CARLOADS\": 1470099.0}, {\"dt\": \"11/01/2005\", \"RAIL_FRT_CARLOADS\": 1392562.0}, {\"dt\": \"12/01/2005\", \"RAIL_FRT_CARLOADS\": 1375654.0}, {\"dt\": \"01/01/2006\", \"RAIL_FRT_CARLOADS\": 1464556.0}, {\"dt\": \"02/01/2006\", \"RAIL_FRT_CARLOADS\": 1312500.0}, {\"dt\": \"03/01/2006\", \"RAIL_FRT_CARLOADS\": 1493547.0}, {\"dt\": \"04/01/2006\", \"RAIL_FRT_CARLOADS\": 1446164.0}, {\"dt\": \"05/01/2006\", \"RAIL_FRT_CARLOADS\": 1521036.0}, {\"dt\": \"06/01/2006\", \"RAIL_FRT_CARLOADS\": 1464781.0}, {\"dt\": \"07/01/2006\", \"RAIL_FRT_CARLOADS\": 1428970.0}, {\"dt\": \"08/01/2006\", \"RAIL_FRT_CARLOADS\": 1501964.0}, {\"dt\": \"09/01/2006\", \"RAIL_FRT_CARLOADS\": 1445002.0}, {\"dt\": \"10/01/2006\", \"RAIL_FRT_CARLOADS\": 1493349.0}, {\"dt\": \"11/01/2006\", \"RAIL_FRT_CARLOADS\": 1378183.0}, {\"dt\": \"12/01/2006\", \"RAIL_FRT_CARLOADS\": 1398361.0}, {\"dt\": \"01/01/2007\", \"RAIL_FRT_CARLOADS\": 1370575.0}, {\"dt\": \"02/01/2007\", \"RAIL_FRT_CARLOADS\": 1255311.0}, {\"dt\": \"03/01/2007\", \"RAIL_FRT_CARLOADS\": 1442822.0}, {\"dt\": \"04/01/2007\", \"RAIL_FRT_CARLOADS\": 1413587.0}, {\"dt\": \"05/01/2007\", \"RAIL_FRT_CARLOADS\": 1446592.0}, {\"dt\": \"06/01/2007\", \"RAIL_FRT_CARLOADS\": 1429982.0}, {\"dt\": \"07/01/2007\", \"RAIL_FRT_CARLOADS\": 1391260.0}, {\"dt\": \"08/01/2007\", \"RAIL_FRT_CARLOADS\": 1485342.0}, {\"dt\": \"09/01/2007\", \"RAIL_FRT_CARLOADS\": 1431666.0}, {\"dt\": \"10/01/2007\", \"RAIL_FRT_CARLOADS\": 1487803.0}, {\"dt\": \"11/01/2007\", \"RAIL_FRT_CARLOADS\": 1412571.0}, {\"dt\": \"12/01/2007\", \"RAIL_FRT_CARLOADS\": 1357746.0}, {\"dt\": \"01/01/2008\", \"RAIL_FRT_CARLOADS\": 1387897.0}, {\"dt\": \"02/01/2008\", \"RAIL_FRT_CARLOADS\": 1335398.0}, {\"dt\": \"03/01/2008\", \"RAIL_FRT_CARLOADS\": 1445693.0}, {\"dt\": \"04/01/2008\", \"RAIL_FRT_CARLOADS\": 1423939.0}, {\"dt\": \"05/01/2008\", \"RAIL_FRT_CARLOADS\": 1451560.0}, {\"dt\": \"06/01/2008\", \"RAIL_FRT_CARLOADS\": 1372686.0}, {\"dt\": \"07/01/2008\", \"RAIL_FRT_CARLOADS\": 1422554.0}, {\"dt\": \"08/01/2008\", \"RAIL_FRT_CARLOADS\": 1474209.0}, {\"dt\": \"09/01/2008\", \"RAIL_FRT_CARLOADS\": 1373620.0}, {\"dt\": \"10/01/2008\", \"RAIL_FRT_CARLOADS\": 1445066.0}, {\"dt\": \"11/01/2008\", \"RAIL_FRT_CARLOADS\": 1274531.0}, {\"dt\": \"12/01/2008\", \"RAIL_FRT_CARLOADS\": 1153403.0}, {\"dt\": \"01/01/2009\", \"RAIL_FRT_CARLOADS\": 1162973.0}, {\"dt\": \"02/01/2009\", \"RAIL_FRT_CARLOADS\": 1105996.0}, {\"dt\": \"03/01/2009\", \"RAIL_FRT_CARLOADS\": 1193910.0}, {\"dt\": \"04/01/2009\", \"RAIL_FRT_CARLOADS\": 1095354.0}, {\"dt\": \"05/01/2009\", \"RAIL_FRT_CARLOADS\": 1105635.0}, {\"dt\": \"06/01/2009\", \"RAIL_FRT_CARLOADS\": 1105098.0}, {\"dt\": \"07/01/2009\", \"RAIL_FRT_CARLOADS\": 1176457.0}, {\"dt\": \"08/01/2009\", \"RAIL_FRT_CARLOADS\": 1236764.0}, {\"dt\": \"09/01/2009\", \"RAIL_FRT_CARLOADS\": 1180775.0}, {\"dt\": \"10/01/2009\", \"RAIL_FRT_CARLOADS\": 1220057.0}, {\"dt\": \"11/01/2009\", \"RAIL_FRT_CARLOADS\": 1169623.0}, {\"dt\": \"12/01/2009\", \"RAIL_FRT_CARLOADS\": 1095082.0}, {\"dt\": \"01/01/2010\", \"RAIL_FRT_CARLOADS\": 1160442.0}, {\"dt\": \"02/01/2010\", \"RAIL_FRT_CARLOADS\": 1091829.0}, {\"dt\": \"03/01/2010\", \"RAIL_FRT_CARLOADS\": 1279724.0}, {\"dt\": \"04/01/2010\", \"RAIL_FRT_CARLOADS\": 1260954.0}, {\"dt\": \"05/01/2010\", \"RAIL_FRT_CARLOADS\": 1272845.0}, {\"dt\": \"06/01/2010\", \"RAIL_FRT_CARLOADS\": 1215864.0}, {\"dt\": \"07/01/2010\", \"RAIL_FRT_CARLOADS\": 1244915.0}, {\"dt\": \"08/01/2010\", \"RAIL_FRT_CARLOADS\": 1310410.0}, {\"dt\": \"09/01/2010\", \"RAIL_FRT_CARLOADS\": 1271475.0}, {\"dt\": \"10/01/2010\", \"RAIL_FRT_CARLOADS\": 1322853.0}, {\"dt\": \"11/01/2010\", \"RAIL_FRT_CARLOADS\": 1227151.0}, {\"dt\": \"12/01/2010\", \"RAIL_FRT_CARLOADS\": 1195311.0}, {\"dt\": \"01/01/2011\", \"RAIL_FRT_CARLOADS\": 1254585.0}, {\"dt\": \"02/01/2011\", \"RAIL_FRT_CARLOADS\": 1146300.0}, {\"dt\": \"03/01/2011\", \"RAIL_FRT_CARLOADS\": 1320070.0}, {\"dt\": \"04/01/2011\", \"RAIL_FRT_CARLOADS\": 1264678.0}, {\"dt\": \"05/01/2011\", \"RAIL_FRT_CARLOADS\": 1276671.0}, {\"dt\": \"06/01/2011\", \"RAIL_FRT_CARLOADS\": 1229632.0}, {\"dt\": \"07/01/2011\", \"RAIL_FRT_CARLOADS\": 1234426.0}, {\"dt\": \"08/01/2011\", \"RAIL_FRT_CARLOADS\": 1312456.0}, {\"dt\": \"09/01/2011\", \"RAIL_FRT_CARLOADS\": 1280972.0}, {\"dt\": \"10/01/2011\", \"RAIL_FRT_CARLOADS\": 1345498.0}, {\"dt\": \"11/01/2011\", \"RAIL_FRT_CARLOADS\": 1257921.0}, {\"dt\": \"12/01/2011\", \"RAIL_FRT_CARLOADS\": 1268018.0}, {\"dt\": \"01/01/2012\", \"RAIL_FRT_CARLOADS\": 1267256.0}, {\"dt\": \"02/01/2012\", \"RAIL_FRT_CARLOADS\": 1167610.0}, {\"dt\": \"03/01/2012\", \"RAIL_FRT_CARLOADS\": 1244739.0}, {\"dt\": \"04/01/2012\", \"RAIL_FRT_CARLOADS\": 1192250.0}, {\"dt\": \"05/01/2012\", \"RAIL_FRT_CARLOADS\": 1237395.0}, {\"dt\": \"06/01/2012\", \"RAIL_FRT_CARLOADS\": 1216288.0}, {\"dt\": \"07/01/2012\", \"RAIL_FRT_CARLOADS\": 1227468.0}, {\"dt\": \"08/01/2012\", \"RAIL_FRT_CARLOADS\": 1296307.0}, {\"dt\": \"09/01/2012\", \"RAIL_FRT_CARLOADS\": 1234535.0}, {\"dt\": \"10/01/2012\", \"RAIL_FRT_CARLOADS\": 1262848.0}, {\"dt\": \"11/01/2012\", \"RAIL_FRT_CARLOADS\": 1205969.0}, {\"dt\": \"12/01/2012\", \"RAIL_FRT_CARLOADS\": 1201630.0}, {\"dt\": \"01/01/2013\", \"RAIL_FRT_CARLOADS\": 1192314.0}, {\"dt\": \"02/01/2013\", \"RAIL_FRT_CARLOADS\": 1110548.0}, {\"dt\": \"03/01/2013\", \"RAIL_FRT_CARLOADS\": 1239149.0}, {\"dt\": \"04/01/2013\", \"RAIL_FRT_CARLOADS\": 1190406.0}, {\"dt\": \"05/01/2013\", \"RAIL_FRT_CARLOADS\": 1241624.0}, {\"dt\": \"06/01/2013\", \"RAIL_FRT_CARLOADS\": 1210146.0}, {\"dt\": \"07/01/2013\", \"RAIL_FRT_CARLOADS\": 1226158.0}, {\"dt\": \"08/01/2013\", \"RAIL_FRT_CARLOADS\": 1301948.0}, {\"dt\": \"09/01/2013\", \"RAIL_FRT_CARLOADS\": 1239309.0}, {\"dt\": \"10/01/2013\", \"RAIL_FRT_CARLOADS\": 1280690.0}, {\"dt\": \"11/01/2013\", \"RAIL_FRT_CARLOADS\": 1229055.0}, {\"dt\": \"12/01/2013\", \"RAIL_FRT_CARLOADS\": 1184768.0}, {\"dt\": \"01/01/2014\", \"RAIL_FRT_CARLOADS\": 1201520.0}, {\"dt\": \"02/01/2014\", \"RAIL_FRT_CARLOADS\": 1098607.0}, {\"dt\": \"03/01/2014\", \"RAIL_FRT_CARLOADS\": 1282488.0}, {\"dt\": \"04/01/2014\", \"RAIL_FRT_CARLOADS\": 1269684.0}, {\"dt\": \"05/01/2014\", \"RAIL_FRT_CARLOADS\": 1313273.0}, {\"dt\": \"06/01/2014\", \"RAIL_FRT_CARLOADS\": 1255383.0}, {\"dt\": \"07/01/2014\", \"RAIL_FRT_CARLOADS\": 1307467.0}, {\"dt\": \"08/01/2014\", \"RAIL_FRT_CARLOADS\": 1339869.0}, {\"dt\": \"09/01/2014\", \"RAIL_FRT_CARLOADS\": 1278100.0}, {\"dt\": \"10/01/2014\", \"RAIL_FRT_CARLOADS\": 1335832.0}, {\"dt\": \"11/01/2014\", \"RAIL_FRT_CARLOADS\": 1250050.0}, {\"dt\": \"12/01/2014\", \"RAIL_FRT_CARLOADS\": 1288684.0}, {\"dt\": \"01/01/2015\", \"RAIL_FRT_CARLOADS\": 1272443.0}, {\"dt\": \"02/01/2015\", \"RAIL_FRT_CARLOADS\": 1089174.0}, {\"dt\": \"03/01/2015\", \"RAIL_FRT_CARLOADS\": 1236088.0}, {\"dt\": \"04/01/2015\", \"RAIL_FRT_CARLOADS\": 1202758.0}, {\"dt\": \"05/01/2015\", \"RAIL_FRT_CARLOADS\": 1192699.0}, {\"dt\": \"06/01/2015\", \"RAIL_FRT_CARLOADS\": 1156485.0}, {\"dt\": \"07/01/2015\", \"RAIL_FRT_CARLOADS\": 1227312.0}, {\"dt\": \"08/01/2015\", \"RAIL_FRT_CARLOADS\": 1279486.0}, {\"dt\": \"09/01/2015\", \"RAIL_FRT_CARLOADS\": 1211041.0}, {\"dt\": \"10/01/2015\", \"RAIL_FRT_CARLOADS\": 1249083.0}, {\"dt\": \"11/01/2015\", \"RAIL_FRT_CARLOADS\": 1119467.0}, {\"dt\": \"12/01/2015\", \"RAIL_FRT_CARLOADS\": 1082287.0}, {\"dt\": \"01/01/2016\", \"RAIL_FRT_CARLOADS\": 1062112.0}, {\"dt\": \"02/01/2016\", \"RAIL_FRT_CARLOADS\": 1014985.0}, {\"dt\": \"03/01/2016\", \"RAIL_FRT_CARLOADS\": 1057654.0}, {\"dt\": \"04/01/2016\", \"RAIL_FRT_CARLOADS\": 1012381.0}, {\"dt\": \"05/01/2016\", \"RAIL_FRT_CARLOADS\": 1058600.0}, {\"dt\": \"06/01/2016\", \"RAIL_FRT_CARLOADS\": 1073479.0}, {\"dt\": \"07/01/2016\", \"RAIL_FRT_CARLOADS\": 1139143.0}, {\"dt\": \"08/01/2016\", \"RAIL_FRT_CARLOADS\": 1192602.0}, {\"dt\": \"09/01/2016\", \"RAIL_FRT_CARLOADS\": 1146142.0}, {\"dt\": \"10/01/2016\", \"RAIL_FRT_CARLOADS\": 1184052.0}, {\"dt\": \"11/01/2016\", \"RAIL_FRT_CARLOADS\": 1123870.0}, {\"dt\": \"12/01/2016\", \"RAIL_FRT_CARLOADS\": 1091370.0}, {\"dt\": \"01/01/2017\", \"RAIL_FRT_CARLOADS\": 1106215.0}, {\"dt\": \"02/01/2017\", \"RAIL_FRT_CARLOADS\": 1035202.0}, {\"dt\": \"03/01/2017\", \"RAIL_FRT_CARLOADS\": 1126912.0}, {\"dt\": \"04/01/2017\", \"RAIL_FRT_CARLOADS\": 1089556.0}, {\"dt\": \"05/01/2017\", \"RAIL_FRT_CARLOADS\": 1134834.0}, {\"dt\": \"06/01/2017\", \"RAIL_FRT_CARLOADS\": 1129103.0}, {\"dt\": \"07/01/2017\", \"RAIL_FRT_CARLOADS\": 1129179.0}, {\"dt\": \"08/01/2017\", \"RAIL_FRT_CARLOADS\": 1184965.0}, {\"dt\": \"09/01/2017\", \"RAIL_FRT_CARLOADS\": 1113057.0}, {\"dt\": \"10/01/2017\", \"RAIL_FRT_CARLOADS\": 1173743.0}, {\"dt\": \"11/01/2017\", \"RAIL_FRT_CARLOADS\": 1106644.0}, {\"dt\": \"12/01/2017\", \"RAIL_FRT_CARLOADS\": 1102229.0}, {\"dt\": \"01/01/2018\", \"RAIL_FRT_CARLOADS\": 1074022.0}, {\"dt\": \"02/01/2018\", \"RAIL_FRT_CARLOADS\": 1028163.0}, {\"dt\": \"03/01/2018\", \"RAIL_FRT_CARLOADS\": 1164406.0}, {\"dt\": \"04/01/2018\", \"RAIL_FRT_CARLOADS\": 1126657.0}, {\"dt\": \"05/01/2018\", \"RAIL_FRT_CARLOADS\": 1171733.0}, {\"dt\": \"06/01/2018\", \"RAIL_FRT_CARLOADS\": 1152587.0}, {\"dt\": \"07/01/2018\", \"RAIL_FRT_CARLOADS\": 1168482.0}, {\"dt\": \"08/01/2018\", \"RAIL_FRT_CARLOADS\": 1226049.0}, {\"dt\": \"09/01/2018\", \"RAIL_FRT_CARLOADS\": 1145301.0}, {\"dt\": \"10/01/2018\", \"RAIL_FRT_CARLOADS\": 1183163.0}, {\"dt\": \"11/01/2018\", \"RAIL_FRT_CARLOADS\": 1109139.0}, {\"dt\": \"12/01/2018\", \"RAIL_FRT_CARLOADS\": 1124343.0}, {\"dt\": \"01/01/2019\", \"RAIL_FRT_CARLOADS\": 1106095.0}, {\"dt\": \"02/01/2019\", \"RAIL_FRT_CARLOADS\": 997818.0}, {\"dt\": \"03/01/2019\", \"RAIL_FRT_CARLOADS\": 1064444.0}, {\"dt\": \"04/01/2019\", \"RAIL_FRT_CARLOADS\": 1120790.0}, {\"dt\": \"05/01/2019\", \"RAIL_FRT_CARLOADS\": 1142717.0}, {\"dt\": \"06/01/2019\", \"RAIL_FRT_CARLOADS\": 1088710.0}, {\"dt\": \"07/01/2019\", \"RAIL_FRT_CARLOADS\": 1118656.0}, {\"dt\": \"08/01/2019\", \"RAIL_FRT_CARLOADS\": 1169165.0}, {\"dt\": \"09/01/2019\", \"RAIL_FRT_CARLOADS\": 1063191.0}, {\"dt\": \"10/01/2019\", \"RAIL_FRT_CARLOADS\": 1083582.0}, {\"dt\": \"11/01/2019\", \"RAIL_FRT_CARLOADS\": 1025480.0}, {\"dt\": \"12/01/2019\", \"RAIL_FRT_CARLOADS\": 1020830.0}, {\"dt\": \"01/01/2020\", \"RAIL_FRT_CARLOADS\": 1038813.0}, {\"dt\": \"02/01/2020\", \"RAIL_FRT_CARLOADS\": 962057.0}, {\"dt\": \"03/01/2020\", \"RAIL_FRT_CARLOADS\": 989919.0}, {\"dt\": \"04/01/2020\", \"RAIL_FRT_CARLOADS\": 836433.0}, {\"dt\": \"05/01/2020\", \"RAIL_FRT_CARLOADS\": 821331.0}, {\"dt\": \"06/01/2020\", \"RAIL_FRT_CARLOADS\": 849366.0}, {\"dt\": \"07/01/2020\", \"RAIL_FRT_CARLOADS\": 927800.0}, {\"dt\": \"08/01/2020\", \"RAIL_FRT_CARLOADS\": 992610.0}, {\"dt\": \"09/01/2020\", \"RAIL_FRT_CARLOADS\": 956719.0}, {\"dt\": \"10/01/2020\", \"RAIL_FRT_CARLOADS\": 1012032.0}, {\"dt\": \"11/01/2020\", \"RAIL_FRT_CARLOADS\": 969903.0}, {\"dt\": \"12/01/2020\", \"RAIL_FRT_CARLOADS\": 973999.0}, {\"dt\": \"01/01/2021\", \"RAIL_FRT_CARLOADS\": 1020270.0}, {\"dt\": \"02/01/2021\", \"RAIL_FRT_CARLOADS\": 825664.0}, {\"dt\": \"03/01/2021\", \"RAIL_FRT_CARLOADS\": 1024084.0}, {\"dt\": \"04/01/2021\", \"RAIL_FRT_CARLOADS\": 1015992.0}, {\"dt\": \"05/01/2021\", \"RAIL_FRT_CARLOADS\": 1064035.0}, {\"dt\": \"06/01/2021\", \"RAIL_FRT_CARLOADS\": 1008919.0}, {\"dt\": \"07/01/2021\", \"RAIL_FRT_CARLOADS\": 1006272.0}, {\"dt\": \"08/01/2021\", \"RAIL_FRT_CARLOADS\": 1032286.0}, {\"dt\": \"09/01/2021\", \"RAIL_FRT_CARLOADS\": 1000694.0}, {\"dt\": \"10/01/2021\", \"RAIL_FRT_CARLOADS\": 1049746.0}, {\"dt\": \"11/01/2021\", \"RAIL_FRT_CARLOADS\": 993789.0}, {\"dt\": \"12/01/2021\", \"RAIL_FRT_CARLOADS\": 996958.0}, {\"dt\": \"01/01/2022\", \"RAIL_FRT_CARLOADS\": 995742.0}, {\"dt\": \"02/01/2022\", \"RAIL_FRT_CARLOADS\": 926626.0}, {\"dt\": \"03/01/2022\", \"RAIL_FRT_CARLOADS\": 1035022.0}, {\"dt\": \"04/01/2022\", \"RAIL_FRT_CARLOADS\": 986098.0}, {\"dt\": \"05/01/2022\", \"RAIL_FRT_CARLOADS\": 1025945.0}, {\"dt\": \"06/01/2022\", \"RAIL_FRT_CARLOADS\": 993992.0}, {\"dt\": \"07/01/2022\", \"RAIL_FRT_CARLOADS\": 1006859.0}, {\"dt\": \"08/01/2022\", \"RAIL_FRT_CARLOADS\": 1053483.0}, {\"dt\": \"09/01/2022\", \"RAIL_FRT_CARLOADS\": 998572.0}, {\"dt\": \"10/01/2022\", \"RAIL_FRT_CARLOADS\": 1055070.0}, {\"dt\": \"11/01/2022\", \"RAIL_FRT_CARLOADS\": 989811.0}]}}, {\"mode\": \"vega-lite\"});\n",
       "</script>"
      ],
      "text/plain": [
       "alt.VConcatChart(...)"
      ]
     },
     "execution_count": 6,
     "metadata": {},
     "output_type": "execute_result"
    }
   ],
   "source": [
    "doComboChart(df_af, metric='RAIL_FRT_CARLOADS', title='US Rail Freight Carloads', label='Carloads')"
   ]
  },
  {
   "cell_type": "markdown",
   "metadata": {},
   "source": [
    "## Rail Freight Intermodal"
   ]
  },
  {
   "cell_type": "code",
   "execution_count": 7,
   "metadata": {
    "execution": {
     "iopub.execute_input": "2023-04-08T00:56:11.639218Z",
     "iopub.status.busy": "2023-04-08T00:56:11.638545Z",
     "iopub.status.idle": "2023-04-08T00:56:11.773258Z",
     "shell.execute_reply": "2023-04-08T00:56:11.772335Z"
    }
   },
   "outputs": [
    {
     "data": {
      "text/html": [
       "\n",
       "<div id=\"altair-viz-52cc355bf96f4ffbbe743dc2a49d4192\"></div>\n",
       "<script type=\"text/javascript\">\n",
       "  var VEGA_DEBUG = (typeof VEGA_DEBUG == \"undefined\") ? {} : VEGA_DEBUG;\n",
       "  (function(spec, embedOpt){\n",
       "    let outputDiv = document.currentScript.previousElementSibling;\n",
       "    if (outputDiv.id !== \"altair-viz-52cc355bf96f4ffbbe743dc2a49d4192\") {\n",
       "      outputDiv = document.getElementById(\"altair-viz-52cc355bf96f4ffbbe743dc2a49d4192\");\n",
       "    }\n",
       "    const paths = {\n",
       "      \"vega\": \"https://cdn.jsdelivr.net/npm//vega@5?noext\",\n",
       "      \"vega-lib\": \"https://cdn.jsdelivr.net/npm//vega-lib?noext\",\n",
       "      \"vega-lite\": \"https://cdn.jsdelivr.net/npm//vega-lite@4.17.0?noext\",\n",
       "      \"vega-embed\": \"https://cdn.jsdelivr.net/npm//vega-embed@6?noext\",\n",
       "    };\n",
       "\n",
       "    function maybeLoadScript(lib, version) {\n",
       "      var key = `${lib.replace(\"-\", \"\")}_version`;\n",
       "      return (VEGA_DEBUG[key] == version) ?\n",
       "        Promise.resolve(paths[lib]) :\n",
       "        new Promise(function(resolve, reject) {\n",
       "          var s = document.createElement('script');\n",
       "          document.getElementsByTagName(\"head\")[0].appendChild(s);\n",
       "          s.async = true;\n",
       "          s.onload = () => {\n",
       "            VEGA_DEBUG[key] = version;\n",
       "            return resolve(paths[lib]);\n",
       "          };\n",
       "          s.onerror = () => reject(`Error loading script: ${paths[lib]}`);\n",
       "          s.src = paths[lib];\n",
       "        });\n",
       "    }\n",
       "\n",
       "    function showError(err) {\n",
       "      outputDiv.innerHTML = `<div class=\"error\" style=\"color:red;\">${err}</div>`;\n",
       "      throw err;\n",
       "    }\n",
       "\n",
       "    function displayChart(vegaEmbed) {\n",
       "      vegaEmbed(outputDiv, spec, embedOpt)\n",
       "        .catch(err => showError(`Javascript Error: ${err.message}<br>This usually means there's a typo in your chart specification. See the javascript console for the full traceback.`));\n",
       "    }\n",
       "\n",
       "    if(typeof define === \"function\" && define.amd) {\n",
       "      requirejs.config({paths});\n",
       "      require([\"vega-embed\"], displayChart, err => showError(`Error loading script: ${err.message}`));\n",
       "    } else {\n",
       "      maybeLoadScript(\"vega\", \"5\")\n",
       "        .then(() => maybeLoadScript(\"vega-lite\", \"4.17.0\"))\n",
       "        .then(() => maybeLoadScript(\"vega-embed\", \"6\"))\n",
       "        .catch(showError)\n",
       "        .then(() => displayChart(vegaEmbed));\n",
       "    }\n",
       "  })({\"config\": {\"view\": {\"continuousWidth\": 400, \"continuousHeight\": 300}}, \"vconcat\": [{\"mark\": {\"type\": \"bar\", \"color\": \"blue\", \"width\": 2}, \"encoding\": {\"color\": {\"condition\": {\"value\": \"lightsalmon\", \"test\": \"datum['yoy'] < 0\"}, \"value\": \"royalblue\"}, \"tooltip\": [{\"field\": \"dt\", \"format\": \"%b %Y\", \"type\": \"temporal\"}, {\"field\": \"RAIL_FRT_INTERMODAL\", \"format\": \",.02f\", \"type\": \"quantitative\"}], \"x\": {\"axis\": {\"title\": \"\"}, \"field\": \"dt\", \"impute\": {\"value\": null}, \"scale\": {\"domain\": {\"selection\": \"selector004\"}}, \"type\": \"temporal\"}, \"y\": {\"axis\": {\"title\": \"Year-over-Year Growth [%]\"}, \"field\": \"yoy\", \"impute\": {\"keyvals\": [400, 1000], \"method\": \"value\"}, \"type\": \"quantitative\"}}, \"height\": 400, \"title\": \"US Rail Freight Intermodal\", \"transform\": [{\"window\": [{\"op\": \"lag\", \"field\": \"RAIL_FRT_INTERMODAL\", \"param\": 12, \"as\": \"previous\"}], \"sort\": [{\"field\": \"dt\"}]}, {\"calculate\": \"((datum['RAIL_FRT_INTERMODAL'] - datum.previous) / datum.previous) * 100\", \"as\": \"yoy\"}], \"width\": 750}, {\"mark\": {\"type\": \"line\", \"color\": \"purple\"}, \"encoding\": {\"tooltip\": [{\"field\": \"dt\", \"format\": \"%b %Y\", \"type\": \"temporal\"}, {\"field\": \"RAIL_FRT_INTERMODAL\", \"format\": \",.02f\", \"type\": \"quantitative\"}], \"x\": {\"axis\": {\"title\": \"\"}, \"field\": \"dt\", \"type\": \"temporal\"}, \"y\": {\"axis\": {\"title\": \"Carloads\"}, \"field\": \"RAIL_FRT_INTERMODAL\", \"type\": \"quantitative\"}}, \"height\": 100, \"selection\": {\"selector004\": {\"type\": \"interval\", \"encodings\": [\"x\"]}}, \"width\": 750}], \"background\": \"white\", \"data\": {\"name\": \"data-5b377dcb4921f4146cfdc51d70b1a9c7\"}, \"$schema\": \"https://vega.github.io/schema/vega-lite/v4.17.0.json\", \"datasets\": {\"data-5b377dcb4921f4146cfdc51d70b1a9c7\": [{\"dt\": \"01/01/2000\", \"RAIL_FRT_INTERMODAL\": 723747.0}, {\"dt\": \"02/01/2000\", \"RAIL_FRT_INTERMODAL\": 710611.0}, {\"dt\": \"03/01/2000\", \"RAIL_FRT_INTERMODAL\": 771025.0}, {\"dt\": \"04/01/2000\", \"RAIL_FRT_INTERMODAL\": 747905.0}, {\"dt\": \"05/01/2000\", \"RAIL_FRT_INTERMODAL\": 772852.0}, {\"dt\": \"06/01/2000\", \"RAIL_FRT_INTERMODAL\": 763056.0}, {\"dt\": \"07/01/2000\", \"RAIL_FRT_INTERMODAL\": 760109.0}, {\"dt\": \"08/01/2000\", \"RAIL_FRT_INTERMODAL\": 814860.0}, {\"dt\": \"09/01/2000\", \"RAIL_FRT_INTERMODAL\": 789037.0}, {\"dt\": \"10/01/2000\", \"RAIL_FRT_INTERMODAL\": 859903.0}, {\"dt\": \"11/01/2000\", \"RAIL_FRT_INTERMODAL\": 755194.0}, {\"dt\": \"12/01/2000\", \"RAIL_FRT_INTERMODAL\": 710715.0}, {\"dt\": \"01/01/2001\", \"RAIL_FRT_INTERMODAL\": 718208.0}, {\"dt\": \"02/01/2001\", \"RAIL_FRT_INTERMODAL\": 666813.0}, {\"dt\": \"03/01/2001\", \"RAIL_FRT_INTERMODAL\": 761942.0}, {\"dt\": \"04/01/2001\", \"RAIL_FRT_INTERMODAL\": 717396.0}, {\"dt\": \"05/01/2001\", \"RAIL_FRT_INTERMODAL\": 734970.0}, {\"dt\": \"06/01/2001\", \"RAIL_FRT_INTERMODAL\": 743527.0}, {\"dt\": \"07/01/2001\", \"RAIL_FRT_INTERMODAL\": 733967.0}, {\"dt\": \"08/01/2001\", \"RAIL_FRT_INTERMODAL\": 802542.0}, {\"dt\": \"09/01/2001\", \"RAIL_FRT_INTERMODAL\": 775082.0}, {\"dt\": \"10/01/2001\", \"RAIL_FRT_INTERMODAL\": 827614.0}, {\"dt\": \"11/01/2001\", \"RAIL_FRT_INTERMODAL\": 743670.0}, {\"dt\": \"12/01/2001\", \"RAIL_FRT_INTERMODAL\": 688215.0}, {\"dt\": \"01/01/2002\", \"RAIL_FRT_INTERMODAL\": 701350.0}, {\"dt\": \"02/01/2002\", \"RAIL_FRT_INTERMODAL\": 688595.0}, {\"dt\": \"03/01/2002\", \"RAIL_FRT_INTERMODAL\": 758158.0}, {\"dt\": \"04/01/2002\", \"RAIL_FRT_INTERMODAL\": 774537.0}, {\"dt\": \"05/01/2002\", \"RAIL_FRT_INTERMODAL\": 800215.0}, {\"dt\": \"06/01/2002\", \"RAIL_FRT_INTERMODAL\": 805089.0}, {\"dt\": \"07/01/2002\", \"RAIL_FRT_INTERMODAL\": 800913.0}, {\"dt\": \"08/01/2002\", \"RAIL_FRT_INTERMODAL\": 867104.0}, {\"dt\": \"09/01/2002\", \"RAIL_FRT_INTERMODAL\": 810856.0}, {\"dt\": \"10/01/2002\", \"RAIL_FRT_INTERMODAL\": 791259.0}, {\"dt\": \"11/01/2002\", \"RAIL_FRT_INTERMODAL\": 791000.0}, {\"dt\": \"12/01/2002\", \"RAIL_FRT_INTERMODAL\": 744615.0}, {\"dt\": \"01/01/2003\", \"RAIL_FRT_INTERMODAL\": 787446.0}, {\"dt\": \"02/01/2003\", \"RAIL_FRT_INTERMODAL\": 730315.0}, {\"dt\": \"03/01/2003\", \"RAIL_FRT_INTERMODAL\": 826783.0}, {\"dt\": \"04/01/2003\", \"RAIL_FRT_INTERMODAL\": 810805.0}, {\"dt\": \"05/01/2003\", \"RAIL_FRT_INTERMODAL\": 836029.0}, {\"dt\": \"06/01/2003\", \"RAIL_FRT_INTERMODAL\": 829971.0}, {\"dt\": \"07/01/2003\", \"RAIL_FRT_INTERMODAL\": 839459.0}, {\"dt\": \"08/01/2003\", \"RAIL_FRT_INTERMODAL\": 871757.0}, {\"dt\": \"09/01/2003\", \"RAIL_FRT_INTERMODAL\": 857231.0}, {\"dt\": \"10/01/2003\", \"RAIL_FRT_INTERMODAL\": 928584.0}, {\"dt\": \"11/01/2003\", \"RAIL_FRT_INTERMODAL\": 852170.0}, {\"dt\": \"12/01/2003\", \"RAIL_FRT_INTERMODAL\": 797451.0}, {\"dt\": \"01/01/2004\", \"RAIL_FRT_INTERMODAL\": 841769.0}, {\"dt\": \"02/01/2004\", \"RAIL_FRT_INTERMODAL\": 806222.0}, {\"dt\": \"03/01/2004\", \"RAIL_FRT_INTERMODAL\": 906899.0}, {\"dt\": \"04/01/2004\", \"RAIL_FRT_INTERMODAL\": 892142.0}, {\"dt\": \"05/01/2004\", \"RAIL_FRT_INTERMODAL\": 938204.0}, {\"dt\": \"06/01/2004\", \"RAIL_FRT_INTERMODAL\": 916328.0}, {\"dt\": \"07/01/2004\", \"RAIL_FRT_INTERMODAL\": 930866.0}, {\"dt\": \"08/01/2004\", \"RAIL_FRT_INTERMODAL\": 970145.0}, {\"dt\": \"09/01/2004\", \"RAIL_FRT_INTERMODAL\": 937213.0}, {\"dt\": \"10/01/2004\", \"RAIL_FRT_INTERMODAL\": 1027749.0}, {\"dt\": \"11/01/2004\", \"RAIL_FRT_INTERMODAL\": 956383.0}, {\"dt\": \"12/01/2004\", \"RAIL_FRT_INTERMODAL\": 906275.0}, {\"dt\": \"01/01/2005\", \"RAIL_FRT_INTERMODAL\": 925534.0}, {\"dt\": \"02/01/2005\", \"RAIL_FRT_INTERMODAL\": 883984.0}, {\"dt\": \"03/01/2005\", \"RAIL_FRT_INTERMODAL\": 935163.0}, {\"dt\": \"04/01/2005\", \"RAIL_FRT_INTERMODAL\": 945359.0}, {\"dt\": \"05/01/2005\", \"RAIL_FRT_INTERMODAL\": 976854.0}, {\"dt\": \"06/01/2005\", \"RAIL_FRT_INTERMODAL\": 956014.0}, {\"dt\": \"07/01/2005\", \"RAIL_FRT_INTERMODAL\": 979130.0}, {\"dt\": \"08/01/2005\", \"RAIL_FRT_INTERMODAL\": 1040831.0}, {\"dt\": \"09/01/2005\", \"RAIL_FRT_INTERMODAL\": 1002951.0}, {\"dt\": \"10/01/2005\", \"RAIL_FRT_INTERMODAL\": 1093139.0}, {\"dt\": \"11/01/2005\", \"RAIL_FRT_INTERMODAL\": 1000302.0}, {\"dt\": \"12/01/2005\", \"RAIL_FRT_INTERMODAL\": 977753.0}, {\"dt\": \"01/01/2006\", \"RAIL_FRT_INTERMODAL\": 991980.0}, {\"dt\": \"02/01/2006\", \"RAIL_FRT_INTERMODAL\": 896379.0}, {\"dt\": \"03/01/2006\", \"RAIL_FRT_INTERMODAL\": 1012540.0}, {\"dt\": \"04/01/2006\", \"RAIL_FRT_INTERMODAL\": 1015609.0}, {\"dt\": \"05/01/2006\", \"RAIL_FRT_INTERMODAL\": 1045039.0}, {\"dt\": \"06/01/2006\", \"RAIL_FRT_INTERMODAL\": 1033661.0}, {\"dt\": \"07/01/2006\", \"RAIL_FRT_INTERMODAL\": 1041756.0}, {\"dt\": \"08/01/2006\", \"RAIL_FRT_INTERMODAL\": 1106273.0}, {\"dt\": \"09/01/2006\", \"RAIL_FRT_INTERMODAL\": 1060237.0}, {\"dt\": \"10/01/2006\", \"RAIL_FRT_INTERMODAL\": 1113993.0}, {\"dt\": \"11/01/2006\", \"RAIL_FRT_INTERMODAL\": 1006847.0}, {\"dt\": \"12/01/2006\", \"RAIL_FRT_INTERMODAL\": 984846.0}, {\"dt\": \"01/01/2007\", \"RAIL_FRT_INTERMODAL\": 981972.0}, {\"dt\": \"02/01/2007\", \"RAIL_FRT_INTERMODAL\": 920164.0}, {\"dt\": \"03/01/2007\", \"RAIL_FRT_INTERMODAL\": 1009963.0}, {\"dt\": \"04/01/2007\", \"RAIL_FRT_INTERMODAL\": 974909.0}, {\"dt\": \"05/01/2007\", \"RAIL_FRT_INTERMODAL\": 1018160.0}, {\"dt\": \"06/01/2007\", \"RAIL_FRT_INTERMODAL\": 1020267.0}, {\"dt\": \"07/01/2007\", \"RAIL_FRT_INTERMODAL\": 1015526.0}, {\"dt\": \"08/01/2007\", \"RAIL_FRT_INTERMODAL\": 1058591.0}, {\"dt\": \"09/01/2007\", \"RAIL_FRT_INTERMODAL\": 1032837.0}, {\"dt\": \"10/01/2007\", \"RAIL_FRT_INTERMODAL\": 1071991.0}, {\"dt\": \"11/01/2007\", \"RAIL_FRT_INTERMODAL\": 993055.0}, {\"dt\": \"12/01/2007\", \"RAIL_FRT_INTERMODAL\": 949057.0}, {\"dt\": \"01/01/2008\", \"RAIL_FRT_INTERMODAL\": 957435.0}, {\"dt\": \"02/01/2008\", \"RAIL_FRT_INTERMODAL\": 926466.0}, {\"dt\": \"03/01/2008\", \"RAIL_FRT_INTERMODAL\": 950282.0}, {\"dt\": \"04/01/2008\", \"RAIL_FRT_INTERMODAL\": 959169.0}, {\"dt\": \"05/01/2008\", \"RAIL_FRT_INTERMODAL\": 997834.0}, {\"dt\": \"06/01/2008\", \"RAIL_FRT_INTERMODAL\": 978498.0}, {\"dt\": \"07/01/2008\", \"RAIL_FRT_INTERMODAL\": 1004378.0}, {\"dt\": \"08/01/2008\", \"RAIL_FRT_INTERMODAL\": 1036147.0}, {\"dt\": \"09/01/2008\", \"RAIL_FRT_INTERMODAL\": 994549.0}, {\"dt\": \"10/01/2008\", \"RAIL_FRT_INTERMODAL\": 1037799.0}, {\"dt\": \"11/01/2008\", \"RAIL_FRT_INTERMODAL\": 915200.0}, {\"dt\": \"12/01/2008\", \"RAIL_FRT_INTERMODAL\": 796421.0}, {\"dt\": \"01/01/2009\", \"RAIL_FRT_INTERMODAL\": 846511.0}, {\"dt\": \"02/01/2009\", \"RAIL_FRT_INTERMODAL\": 726343.0}, {\"dt\": \"03/01/2009\", \"RAIL_FRT_INTERMODAL\": 808252.0}, {\"dt\": \"04/01/2009\", \"RAIL_FRT_INTERMODAL\": 785964.0}, {\"dt\": \"05/01/2009\", \"RAIL_FRT_INTERMODAL\": 810365.0}, {\"dt\": \"06/01/2009\", \"RAIL_FRT_INTERMODAL\": 800581.0}, {\"dt\": \"07/01/2009\", \"RAIL_FRT_INTERMODAL\": 822512.0}, {\"dt\": \"08/01/2009\", \"RAIL_FRT_INTERMODAL\": 869310.0}, {\"dt\": \"09/01/2009\", \"RAIL_FRT_INTERMODAL\": 847217.0}, {\"dt\": \"10/01/2009\", \"RAIL_FRT_INTERMODAL\": 914752.0}, {\"dt\": \"11/01/2009\", \"RAIL_FRT_INTERMODAL\": 853396.0}, {\"dt\": \"12/01/2009\", \"RAIL_FRT_INTERMODAL\": 810958.0}, {\"dt\": \"01/01/2010\", \"RAIL_FRT_INTERMODAL\": 874628.0}, {\"dt\": \"02/01/2010\", \"RAIL_FRT_INTERMODAL\": 801194.0}, {\"dt\": \"03/01/2010\", \"RAIL_FRT_INTERMODAL\": 909992.0}, {\"dt\": \"04/01/2010\", \"RAIL_FRT_INTERMODAL\": 892456.0}, {\"dt\": \"05/01/2010\", \"RAIL_FRT_INTERMODAL\": 952718.0}, {\"dt\": \"06/01/2010\", \"RAIL_FRT_INTERMODAL\": 947437.0}, {\"dt\": \"07/01/2010\", \"RAIL_FRT_INTERMODAL\": 983066.0}, {\"dt\": \"08/01/2010\", \"RAIL_FRT_INTERMODAL\": 1040147.0}, {\"dt\": \"09/01/2010\", \"RAIL_FRT_INTERMODAL\": 995071.0}, {\"dt\": \"10/01/2010\", \"RAIL_FRT_INTERMODAL\": 1043430.0}, {\"dt\": \"11/01/2010\", \"RAIL_FRT_INTERMODAL\": 951816.0}, {\"dt\": \"12/01/2010\", \"RAIL_FRT_INTERMODAL\": 909186.0}, {\"dt\": \"01/01/2011\", \"RAIL_FRT_INTERMODAL\": 943869.0}, {\"dt\": \"02/01/2011\", \"RAIL_FRT_INTERMODAL\": 886140.0}, {\"dt\": \"03/01/2011\", \"RAIL_FRT_INTERMODAL\": 983115.0}, {\"dt\": \"04/01/2011\", \"RAIL_FRT_INTERMODAL\": 981463.0}, {\"dt\": \"05/01/2011\", \"RAIL_FRT_INTERMODAL\": 1021055.0}, {\"dt\": \"06/01/2011\", \"RAIL_FRT_INTERMODAL\": 996622.0}, {\"dt\": \"07/01/2011\", \"RAIL_FRT_INTERMODAL\": 997012.0}, {\"dt\": \"08/01/2011\", \"RAIL_FRT_INTERMODAL\": 1045925.0}, {\"dt\": \"09/01/2011\", \"RAIL_FRT_INTERMODAL\": 1014029.0}, {\"dt\": \"10/01/2011\", \"RAIL_FRT_INTERMODAL\": 1079741.0}, {\"dt\": \"11/01/2011\", \"RAIL_FRT_INTERMODAL\": 989342.0}, {\"dt\": \"12/01/2011\", \"RAIL_FRT_INTERMODAL\": 977960.0}, {\"dt\": \"01/01/2012\", \"RAIL_FRT_INTERMODAL\": 977417.0}, {\"dt\": \"02/01/2012\", \"RAIL_FRT_INTERMODAL\": 925371.0}, {\"dt\": \"03/01/2012\", \"RAIL_FRT_INTERMODAL\": 1025735.0}, {\"dt\": \"04/01/2012\", \"RAIL_FRT_INTERMODAL\": 1015261.0}, {\"dt\": \"05/01/2012\", \"RAIL_FRT_INTERMODAL\": 1048915.0}, {\"dt\": \"06/01/2012\", \"RAIL_FRT_INTERMODAL\": 1057111.0}, {\"dt\": \"07/01/2012\", \"RAIL_FRT_INTERMODAL\": 1050304.0}, {\"dt\": \"08/01/2012\", \"RAIL_FRT_INTERMODAL\": 1091182.0}, {\"dt\": \"09/01/2012\", \"RAIL_FRT_INTERMODAL\": 1055933.0}, {\"dt\": \"10/01/2012\", \"RAIL_FRT_INTERMODAL\": 1101408.0}, {\"dt\": \"11/01/2012\", \"RAIL_FRT_INTERMODAL\": 996259.0}, {\"dt\": \"12/01/2012\", \"RAIL_FRT_INTERMODAL\": 973474.0}, {\"dt\": \"01/01/2013\", \"RAIL_FRT_INTERMODAL\": 1046442.0}, {\"dt\": \"02/01/2013\", \"RAIL_FRT_INTERMODAL\": 983077.0}, {\"dt\": \"03/01/2013\", \"RAIL_FRT_INTERMODAL\": 1037566.0}, {\"dt\": \"04/01/2013\", \"RAIL_FRT_INTERMODAL\": 1034194.0}, {\"dt\": \"05/01/2013\", \"RAIL_FRT_INTERMODAL\": 1077102.0}, {\"dt\": \"06/01/2013\", \"RAIL_FRT_INTERMODAL\": 1070484.0}, {\"dt\": \"07/01/2013\", \"RAIL_FRT_INTERMODAL\": 1079970.0}, {\"dt\": \"08/01/2013\", \"RAIL_FRT_INTERMODAL\": 1140462.0}, {\"dt\": \"09/01/2013\", \"RAIL_FRT_INTERMODAL\": 1103442.0}, {\"dt\": \"10/01/2013\", \"RAIL_FRT_INTERMODAL\": 1165982.0}, {\"dt\": \"11/01/2013\", \"RAIL_FRT_INTERMODAL\": 1083084.0}, {\"dt\": \"12/01/2013\", \"RAIL_FRT_INTERMODAL\": 1038694.0}, {\"dt\": \"01/01/2014\", \"RAIL_FRT_INTERMODAL\": 1067964.0}, {\"dt\": \"02/01/2014\", \"RAIL_FRT_INTERMODAL\": 992254.0}, {\"dt\": \"03/01/2014\", \"RAIL_FRT_INTERMODAL\": 1137395.0}, {\"dt\": \"04/01/2014\", \"RAIL_FRT_INTERMODAL\": 1126987.0}, {\"dt\": \"05/01/2014\", \"RAIL_FRT_INTERMODAL\": 1160489.0}, {\"dt\": \"06/01/2014\", \"RAIL_FRT_INTERMODAL\": 1142230.0}, {\"dt\": \"07/01/2014\", \"RAIL_FRT_INTERMODAL\": 1144252.0}, {\"dt\": \"08/01/2014\", \"RAIL_FRT_INTERMODAL\": 1187136.0}, {\"dt\": \"09/01/2014\", \"RAIL_FRT_INTERMODAL\": 1157442.0}, {\"dt\": \"10/01/2014\", \"RAIL_FRT_INTERMODAL\": 1223207.0}, {\"dt\": \"11/01/2014\", \"RAIL_FRT_INTERMODAL\": 1113273.0}, {\"dt\": \"12/01/2014\", \"RAIL_FRT_INTERMODAL\": 1070542.0}, {\"dt\": \"01/01/2015\", \"RAIL_FRT_INTERMODAL\": 1084673.0}, {\"dt\": \"02/01/2015\", \"RAIL_FRT_INTERMODAL\": 929348.0}, {\"dt\": \"03/01/2015\", \"RAIL_FRT_INTERMODAL\": 1200332.0}, {\"dt\": \"04/01/2015\", \"RAIL_FRT_INTERMODAL\": 1186358.0}, {\"dt\": \"05/01/2015\", \"RAIL_FRT_INTERMODAL\": 1206950.0}, {\"dt\": \"06/01/2015\", \"RAIL_FRT_INTERMODAL\": 1186247.0}, {\"dt\": \"07/01/2015\", \"RAIL_FRT_INTERMODAL\": 1184112.0}, {\"dt\": \"08/01/2015\", \"RAIL_FRT_INTERMODAL\": 1232802.0}, {\"dt\": \"09/01/2015\", \"RAIL_FRT_INTERMODAL\": 1165129.0}, {\"dt\": \"10/01/2015\", \"RAIL_FRT_INTERMODAL\": 1209771.0}, {\"dt\": \"11/01/2015\", \"RAIL_FRT_INTERMODAL\": 1101811.0}, {\"dt\": \"12/01/2015\", \"RAIL_FRT_INTERMODAL\": 1049014.0}, {\"dt\": \"01/01/2016\", \"RAIL_FRT_INTERMODAL\": 1130858.0}, {\"dt\": \"02/01/2016\", \"RAIL_FRT_INTERMODAL\": 1087281.0}, {\"dt\": \"03/01/2016\", \"RAIL_FRT_INTERMODAL\": 1102697.0}, {\"dt\": \"04/01/2016\", \"RAIL_FRT_INTERMODAL\": 1101110.0}, {\"dt\": \"05/01/2016\", \"RAIL_FRT_INTERMODAL\": 1148705.0}, {\"dt\": \"06/01/2016\", \"RAIL_FRT_INTERMODAL\": 1120398.0}, {\"dt\": \"07/01/2016\", \"RAIL_FRT_INTERMODAL\": 1115819.0}, {\"dt\": \"08/01/2016\", \"RAIL_FRT_INTERMODAL\": 1175723.0}, {\"dt\": \"09/01/2016\", \"RAIL_FRT_INTERMODAL\": 1116007.0}, {\"dt\": \"10/01/2016\", \"RAIL_FRT_INTERMODAL\": 1192422.0}, {\"dt\": \"11/01/2016\", \"RAIL_FRT_INTERMODAL\": 1121925.0}, {\"dt\": \"12/01/2016\", \"RAIL_FRT_INTERMODAL\": 1131383.0}, {\"dt\": \"01/01/2017\", \"RAIL_FRT_INTERMODAL\": 1113971.0}, {\"dt\": \"02/01/2017\", \"RAIL_FRT_INTERMODAL\": 1040348.0}, {\"dt\": \"03/01/2017\", \"RAIL_FRT_INTERMODAL\": 1123340.0}, {\"dt\": \"04/01/2017\", \"RAIL_FRT_INTERMODAL\": 1103713.0}, {\"dt\": \"05/01/2017\", \"RAIL_FRT_INTERMODAL\": 1171410.0}, {\"dt\": \"06/01/2017\", \"RAIL_FRT_INTERMODAL\": 1156506.0}, {\"dt\": \"07/01/2017\", \"RAIL_FRT_INTERMODAL\": 1153881.0}, {\"dt\": \"08/01/2017\", \"RAIL_FRT_INTERMODAL\": 1216328.0}, {\"dt\": \"09/01/2017\", \"RAIL_FRT_INTERMODAL\": 1139093.0}, {\"dt\": \"10/01/2017\", \"RAIL_FRT_INTERMODAL\": 1233353.0}, {\"dt\": \"11/01/2017\", \"RAIL_FRT_INTERMODAL\": 1143806.0}, {\"dt\": \"12/01/2017\", \"RAIL_FRT_INTERMODAL\": 1155490.0}, {\"dt\": \"01/01/2018\", \"RAIL_FRT_INTERMODAL\": 1159338.0}, {\"dt\": \"02/01/2018\", \"RAIL_FRT_INTERMODAL\": 1105421.0}, {\"dt\": \"03/01/2018\", \"RAIL_FRT_INTERMODAL\": 1201985.0}, {\"dt\": \"04/01/2018\", \"RAIL_FRT_INTERMODAL\": 1179073.0}, {\"dt\": \"05/01/2018\", \"RAIL_FRT_INTERMODAL\": 1244509.0}, {\"dt\": \"06/01/2018\", \"RAIL_FRT_INTERMODAL\": 1233577.0}, {\"dt\": \"07/01/2018\", \"RAIL_FRT_INTERMODAL\": 1232880.0}, {\"dt\": \"08/01/2018\", \"RAIL_FRT_INTERMODAL\": 1276948.0}, {\"dt\": \"09/01/2018\", \"RAIL_FRT_INTERMODAL\": 1209202.0}, {\"dt\": \"10/01/2018\", \"RAIL_FRT_INTERMODAL\": 1279057.0}, {\"dt\": \"11/01/2018\", \"RAIL_FRT_INTERMODAL\": 1183104.0}, {\"dt\": \"12/01/2018\", \"RAIL_FRT_INTERMODAL\": 1199347.0}, {\"dt\": \"01/01/2019\", \"RAIL_FRT_INTERMODAL\": 1181896.0}, {\"dt\": \"02/01/2019\", \"RAIL_FRT_INTERMODAL\": 1088287.0}, {\"dt\": \"03/01/2019\", \"RAIL_FRT_INTERMODAL\": 1182130.0}, {\"dt\": \"04/01/2019\", \"RAIL_FRT_INTERMODAL\": 1133354.0}, {\"dt\": \"05/01/2019\", \"RAIL_FRT_INTERMODAL\": 1166977.0}, {\"dt\": \"06/01/2019\", \"RAIL_FRT_INTERMODAL\": 1142915.0}, {\"dt\": \"07/01/2019\", \"RAIL_FRT_INTERMODAL\": 1163930.0}, {\"dt\": \"08/01/2019\", \"RAIL_FRT_INTERMODAL\": 1207740.0}, {\"dt\": \"09/01/2019\", \"RAIL_FRT_INTERMODAL\": 1138058.0}, {\"dt\": \"10/01/2019\", \"RAIL_FRT_INTERMODAL\": 1179756.0}, {\"dt\": \"11/01/2019\", \"RAIL_FRT_INTERMODAL\": 1095406.0}, {\"dt\": \"12/01/2019\", \"RAIL_FRT_INTERMODAL\": 1075973.0}, {\"dt\": \"01/01/2020\", \"RAIL_FRT_INTERMODAL\": 1121664.0}, {\"dt\": \"02/01/2020\", \"RAIL_FRT_INTERMODAL\": 1036215.0}, {\"dt\": \"03/01/2020\", \"RAIL_FRT_INTERMODAL\": 1028873.0}, {\"dt\": \"04/01/2020\", \"RAIL_FRT_INTERMODAL\": 936802.0}, {\"dt\": \"05/01/2020\", \"RAIL_FRT_INTERMODAL\": 1012346.0}, {\"dt\": \"06/01/2020\", \"RAIL_FRT_INTERMODAL\": 1075605.0}, {\"dt\": \"07/01/2020\", \"RAIL_FRT_INTERMODAL\": 1152235.0}, {\"dt\": \"08/01/2020\", \"RAIL_FRT_INTERMODAL\": 1243652.0}, {\"dt\": \"09/01/2020\", \"RAIL_FRT_INTERMODAL\": 1218979.0}, {\"dt\": \"10/01/2020\", \"RAIL_FRT_INTERMODAL\": 1292686.0}, {\"dt\": \"11/01/2020\", \"RAIL_FRT_INTERMODAL\": 1221661.0}, {\"dt\": \"12/01/2020\", \"RAIL_FRT_INTERMODAL\": 1186808.0}, {\"dt\": \"01/01/2021\", \"RAIL_FRT_INTERMODAL\": 1274512.0}, {\"dt\": \"02/01/2021\", \"RAIL_FRT_INTERMODAL\": 1017915.0}, {\"dt\": \"03/01/2021\", \"RAIL_FRT_INTERMODAL\": 1267475.0}, {\"dt\": \"04/01/2021\", \"RAIL_FRT_INTERMODAL\": 1253645.0}, {\"dt\": \"05/01/2021\", \"RAIL_FRT_INTERMODAL\": 1269402.0}, {\"dt\": \"06/01/2021\", \"RAIL_FRT_INTERMODAL\": 1193552.0}, {\"dt\": \"07/01/2021\", \"RAIL_FRT_INTERMODAL\": 1184293.0}, {\"dt\": \"08/01/2021\", \"RAIL_FRT_INTERMODAL\": 1199382.0}, {\"dt\": \"09/01/2021\", \"RAIL_FRT_INTERMODAL\": 1136162.0}, {\"dt\": \"10/01/2021\", \"RAIL_FRT_INTERMODAL\": 1194150.0}, {\"dt\": \"11/01/2021\", \"RAIL_FRT_INTERMODAL\": 1106400.0}, {\"dt\": \"12/01/2021\", \"RAIL_FRT_INTERMODAL\": 1080888.0}, {\"dt\": \"01/01/2022\", \"RAIL_FRT_INTERMODAL\": 1096981.0}, {\"dt\": \"02/01/2022\", \"RAIL_FRT_INTERMODAL\": 1037884.0}, {\"dt\": \"03/01/2022\", \"RAIL_FRT_INTERMODAL\": 1184841.0}, {\"dt\": \"04/01/2022\", \"RAIL_FRT_INTERMODAL\": 1160360.0}, {\"dt\": \"05/01/2022\", \"RAIL_FRT_INTERMODAL\": 1209803.0}, {\"dt\": \"06/01/2022\", \"RAIL_FRT_INTERMODAL\": 1139953.0}, {\"dt\": \"07/01/2022\", \"RAIL_FRT_INTERMODAL\": 1147820.0}, {\"dt\": \"08/01/2022\", \"RAIL_FRT_INTERMODAL\": 1181201.0}, {\"dt\": \"09/01/2022\", \"RAIL_FRT_INTERMODAL\": 1090378.0}, {\"dt\": \"10/01/2022\", \"RAIL_FRT_INTERMODAL\": 1173723.0}, {\"dt\": \"11/01/2022\", \"RAIL_FRT_INTERMODAL\": 1047412.0}]}}, {\"mode\": \"vega-lite\"});\n",
       "</script>"
      ],
      "text/plain": [
       "alt.VConcatChart(...)"
      ]
     },
     "execution_count": 7,
     "metadata": {},
     "output_type": "execute_result"
    }
   ],
   "source": [
    "doComboChart(df_af, metric='RAIL_FRT_INTERMODAL', title='US Rail Freight Intermodal', label='Carloads')"
   ]
  },
  {
   "cell_type": "markdown",
   "metadata": {},
   "source": [
    "## Vehicle Miles Traveled"
   ]
  },
  {
   "cell_type": "code",
   "execution_count": 8,
   "metadata": {
    "execution": {
     "iopub.execute_input": "2023-04-08T00:56:11.777242Z",
     "iopub.status.busy": "2023-04-08T00:56:11.776763Z",
     "iopub.status.idle": "2023-04-08T00:56:11.910730Z",
     "shell.execute_reply": "2023-04-08T00:56:11.909790Z"
    }
   },
   "outputs": [
    {
     "data": {
      "text/html": [
       "\n",
       "<div id=\"altair-viz-a1fed4569f2e4272afb9f3161fc76348\"></div>\n",
       "<script type=\"text/javascript\">\n",
       "  var VEGA_DEBUG = (typeof VEGA_DEBUG == \"undefined\") ? {} : VEGA_DEBUG;\n",
       "  (function(spec, embedOpt){\n",
       "    let outputDiv = document.currentScript.previousElementSibling;\n",
       "    if (outputDiv.id !== \"altair-viz-a1fed4569f2e4272afb9f3161fc76348\") {\n",
       "      outputDiv = document.getElementById(\"altair-viz-a1fed4569f2e4272afb9f3161fc76348\");\n",
       "    }\n",
       "    const paths = {\n",
       "      \"vega\": \"https://cdn.jsdelivr.net/npm//vega@5?noext\",\n",
       "      \"vega-lib\": \"https://cdn.jsdelivr.net/npm//vega-lib?noext\",\n",
       "      \"vega-lite\": \"https://cdn.jsdelivr.net/npm//vega-lite@4.17.0?noext\",\n",
       "      \"vega-embed\": \"https://cdn.jsdelivr.net/npm//vega-embed@6?noext\",\n",
       "    };\n",
       "\n",
       "    function maybeLoadScript(lib, version) {\n",
       "      var key = `${lib.replace(\"-\", \"\")}_version`;\n",
       "      return (VEGA_DEBUG[key] == version) ?\n",
       "        Promise.resolve(paths[lib]) :\n",
       "        new Promise(function(resolve, reject) {\n",
       "          var s = document.createElement('script');\n",
       "          document.getElementsByTagName(\"head\")[0].appendChild(s);\n",
       "          s.async = true;\n",
       "          s.onload = () => {\n",
       "            VEGA_DEBUG[key] = version;\n",
       "            return resolve(paths[lib]);\n",
       "          };\n",
       "          s.onerror = () => reject(`Error loading script: ${paths[lib]}`);\n",
       "          s.src = paths[lib];\n",
       "        });\n",
       "    }\n",
       "\n",
       "    function showError(err) {\n",
       "      outputDiv.innerHTML = `<div class=\"error\" style=\"color:red;\">${err}</div>`;\n",
       "      throw err;\n",
       "    }\n",
       "\n",
       "    function displayChart(vegaEmbed) {\n",
       "      vegaEmbed(outputDiv, spec, embedOpt)\n",
       "        .catch(err => showError(`Javascript Error: ${err.message}<br>This usually means there's a typo in your chart specification. See the javascript console for the full traceback.`));\n",
       "    }\n",
       "\n",
       "    if(typeof define === \"function\" && define.amd) {\n",
       "      requirejs.config({paths});\n",
       "      require([\"vega-embed\"], displayChart, err => showError(`Error loading script: ${err.message}`));\n",
       "    } else {\n",
       "      maybeLoadScript(\"vega\", \"5\")\n",
       "        .then(() => maybeLoadScript(\"vega-lite\", \"4.17.0\"))\n",
       "        .then(() => maybeLoadScript(\"vega-embed\", \"6\"))\n",
       "        .catch(showError)\n",
       "        .then(() => displayChart(vegaEmbed));\n",
       "    }\n",
       "  })({\"config\": {\"view\": {\"continuousWidth\": 400, \"continuousHeight\": 300}}, \"vconcat\": [{\"mark\": {\"type\": \"bar\", \"color\": \"blue\", \"width\": 2}, \"encoding\": {\"color\": {\"condition\": {\"value\": \"lightsalmon\", \"test\": \"datum['yoy'] < 0\"}, \"value\": \"royalblue\"}, \"tooltip\": [{\"field\": \"dt\", \"format\": \"%b %Y\", \"type\": \"temporal\"}, {\"field\": \"VMT\", \"format\": \",.02f\", \"type\": \"quantitative\"}], \"x\": {\"axis\": {\"title\": \"\"}, \"field\": \"dt\", \"impute\": {\"value\": null}, \"scale\": {\"domain\": {\"selection\": \"selector005\"}}, \"type\": \"temporal\"}, \"y\": {\"axis\": {\"title\": \"Year-over-Year Growth [%]\"}, \"field\": \"yoy\", \"impute\": {\"keyvals\": [400, 1000], \"method\": \"value\"}, \"type\": \"quantitative\"}}, \"height\": 400, \"title\": \"US Vehicle Miles Travels\", \"transform\": [{\"window\": [{\"op\": \"lag\", \"field\": \"VMT\", \"param\": 12, \"as\": \"previous\"}], \"sort\": [{\"field\": \"dt\"}]}, {\"calculate\": \"((datum['VMT'] - datum.previous) / datum.previous) * 100\", \"as\": \"yoy\"}], \"width\": 750}, {\"mark\": {\"type\": \"line\", \"color\": \"purple\"}, \"encoding\": {\"tooltip\": [{\"field\": \"dt\", \"format\": \"%b %Y\", \"type\": \"temporal\"}, {\"field\": \"VMT\", \"format\": \",.02f\", \"type\": \"quantitative\"}], \"x\": {\"axis\": {\"title\": \"\"}, \"field\": \"dt\", \"type\": \"temporal\"}, \"y\": {\"axis\": {\"title\": \"Miles\"}, \"field\": \"VMT\", \"type\": \"quantitative\"}}, \"height\": 100, \"selection\": {\"selector005\": {\"type\": \"interval\", \"encodings\": [\"x\"]}}, \"width\": 750}], \"background\": \"white\", \"data\": {\"name\": \"data-711691f4d7b48a7ec0d76e7b1a37d968\"}, \"$schema\": \"https://vega.github.io/schema/vega-lite/v4.17.0.json\", \"datasets\": {\"data-711691f4d7b48a7ec0d76e7b1a37d968\": [{\"dt\": \"01/01/2000\", \"VMT\": 203442}, {\"dt\": \"02/01/2000\", \"VMT\": 199261}, {\"dt\": \"03/01/2000\", \"VMT\": 232490}, {\"dt\": \"04/01/2000\", \"VMT\": 227698}, {\"dt\": \"05/01/2000\", \"VMT\": 242501}, {\"dt\": \"06/01/2000\", \"VMT\": 242963}, {\"dt\": \"07/01/2000\", \"VMT\": 245140}, {\"dt\": \"08/01/2000\", \"VMT\": 247832}, {\"dt\": \"09/01/2000\", \"VMT\": 227899}, {\"dt\": \"10/01/2000\", \"VMT\": 236491}, {\"dt\": \"11/01/2000\", \"VMT\": 222819}, {\"dt\": \"12/01/2000\", \"VMT\": 218390}, {\"dt\": \"01/01/2001\", \"VMT\": 209685}, {\"dt\": \"02/01/2001\", \"VMT\": 200876}, {\"dt\": \"03/01/2001\", \"VMT\": 232587}, {\"dt\": \"04/01/2001\", \"VMT\": 232513}, {\"dt\": \"05/01/2001\", \"VMT\": 245357}, {\"dt\": \"06/01/2001\", \"VMT\": 243498}, {\"dt\": \"07/01/2001\", \"VMT\": 250363}, {\"dt\": \"08/01/2001\", \"VMT\": 253274}, {\"dt\": \"09/01/2001\", \"VMT\": 226312}, {\"dt\": \"10/01/2001\", \"VMT\": 241050}, {\"dt\": \"11/01/2001\", \"VMT\": 230511}, {\"dt\": \"12/01/2001\", \"VMT\": 229584}, {\"dt\": \"01/01/2002\", \"VMT\": 215215}, {\"dt\": \"02/01/2002\", \"VMT\": 208237}, {\"dt\": \"03/01/2002\", \"VMT\": 236070}, {\"dt\": \"04/01/2002\", \"VMT\": 237226}, {\"dt\": \"05/01/2002\", \"VMT\": 251746}, {\"dt\": \"06/01/2002\", \"VMT\": 247868}, {\"dt\": \"07/01/2002\", \"VMT\": 256392}, {\"dt\": \"08/01/2002\", \"VMT\": 258666}, {\"dt\": \"09/01/2002\", \"VMT\": 233625}, {\"dt\": \"10/01/2002\", \"VMT\": 245556}, {\"dt\": \"11/01/2002\", \"VMT\": 230648}, {\"dt\": \"12/01/2002\", \"VMT\": 234260}, {\"dt\": \"01/01/2003\", \"VMT\": 218534}, {\"dt\": \"02/01/2003\", \"VMT\": 203677}, {\"dt\": \"03/01/2003\", \"VMT\": 236679}, {\"dt\": \"04/01/2003\", \"VMT\": 239415}, {\"dt\": \"05/01/2003\", \"VMT\": 253244}, {\"dt\": \"06/01/2003\", \"VMT\": 252145}, {\"dt\": \"07/01/2003\", \"VMT\": 262105}, {\"dt\": \"08/01/2003\", \"VMT\": 260687}, {\"dt\": \"09/01/2003\", \"VMT\": 237451}, {\"dt\": \"10/01/2003\", \"VMT\": 254048}, {\"dt\": \"11/01/2003\", \"VMT\": 233698}, {\"dt\": \"12/01/2003\", \"VMT\": 238538}, {\"dt\": \"01/01/2004\", \"VMT\": 222450}, {\"dt\": \"02/01/2004\", \"VMT\": 213709}, {\"dt\": \"03/01/2004\", \"VMT\": 251403}, {\"dt\": \"04/01/2004\", \"VMT\": 250968}, {\"dt\": \"05/01/2004\", \"VMT\": 257235}, {\"dt\": \"06/01/2004\", \"VMT\": 257383}, {\"dt\": \"07/01/2004\", \"VMT\": 265969}, {\"dt\": \"08/01/2004\", \"VMT\": 262836}, {\"dt\": \"09/01/2004\", \"VMT\": 243515}, {\"dt\": \"10/01/2004\", \"VMT\": 254496}, {\"dt\": \"11/01/2004\", \"VMT\": 239796}, {\"dt\": \"12/01/2004\", \"VMT\": 245029}, {\"dt\": \"01/01/2005\", \"VMT\": 224072}, {\"dt\": \"02/01/2005\", \"VMT\": 219970}, {\"dt\": \"03/01/2005\", \"VMT\": 253182}, {\"dt\": \"04/01/2005\", \"VMT\": 250860}, {\"dt\": \"05/01/2005\", \"VMT\": 262678}, {\"dt\": \"06/01/2005\", \"VMT\": 263816}, {\"dt\": \"07/01/2005\", \"VMT\": 267025}, {\"dt\": \"08/01/2005\", \"VMT\": 265323}, {\"dt\": \"09/01/2005\", \"VMT\": 242240}, {\"dt\": \"10/01/2005\", \"VMT\": 251419}, {\"dt\": \"11/01/2005\", \"VMT\": 243056}, {\"dt\": \"12/01/2005\", \"VMT\": 245787}, {\"dt\": \"01/01/2006\", \"VMT\": 233282}, {\"dt\": \"02/01/2006\", \"VMT\": 220711}, {\"dt\": \"03/01/2006\", \"VMT\": 256623}, {\"dt\": \"04/01/2006\", \"VMT\": 250644}, {\"dt\": \"05/01/2006\", \"VMT\": 263370}, {\"dt\": \"06/01/2006\", \"VMT\": 263782}, {\"dt\": \"07/01/2006\", \"VMT\": 263421}, {\"dt\": \"08/01/2006\", \"VMT\": 265206}, {\"dt\": \"09/01/2006\", \"VMT\": 245605}, {\"dt\": \"10/01/2006\", \"VMT\": 257939}, {\"dt\": \"11/01/2006\", \"VMT\": 245346}, {\"dt\": \"12/01/2006\", \"VMT\": 248187}, {\"dt\": \"01/01/2007\", \"VMT\": 233621}, {\"dt\": \"02/01/2007\", \"VMT\": 219232}, {\"dt\": \"03/01/2007\", \"VMT\": 259638}, {\"dt\": \"04/01/2007\", \"VMT\": 252595}, {\"dt\": \"05/01/2007\", \"VMT\": 267574}, {\"dt\": \"06/01/2007\", \"VMT\": 265374}, {\"dt\": \"07/01/2007\", \"VMT\": 267106}, {\"dt\": \"08/01/2007\", \"VMT\": 271225}, {\"dt\": \"09/01/2007\", \"VMT\": 245965}, {\"dt\": \"10/01/2007\", \"VMT\": 261423}, {\"dt\": \"11/01/2007\", \"VMT\": 245787}, {\"dt\": \"12/01/2007\", \"VMT\": 240281}, {\"dt\": \"01/01/2008\", \"VMT\": 232920}, {\"dt\": \"02/01/2008\", \"VMT\": 221336}, {\"dt\": \"03/01/2008\", \"VMT\": 252343}, {\"dt\": \"04/01/2008\", \"VMT\": 252088}, {\"dt\": \"05/01/2008\", \"VMT\": 261466}, {\"dt\": \"06/01/2008\", \"VMT\": 257484}, {\"dt\": \"07/01/2008\", \"VMT\": 261600}, {\"dt\": \"08/01/2008\", \"VMT\": 260609}, {\"dt\": \"09/01/2008\", \"VMT\": 239607}, {\"dt\": \"10/01/2008\", \"VMT\": 255848}, {\"dt\": \"11/01/2008\", \"VMT\": 236465}, {\"dt\": \"12/01/2008\", \"VMT\": 241742}, {\"dt\": \"01/01/2009\", \"VMT\": 225529}, {\"dt\": \"02/01/2009\", \"VMT\": 217643}, {\"dt\": \"03/01/2009\", \"VMT\": 249741}, {\"dt\": \"04/01/2009\", \"VMT\": 251374}, {\"dt\": \"05/01/2009\", \"VMT\": 258276}, {\"dt\": \"06/01/2009\", \"VMT\": 258395}, {\"dt\": \"07/01/2009\", \"VMT\": 264472}, {\"dt\": \"08/01/2009\", \"VMT\": 260297}, {\"dt\": \"09/01/2009\", \"VMT\": 241970}, {\"dt\": \"10/01/2009\", \"VMT\": 252209}, {\"dt\": \"11/01/2009\", \"VMT\": 237264}, {\"dt\": \"12/01/2009\", \"VMT\": 239593}, {\"dt\": \"01/01/2010\", \"VMT\": 220839}, {\"dt\": \"02/01/2010\", \"VMT\": 210635}, {\"dt\": \"03/01/2010\", \"VMT\": 254238}, {\"dt\": \"04/01/2010\", \"VMT\": 253936}, {\"dt\": \"05/01/2010\", \"VMT\": 256927}, {\"dt\": \"06/01/2010\", \"VMT\": 260083}, {\"dt\": \"07/01/2010\", \"VMT\": 265315}, {\"dt\": \"08/01/2010\", \"VMT\": 263837}, {\"dt\": \"09/01/2010\", \"VMT\": 244682}, {\"dt\": \"10/01/2010\", \"VMT\": 256395}, {\"dt\": \"11/01/2010\", \"VMT\": 239579}, {\"dt\": \"12/01/2010\", \"VMT\": 240800}, {\"dt\": \"01/01/2011\", \"VMT\": 223790}, {\"dt\": \"02/01/2011\", \"VMT\": 213463}, {\"dt\": \"03/01/2011\", \"VMT\": 253124}, {\"dt\": \"04/01/2011\", \"VMT\": 249578}, {\"dt\": \"05/01/2011\", \"VMT\": 254083}, {\"dt\": \"06/01/2011\", \"VMT\": 258350}, {\"dt\": \"07/01/2011\", \"VMT\": 260175}, {\"dt\": \"08/01/2011\", \"VMT\": 260526}, {\"dt\": \"09/01/2011\", \"VMT\": 242062}, {\"dt\": \"10/01/2011\", \"VMT\": 251906}, {\"dt\": \"11/01/2011\", \"VMT\": 238535}, {\"dt\": \"12/01/2011\", \"VMT\": 244810}, {\"dt\": \"01/01/2012\", \"VMT\": 227527}, {\"dt\": \"02/01/2012\", \"VMT\": 218196}, {\"dt\": \"03/01/2012\", \"VMT\": 256166}, {\"dt\": \"04/01/2012\", \"VMT\": 249394}, {\"dt\": \"05/01/2012\", \"VMT\": 260774}, {\"dt\": \"06/01/2012\", \"VMT\": 260376}, {\"dt\": \"07/01/2012\", \"VMT\": 260244}, {\"dt\": \"08/01/2012\", \"VMT\": 264379}, {\"dt\": \"09/01/2012\", \"VMT\": 238867}, {\"dt\": \"10/01/2012\", \"VMT\": 253574}, {\"dt\": \"11/01/2012\", \"VMT\": 240361}, {\"dt\": \"12/01/2012\", \"VMT\": 238709}, {\"dt\": \"01/01/2013\", \"VMT\": 229419}, {\"dt\": \"02/01/2013\", \"VMT\": 215803}, {\"dt\": \"03/01/2013\", \"VMT\": 253026}, {\"dt\": \"04/01/2013\", \"VMT\": 252064}, {\"dt\": \"05/01/2013\", \"VMT\": 263406}, {\"dt\": \"06/01/2013\", \"VMT\": 259980}, {\"dt\": \"07/01/2013\", \"VMT\": 263946}, {\"dt\": \"08/01/2013\", \"VMT\": 268061}, {\"dt\": \"09/01/2013\", \"VMT\": 242536}, {\"dt\": \"10/01/2013\", \"VMT\": 258748}, {\"dt\": \"11/01/2013\", \"VMT\": 240055}, {\"dt\": \"12/01/2013\", \"VMT\": 241237}, {\"dt\": \"01/01/2014\", \"VMT\": 226413}, {\"dt\": \"02/01/2014\", \"VMT\": 213949}, {\"dt\": \"03/01/2014\", \"VMT\": 253424}, {\"dt\": \"04/01/2014\", \"VMT\": 256736}, {\"dt\": \"05/01/2014\", \"VMT\": 266237}, {\"dt\": \"06/01/2014\", \"VMT\": 263459}, {\"dt\": \"07/01/2014\", \"VMT\": 270053}, {\"dt\": \"08/01/2014\", \"VMT\": 268831}, {\"dt\": \"09/01/2014\", \"VMT\": 247688}, {\"dt\": \"10/01/2014\", \"VMT\": 265144}, {\"dt\": \"11/01/2014\", \"VMT\": 241451}, {\"dt\": \"12/01/2014\", \"VMT\": 252271}, {\"dt\": \"01/01/2015\", \"VMT\": 233498}, {\"dt\": \"02/01/2015\", \"VMT\": 217220}, {\"dt\": \"03/01/2015\", \"VMT\": 258017}, {\"dt\": \"04/01/2015\", \"VMT\": 262817}, {\"dt\": \"05/01/2015\", \"VMT\": 270839}, {\"dt\": \"06/01/2015\", \"VMT\": 270574}, {\"dt\": \"07/01/2015\", \"VMT\": 278372}, {\"dt\": \"08/01/2015\", \"VMT\": 272209}, {\"dt\": \"09/01/2015\", \"VMT\": 255090}, {\"dt\": \"10/01/2015\", \"VMT\": 268469}, {\"dt\": \"11/01/2015\", \"VMT\": 248843}, {\"dt\": \"12/01/2015\", \"VMT\": 259424}, {\"dt\": \"01/01/2016\", \"VMT\": 239679}, {\"dt\": \"02/01/2016\", \"VMT\": 223011}, {\"dt\": \"03/01/2016\", \"VMT\": 265147}, {\"dt\": \"04/01/2016\", \"VMT\": 269653}, {\"dt\": \"05/01/2016\", \"VMT\": 277972}, {\"dt\": \"06/01/2016\", \"VMT\": 276991}, {\"dt\": \"07/01/2016\", \"VMT\": 285160}, {\"dt\": \"08/01/2016\", \"VMT\": 279213}, {\"dt\": \"09/01/2016\", \"VMT\": 262039}, {\"dt\": \"10/01/2016\", \"VMT\": 275610}, {\"dt\": \"11/01/2016\", \"VMT\": 255154}, {\"dt\": \"12/01/2016\", \"VMT\": 264778}, {\"dt\": \"01/01/2017\", \"VMT\": 242600}, {\"dt\": \"02/01/2017\", \"VMT\": 225644}, {\"dt\": \"03/01/2017\", \"VMT\": 268343}, {\"dt\": \"04/01/2017\", \"VMT\": 272864}, {\"dt\": \"05/01/2017\", \"VMT\": 281264}, {\"dt\": \"06/01/2017\", \"VMT\": 280290}, {\"dt\": \"07/01/2017\", \"VMT\": 288566}, {\"dt\": \"08/01/2017\", \"VMT\": 282558}, {\"dt\": \"09/01/2017\", \"VMT\": 265212}, {\"dt\": \"10/01/2017\", \"VMT\": 278888}, {\"dt\": \"11/01/2017\", \"VMT\": 258159}, {\"dt\": \"12/01/2017\", \"VMT\": 267958}, {\"dt\": \"01/01/2018\", \"VMT\": 244736}, {\"dt\": \"02/01/2018\", \"VMT\": 227759}, {\"dt\": \"03/01/2018\", \"VMT\": 270705}, {\"dt\": \"04/01/2018\", \"VMT\": 275127}, {\"dt\": \"05/01/2018\", \"VMT\": 283713}, {\"dt\": \"06/01/2018\", \"VMT\": 282648}, {\"dt\": \"07/01/2018\", \"VMT\": 290989}, {\"dt\": \"08/01/2018\", \"VMT\": 284989}, {\"dt\": \"09/01/2018\", \"VMT\": 267434}, {\"dt\": \"10/01/2018\", \"VMT\": 281382}, {\"dt\": \"11/01/2018\", \"VMT\": 260473}, {\"dt\": \"12/01/2018\", \"VMT\": 270370}, {\"dt\": \"01/01/2019\", \"VMT\": 248927}, {\"dt\": \"02/01/2019\", \"VMT\": 231791}, {\"dt\": \"03/01/2019\", \"VMT\": 272379}, {\"dt\": \"04/01/2019\", \"VMT\": 273413}, {\"dt\": \"05/01/2019\", \"VMT\": 289711}, {\"dt\": \"06/01/2019\", \"VMT\": 281359}, {\"dt\": \"07/01/2019\", \"VMT\": 291520}, {\"dt\": \"08/01/2019\", \"VMT\": 293308}, {\"dt\": \"09/01/2019\", \"VMT\": 273319}, {\"dt\": \"10/01/2019\", \"VMT\": 283961}, {\"dt\": \"11/01/2019\", \"VMT\": 260326}, {\"dt\": \"12/01/2019\", \"VMT\": 261757}, {\"dt\": \"01/01/2020\", \"VMT\": 260847}, {\"dt\": \"02/01/2020\", \"VMT\": 242695}, {\"dt\": \"03/01/2020\", \"VMT\": 226638}, {\"dt\": \"04/01/2020\", \"VMT\": 167617}, {\"dt\": \"05/01/2020\", \"VMT\": 221006}, {\"dt\": \"06/01/2020\", \"VMT\": 250330}, {\"dt\": \"07/01/2020\", \"VMT\": 265550}, {\"dt\": \"08/01/2020\", \"VMT\": 265060}, {\"dt\": \"09/01/2020\", \"VMT\": 257531}, {\"dt\": \"10/01/2020\", \"VMT\": 266596}, {\"dt\": \"11/01/2020\", \"VMT\": 238300}, {\"dt\": \"12/01/2020\", \"VMT\": 241451}, {\"dt\": \"01/01/2021\", \"VMT\": 224959}, {\"dt\": \"02/01/2021\", \"VMT\": 207160}, {\"dt\": \"03/01/2021\", \"VMT\": 262065}, {\"dt\": \"04/01/2021\", \"VMT\": 252218}, {\"dt\": \"05/01/2021\", \"VMT\": 276639}, {\"dt\": \"06/01/2021\", \"VMT\": 279209}, {\"dt\": \"07/01/2021\", \"VMT\": 288443}, {\"dt\": \"08/01/2021\", \"VMT\": 279596}, {\"dt\": \"09/01/2021\", \"VMT\": 270461}, {\"dt\": \"10/01/2021\", \"VMT\": 277877}, {\"dt\": \"11/01/2021\", \"VMT\": 260433}, {\"dt\": \"12/01/2021\", \"VMT\": 261028}, {\"dt\": \"01/01/2022\", \"VMT\": 234099}, {\"dt\": \"02/01/2022\", \"VMT\": 229249}, {\"dt\": \"03/01/2022\", \"VMT\": 269479}, {\"dt\": \"04/01/2022\", \"VMT\": 255990}, {\"dt\": \"05/01/2022\", \"VMT\": 280325}, {\"dt\": \"06/01/2022\", \"VMT\": 274869}, {\"dt\": \"07/01/2022\", \"VMT\": 279301}, {\"dt\": \"08/01/2022\", \"VMT\": 281657}, {\"dt\": \"09/01/2022\", \"VMT\": 273148}, {\"dt\": \"10/01/2022\", \"VMT\": 277934}, {\"dt\": \"11/01/2022\", \"VMT\": 256954}, {\"dt\": \"12/01/2022\", \"VMT\": 256430}]}}, {\"mode\": \"vega-lite\"});\n",
       "</script>"
      ],
      "text/plain": [
       "alt.VConcatChart(...)"
      ]
     },
     "execution_count": 8,
     "metadata": {},
     "output_type": "execute_result"
    }
   ],
   "source": [
    "doComboChart(df_af, metric='VMT', title='US Vehicle Miles Travels', label='Miles')"
   ]
  }
 ],
 "metadata": {
  "kernelspec": {
   "display_name": "Python 3",
   "language": "python",
   "name": "python3"
  },
  "language_info": {
   "codemirror_mode": {
    "name": "ipython",
    "version": 3
   },
   "file_extension": ".py",
   "mimetype": "text/x-python",
   "name": "python",
   "nbconvert_exporter": "python",
   "pygments_lexer": "ipython3",
   "version": "3.9.16"
  }
 },
 "nbformat": 4,
 "nbformat_minor": 4
}
